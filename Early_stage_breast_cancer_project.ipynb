{
  "nbformat": 4,
  "nbformat_minor": 0,
  "metadata": {
    "colab": {
      "name": "Early-stage_breast_cancer_project.ipynb",
      "version": "0.3.2",
      "provenance": [],
      "collapsed_sections": []
    },
    "kernelspec": {
      "name": "python3",
      "display_name": "Python 3"
    },
    "accelerator": "TPU"
  },
  "cells": [
    {
      "metadata": {
        "id": "c0iLFmJIw3sP",
        "colab_type": "text"
      },
      "cell_type": "markdown",
      "source": [
        "## Project\n",
        "We have collected gene expression levels for $4654$ genes on $184$ early-stage breast cancer samples: **xtrain.txt** (each row is a gene, each column a sample). After surgical removal of the tumour, some unfortunately relapsed within $5$ years (label=$+1$), while other did not (label=$-1$). The labels of the the $184$ samples are available in the file **ytrain.txt**.\n",
        "\n",
        "- Propose and test different techniques to predict the relapse from gene expression data. Check the effect of parameters, estimate the performance.\n",
        "- Make a prediction of relapse for the following $92$ samples: **xtest.txt**."
      ]
    },
    {
      "metadata": {
        "id": "jFJHhOUIw6TT",
        "colab_type": "code",
        "colab": {}
      },
      "cell_type": "code",
      "source": [
        "# import library\n",
        "\n",
        "import numpy as np\n",
        "import pandas as pd\n",
        "import seaborn as sns\n",
        "import matplotlib.pyplot as plt\n",
        "from matplotlib import cm as cm\n",
        "\n",
        "\n",
        "from sklearn.ensemble import RandomForestClassifier\n",
        "from sklearn.ensemble import GradientBoostingClassifier\n",
        "from sklearn.ensemble import VotingClassifier\n",
        "from sklearn.ensemble import AdaBoostClassifier\n",
        "\n",
        "from sklearn.tree import DecisionTreeClassifier\n",
        "from sklearn.svm  import SVC, NuSVC\n",
        "from sklearn.linear_model import LogisticRegression\n",
        "from sklearn.linear_model import LogisticRegressionCV\n",
        "from sklearn.neighbors import KNeighborsClassifier\n",
        "\n",
        "from sklearn.metrics import classification_report\n",
        "from sklearn.metrics import confusion_matrix\n",
        "from sklearn.metrics import accuracy_score\n",
        "from sklearn.metrics import roc_auc_score\n",
        "\n",
        "from sklearn.model_selection import train_test_split\n",
        "from sklearn.model_selection import cross_val_score\n",
        "from sklearn.model_selection import KFold\n",
        "from sklearn.model_selection import GridSearchCV\n",
        "\n",
        "from sklearn.preprocessing import StandardScaler\n",
        "from sklearn.datasets import make_regression\n",
        "\n",
        "import time\n",
        "from sklearn import metrics \n",
        "from IPython.display import Image, display\n",
        "np.random.seed(7)\n",
        "\n",
        "import warnings\n",
        "warnings.filterwarnings(\"ignore\", category=FutureWarning)"
      ],
      "execution_count": 0,
      "outputs": []
    },
    {
      "metadata": {
        "id": "lYn9YZnDcaFp",
        "colab_type": "text"
      },
      "cell_type": "markdown",
      "source": [
        "### load data"
      ]
    },
    {
      "metadata": {
        "id": "GhSuD1Nsw6c6",
        "colab_type": "code",
        "outputId": "38706d0c-0a32-439c-da15-ace27271e969",
        "colab": {
          "resources": {
            "http://localhost:8080/nbextensions/google.colab/files.js": {
              "data": "Ly8gQ29weXJpZ2h0IDIwMTcgR29vZ2xlIExMQwovLwovLyBMaWNlbnNlZCB1bmRlciB0aGUgQXBhY2hlIExpY2Vuc2UsIFZlcnNpb24gMi4wICh0aGUgIkxpY2Vuc2UiKTsKLy8geW91IG1heSBub3QgdXNlIHRoaXMgZmlsZSBleGNlcHQgaW4gY29tcGxpYW5jZSB3aXRoIHRoZSBMaWNlbnNlLgovLyBZb3UgbWF5IG9idGFpbiBhIGNvcHkgb2YgdGhlIExpY2Vuc2UgYXQKLy8KLy8gICAgICBodHRwOi8vd3d3LmFwYWNoZS5vcmcvbGljZW5zZXMvTElDRU5TRS0yLjAKLy8KLy8gVW5sZXNzIHJlcXVpcmVkIGJ5IGFwcGxpY2FibGUgbGF3IG9yIGFncmVlZCB0byBpbiB3cml0aW5nLCBzb2Z0d2FyZQovLyBkaXN0cmlidXRlZCB1bmRlciB0aGUgTGljZW5zZSBpcyBkaXN0cmlidXRlZCBvbiBhbiAiQVMgSVMiIEJBU0lTLAovLyBXSVRIT1VUIFdBUlJBTlRJRVMgT1IgQ09ORElUSU9OUyBPRiBBTlkgS0lORCwgZWl0aGVyIGV4cHJlc3Mgb3IgaW1wbGllZC4KLy8gU2VlIHRoZSBMaWNlbnNlIGZvciB0aGUgc3BlY2lmaWMgbGFuZ3VhZ2UgZ292ZXJuaW5nIHBlcm1pc3Npb25zIGFuZAovLyBsaW1pdGF0aW9ucyB1bmRlciB0aGUgTGljZW5zZS4KCi8qKgogKiBAZmlsZW92ZXJ2aWV3IEhlbHBlcnMgZm9yIGdvb2dsZS5jb2xhYiBQeXRob24gbW9kdWxlLgogKi8KKGZ1bmN0aW9uKHNjb3BlKSB7CmZ1bmN0aW9uIHNwYW4odGV4dCwgc3R5bGVBdHRyaWJ1dGVzID0ge30pIHsKICBjb25zdCBlbGVtZW50ID0gZG9jdW1lbnQuY3JlYXRlRWxlbWVudCgnc3BhbicpOwogIGVsZW1lbnQudGV4dENvbnRlbnQgPSB0ZXh0OwogIGZvciAoY29uc3Qga2V5IG9mIE9iamVjdC5rZXlzKHN0eWxlQXR0cmlidXRlcykpIHsKICAgIGVsZW1lbnQuc3R5bGVba2V5XSA9IHN0eWxlQXR0cmlidXRlc1trZXldOwogIH0KICByZXR1cm4gZWxlbWVudDsKfQoKLy8gTWF4IG51bWJlciBvZiBieXRlcyB3aGljaCB3aWxsIGJlIHVwbG9hZGVkIGF0IGEgdGltZS4KY29uc3QgTUFYX1BBWUxPQURfU0laRSA9IDEwMCAqIDEwMjQ7Ci8vIE1heCBhbW91bnQgb2YgdGltZSB0byBibG9jayB3YWl0aW5nIGZvciB0aGUgdXNlci4KY29uc3QgRklMRV9DSEFOR0VfVElNRU9VVF9NUyA9IDMwICogMTAwMDsKCmZ1bmN0aW9uIF91cGxvYWRGaWxlcyhpbnB1dElkLCBvdXRwdXRJZCkgewogIGNvbnN0IHN0ZXBzID0gdXBsb2FkRmlsZXNTdGVwKGlucHV0SWQsIG91dHB1dElkKTsKICBjb25zdCBvdXRwdXRFbGVtZW50ID0gZG9jdW1lbnQuZ2V0RWxlbWVudEJ5SWQob3V0cHV0SWQpOwogIC8vIENhY2hlIHN0ZXBzIG9uIHRoZSBvdXRwdXRFbGVtZW50IHRvIG1ha2UgaXQgYXZhaWxhYmxlIGZvciB0aGUgbmV4dCBjYWxsCiAgLy8gdG8gdXBsb2FkRmlsZXNDb250aW51ZSBmcm9tIFB5dGhvbi4KICBvdXRwdXRFbGVtZW50LnN0ZXBzID0gc3RlcHM7CgogIHJldHVybiBfdXBsb2FkRmlsZXNDb250aW51ZShvdXRwdXRJZCk7Cn0KCi8vIFRoaXMgaXMgcm91Z2hseSBhbiBhc3luYyBnZW5lcmF0b3IgKG5vdCBzdXBwb3J0ZWQgaW4gdGhlIGJyb3dzZXIgeWV0KSwKLy8gd2hlcmUgdGhlcmUgYXJlIG11bHRpcGxlIGFzeW5jaHJvbm91cyBzdGVwcyBhbmQgdGhlIFB5dGhvbiBzaWRlIGlzIGdvaW5nCi8vIHRvIHBvbGwgZm9yIGNvbXBsZXRpb24gb2YgZWFjaCBzdGVwLgovLyBUaGlzIHVzZXMgYSBQcm9taXNlIHRvIGJsb2NrIHRoZSBweXRob24gc2lkZSBvbiBjb21wbGV0aW9uIG9mIGVhY2ggc3RlcCwKLy8gdGhlbiBwYXNzZXMgdGhlIHJlc3VsdCBvZiB0aGUgcHJldmlvdXMgc3RlcCBhcyB0aGUgaW5wdXQgdG8gdGhlIG5leHQgc3RlcC4KZnVuY3Rpb24gX3VwbG9hZEZpbGVzQ29udGludWUob3V0cHV0SWQpIHsKICBjb25zdCBvdXRwdXRFbGVtZW50ID0gZG9jdW1lbnQuZ2V0RWxlbWVudEJ5SWQob3V0cHV0SWQpOwogIGNvbnN0IHN0ZXBzID0gb3V0cHV0RWxlbWVudC5zdGVwczsKCiAgY29uc3QgbmV4dCA9IHN0ZXBzLm5leHQob3V0cHV0RWxlbWVudC5sYXN0UHJvbWlzZVZhbHVlKTsKICByZXR1cm4gUHJvbWlzZS5yZXNvbHZlKG5leHQudmFsdWUucHJvbWlzZSkudGhlbigodmFsdWUpID0+IHsKICAgIC8vIENhY2hlIHRoZSBsYXN0IHByb21pc2UgdmFsdWUgdG8gbWFrZSBpdCBhdmFpbGFibGUgdG8gdGhlIG5leHQKICAgIC8vIHN0ZXAgb2YgdGhlIGdlbmVyYXRvci4KICAgIG91dHB1dEVsZW1lbnQubGFzdFByb21pc2VWYWx1ZSA9IHZhbHVlOwogICAgcmV0dXJuIG5leHQudmFsdWUucmVzcG9uc2U7CiAgfSk7Cn0KCi8qKgogKiBHZW5lcmF0b3IgZnVuY3Rpb24gd2hpY2ggaXMgY2FsbGVkIGJldHdlZW4gZWFjaCBhc3luYyBzdGVwIG9mIHRoZSB1cGxvYWQKICogcHJvY2Vzcy4KICogQHBhcmFtIHtzdHJpbmd9IGlucHV0SWQgRWxlbWVudCBJRCBvZiB0aGUgaW5wdXQgZmlsZSBwaWNrZXIgZWxlbWVudC4KICogQHBhcmFtIHtzdHJpbmd9IG91dHB1dElkIEVsZW1lbnQgSUQgb2YgdGhlIG91dHB1dCBkaXNwbGF5LgogKiBAcmV0dXJuIHshSXRlcmFibGU8IU9iamVjdD59IEl0ZXJhYmxlIG9mIG5leHQgc3RlcHMuCiAqLwpmdW5jdGlvbiogdXBsb2FkRmlsZXNTdGVwKGlucHV0SWQsIG91dHB1dElkKSB7CiAgY29uc3QgaW5wdXRFbGVtZW50ID0gZG9jdW1lbnQuZ2V0RWxlbWVudEJ5SWQoaW5wdXRJZCk7CiAgaW5wdXRFbGVtZW50LmRpc2FibGVkID0gZmFsc2U7CgogIGNvbnN0IG91dHB1dEVsZW1lbnQgPSBkb2N1bWVudC5nZXRFbGVtZW50QnlJZChvdXRwdXRJZCk7CiAgb3V0cHV0RWxlbWVudC5pbm5lckhUTUwgPSAnJzsKCiAgY29uc3QgcGlja2VkUHJvbWlzZSA9IG5ldyBQcm9taXNlKChyZXNvbHZlKSA9PiB7CiAgICBpbnB1dEVsZW1lbnQuYWRkRXZlbnRMaXN0ZW5lcignY2hhbmdlJywgKGUpID0+IHsKICAgICAgcmVzb2x2ZShlLnRhcmdldC5maWxlcyk7CiAgICB9KTsKICB9KTsKCiAgY29uc3QgY2FuY2VsID0gZG9jdW1lbnQuY3JlYXRlRWxlbWVudCgnYnV0dG9uJyk7CiAgaW5wdXRFbGVtZW50LnBhcmVudEVsZW1lbnQuYXBwZW5kQ2hpbGQoY2FuY2VsKTsKICBjYW5jZWwudGV4dENvbnRlbnQgPSAnQ2FuY2VsIHVwbG9hZCc7CiAgY29uc3QgY2FuY2VsUHJvbWlzZSA9IG5ldyBQcm9taXNlKChyZXNvbHZlKSA9PiB7CiAgICBjYW5jZWwub25jbGljayA9ICgpID0+IHsKICAgICAgcmVzb2x2ZShudWxsKTsKICAgIH07CiAgfSk7CgogIC8vIENhbmNlbCB1cGxvYWQgaWYgdXNlciBoYXNuJ3QgcGlja2VkIGFueXRoaW5nIGluIHRpbWVvdXQuCiAgY29uc3QgdGltZW91dFByb21pc2UgPSBuZXcgUHJvbWlzZSgocmVzb2x2ZSkgPT4gewogICAgc2V0VGltZW91dCgoKSA9PiB7CiAgICAgIHJlc29sdmUobnVsbCk7CiAgICB9LCBGSUxFX0NIQU5HRV9USU1FT1VUX01TKTsKICB9KTsKCiAgLy8gV2FpdCBmb3IgdGhlIHVzZXIgdG8gcGljayB0aGUgZmlsZXMuCiAgY29uc3QgZmlsZXMgPSB5aWVsZCB7CiAgICBwcm9taXNlOiBQcm9taXNlLnJhY2UoW3BpY2tlZFByb21pc2UsIHRpbWVvdXRQcm9taXNlLCBjYW5jZWxQcm9taXNlXSksCiAgICByZXNwb25zZTogewogICAgICBhY3Rpb246ICdzdGFydGluZycsCiAgICB9CiAgfTsKCiAgaWYgKCFmaWxlcykgewogICAgcmV0dXJuIHsKICAgICAgcmVzcG9uc2U6IHsKICAgICAgICBhY3Rpb246ICdjb21wbGV0ZScsCiAgICAgIH0KICAgIH07CiAgfQoKICBjYW5jZWwucmVtb3ZlKCk7CgogIC8vIERpc2FibGUgdGhlIGlucHV0IGVsZW1lbnQgc2luY2UgZnVydGhlciBwaWNrcyBhcmUgbm90IGFsbG93ZWQuCiAgaW5wdXRFbGVtZW50LmRpc2FibGVkID0gdHJ1ZTsKCiAgZm9yIChjb25zdCBmaWxlIG9mIGZpbGVzKSB7CiAgICBjb25zdCBsaSA9IGRvY3VtZW50LmNyZWF0ZUVsZW1lbnQoJ2xpJyk7CiAgICBsaS5hcHBlbmQoc3BhbihmaWxlLm5hbWUsIHtmb250V2VpZ2h0OiAnYm9sZCd9KSk7CiAgICBsaS5hcHBlbmQoc3BhbigKICAgICAgICBgKCR7ZmlsZS50eXBlIHx8ICduL2EnfSkgLSAke2ZpbGUuc2l6ZX0gYnl0ZXMsIGAgKwogICAgICAgIGBsYXN0IG1vZGlmaWVkOiAkewogICAgICAgICAgICBmaWxlLmxhc3RNb2RpZmllZERhdGUgPyBmaWxlLmxhc3RNb2RpZmllZERhdGUudG9Mb2NhbGVEYXRlU3RyaW5nKCkgOgogICAgICAgICAgICAgICAgICAgICAgICAgICAgICAgICAgICAnbi9hJ30gLSBgKSk7CiAgICBjb25zdCBwZXJjZW50ID0gc3BhbignMCUgZG9uZScpOwogICAgbGkuYXBwZW5kQ2hpbGQocGVyY2VudCk7CgogICAgb3V0cHV0RWxlbWVudC5hcHBlbmRDaGlsZChsaSk7CgogICAgY29uc3QgZmlsZURhdGFQcm9taXNlID0gbmV3IFByb21pc2UoKHJlc29sdmUpID0+IHsKICAgICAgY29uc3QgcmVhZGVyID0gbmV3IEZpbGVSZWFkZXIoKTsKICAgICAgcmVhZGVyLm9ubG9hZCA9IChlKSA9PiB7CiAgICAgICAgcmVzb2x2ZShlLnRhcmdldC5yZXN1bHQpOwogICAgICB9OwogICAgICByZWFkZXIucmVhZEFzQXJyYXlCdWZmZXIoZmlsZSk7CiAgICB9KTsKICAgIC8vIFdhaXQgZm9yIHRoZSBkYXRhIHRvIGJlIHJlYWR5LgogICAgbGV0IGZpbGVEYXRhID0geWllbGQgewogICAgICBwcm9taXNlOiBmaWxlRGF0YVByb21pc2UsCiAgICAgIHJlc3BvbnNlOiB7CiAgICAgICAgYWN0aW9uOiAnY29udGludWUnLAogICAgICB9CiAgICB9OwoKICAgIC8vIFVzZSBhIGNodW5rZWQgc2VuZGluZyB0byBhdm9pZCBtZXNzYWdlIHNpemUgbGltaXRzLiBTZWUgYi82MjExNTY2MC4KICAgIGxldCBwb3NpdGlvbiA9IDA7CiAgICB3aGlsZSAocG9zaXRpb24gPCBmaWxlRGF0YS5ieXRlTGVuZ3RoKSB7CiAgICAgIGNvbnN0IGxlbmd0aCA9IE1hdGgubWluKGZpbGVEYXRhLmJ5dGVMZW5ndGggLSBwb3NpdGlvbiwgTUFYX1BBWUxPQURfU0laRSk7CiAgICAgIGNvbnN0IGNodW5rID0gbmV3IFVpbnQ4QXJyYXkoZmlsZURhdGEsIHBvc2l0aW9uLCBsZW5ndGgpOwogICAgICBwb3NpdGlvbiArPSBsZW5ndGg7CgogICAgICBjb25zdCBiYXNlNjQgPSBidG9hKFN0cmluZy5mcm9tQ2hhckNvZGUuYXBwbHkobnVsbCwgY2h1bmspKTsKICAgICAgeWllbGQgewogICAgICAgIHJlc3BvbnNlOiB7CiAgICAgICAgICBhY3Rpb246ICdhcHBlbmQnLAogICAgICAgICAgZmlsZTogZmlsZS5uYW1lLAogICAgICAgICAgZGF0YTogYmFzZTY0LAogICAgICAgIH0sCiAgICAgIH07CiAgICAgIHBlcmNlbnQudGV4dENvbnRlbnQgPQogICAgICAgICAgYCR7TWF0aC5yb3VuZCgocG9zaXRpb24gLyBmaWxlRGF0YS5ieXRlTGVuZ3RoKSAqIDEwMCl9JSBkb25lYDsKICAgIH0KICB9CgogIC8vIEFsbCBkb25lLgogIHlpZWxkIHsKICAgIHJlc3BvbnNlOiB7CiAgICAgIGFjdGlvbjogJ2NvbXBsZXRlJywKICAgIH0KICB9Owp9CgpzY29wZS5nb29nbGUgPSBzY29wZS5nb29nbGUgfHwge307CnNjb3BlLmdvb2dsZS5jb2xhYiA9IHNjb3BlLmdvb2dsZS5jb2xhYiB8fCB7fTsKc2NvcGUuZ29vZ2xlLmNvbGFiLl9maWxlcyA9IHsKICBfdXBsb2FkRmlsZXMsCiAgX3VwbG9hZEZpbGVzQ29udGludWUsCn07Cn0pKHNlbGYpOwo=",
              "ok": true,
              "headers": [
                [
                  "content-type",
                  "application/javascript"
                ]
              ],
              "status": 200,
              "status_text": ""
            }
          },
          "base_uri": "https://localhost:8080/",
          "height": 198
        }
      },
      "cell_type": "code",
      "source": [
        "from google.colab import files\n",
        "\n",
        "uploaded = files.upload()\n",
        "\n",
        "for fn in uploaded.keys():\n",
        "  print('User uploaded file \"{name}\" with length {length} bytes'.format(\n",
        "      name=fn, length=len(uploaded[fn])))"
      ],
      "execution_count": 3,
      "outputs": [
        {
          "output_type": "display_data",
          "data": {
            "text/html": [
              "\n",
              "     <input type=\"file\" id=\"files-5b03b1f8-261a-4b23-b317-b4d40bfc6466\" name=\"files[]\" multiple disabled />\n",
              "     <output id=\"result-5b03b1f8-261a-4b23-b317-b4d40bfc6466\">\n",
              "      Upload widget is only available when the cell has been executed in the\n",
              "      current browser session. Please rerun this cell to enable.\n",
              "      </output>\n",
              "      <script src=\"/nbextensions/google.colab/files.js\"></script> "
            ],
            "text/plain": [
              "<IPython.core.display.HTML object>"
            ]
          },
          "metadata": {
            "tags": []
          }
        },
        {
          "output_type": "stream",
          "text": [
            "Saving ytrain.txt to ytrain.txt\n",
            "Saving xtrain.txt to xtrain.txt\n",
            "Saving xtest.txt to xtest.txt\n",
            "User uploaded file \"ytrain.txt\" with length 486 bytes\n",
            "User uploaded file \"xtrain.txt\" with length 5182112 bytes\n",
            "User uploaded file \"xtest.txt\" with length 2613104 bytes\n"
          ],
          "name": "stdout"
        }
      ]
    },
    {
      "metadata": {
        "id": "U3RvQqLYw3sV",
        "colab_type": "text"
      },
      "cell_type": "markdown",
      "source": [
        "### load data"
      ]
    },
    {
      "metadata": {
        "id": "g2pKD4FFw3sW",
        "colab_type": "code",
        "colab": {}
      },
      "cell_type": "code",
      "source": [
        "def loadData(file):\n",
        "    data = pd.read_csv(file, sep=\"\\t\", header=None)\n",
        "    return data"
      ],
      "execution_count": 0,
      "outputs": []
    },
    {
      "metadata": {
        "id": "9oCEsGHqw3sZ",
        "colab_type": "code",
        "colab": {}
      },
      "cell_type": "code",
      "source": [
        "#load data\n",
        "xtrain = loadData('xtrain.txt').T\n",
        "xtest = loadData('xtest.txt').T\n",
        "ytrain = loadData('ytrain.txt').values.flatten()\n",
        "\n",
        "# take first row as columns names\n",
        "header1 = xtrain.iloc[0]\n",
        "xtrain = xtrain[1:]\n",
        "xtrain = xtrain.rename(columns = header1)\n",
        "\n",
        "header2 = xtest.iloc[0]\n",
        "xtest = xtest[1:]\n",
        "xtest = xtest.rename(columns = header2)\n"
      ],
      "execution_count": 0,
      "outputs": []
    },
    {
      "metadata": {
        "id": "vBqTakEOw3sc",
        "colab_type": "code",
        "outputId": "bd151e28-4ff7-428b-ec6f-c96606bc8be3",
        "colab": {
          "base_uri": "https://localhost:8080/",
          "height": 35
        }
      },
      "cell_type": "code",
      "source": [
        "xtrain.shape, ytrain.shape"
      ],
      "execution_count": 6,
      "outputs": [
        {
          "output_type": "execute_result",
          "data": {
            "text/plain": [
              "((184, 4654), (184,))"
            ]
          },
          "metadata": {
            "tags": []
          },
          "execution_count": 6
        }
      ]
    },
    {
      "metadata": {
        "id": "ce_PIRj_w3si",
        "colab_type": "code",
        "outputId": "e308e2ac-3caa-4583-8042-ad78a55f46a8",
        "colab": {
          "base_uri": "https://localhost:8080/",
          "height": 35
        }
      },
      "cell_type": "code",
      "source": [
        "negatif = 0\n",
        "positif = 0\n",
        "for i in range(len(ytrain)):\n",
        "    if ytrain[i] == -1:\n",
        "        negatif += 1\n",
        "    else:\n",
        "        positif += 1\n",
        "print(negatif, positif)"
      ],
      "execution_count": 7,
      "outputs": [
        {
          "output_type": "stream",
          "text": [
            "118 66\n"
          ],
          "name": "stdout"
        }
      ]
    },
    {
      "metadata": {
        "scrolled": false,
        "id": "a6fVeHH7w3sl",
        "colab_type": "code",
        "outputId": "c6577117-7124-42a8-ba0d-da8355c0eb85",
        "colab": {
          "base_uri": "https://localhost:8080/",
          "height": 253
        }
      },
      "cell_type": "code",
      "source": [
        "xtrain.head()"
      ],
      "execution_count": 8,
      "outputs": [
        {
          "output_type": "execute_result",
          "data": {
            "text/html": [
              "<div>\n",
              "<style scoped>\n",
              "    .dataframe tbody tr th:only-of-type {\n",
              "        vertical-align: middle;\n",
              "    }\n",
              "\n",
              "    .dataframe tbody tr th {\n",
              "        vertical-align: top;\n",
              "    }\n",
              "\n",
              "    .dataframe thead th {\n",
              "        text-align: right;\n",
              "    }\n",
              "</style>\n",
              "<table border=\"1\" class=\"dataframe\">\n",
              "  <thead>\n",
              "    <tr style=\"text-align: right;\">\n",
              "      <th></th>\n",
              "      <th>x10006_at</th>\n",
              "      <th>x10007_at</th>\n",
              "      <th>x100129361_at</th>\n",
              "      <th>x100130449_at</th>\n",
              "      <th>x100130633_at</th>\n",
              "      <th>x100133941_at</th>\n",
              "      <th>x10014_at</th>\n",
              "      <th>x10016_at</th>\n",
              "      <th>x100188893_at</th>\n",
              "      <th>x10019_at</th>\n",
              "      <th>...</th>\n",
              "      <th>x9976_at</th>\n",
              "      <th>x9978_at</th>\n",
              "      <th>x997_at</th>\n",
              "      <th>x9984_at</th>\n",
              "      <th>x9987_at</th>\n",
              "      <th>x9988_at</th>\n",
              "      <th>x9989_at</th>\n",
              "      <th>x9994_at</th>\n",
              "      <th>x9997_at</th>\n",
              "      <th>x9_at</th>\n",
              "    </tr>\n",
              "  </thead>\n",
              "  <tbody>\n",
              "    <tr>\n",
              "      <th>1</th>\n",
              "      <td>8.44</td>\n",
              "      <td>7.84</td>\n",
              "      <td>9.23</td>\n",
              "      <td>2.2</td>\n",
              "      <td>4.93</td>\n",
              "      <td>10.31</td>\n",
              "      <td>7.85</td>\n",
              "      <td>9.91</td>\n",
              "      <td>11.37</td>\n",
              "      <td>3.48</td>\n",
              "      <td>...</td>\n",
              "      <td>7.71</td>\n",
              "      <td>11.32</td>\n",
              "      <td>6.37</td>\n",
              "      <td>8.63</td>\n",
              "      <td>8.61</td>\n",
              "      <td>7.42</td>\n",
              "      <td>8.79</td>\n",
              "      <td>4.7</td>\n",
              "      <td>7.23</td>\n",
              "      <td>8.28</td>\n",
              "    </tr>\n",
              "    <tr>\n",
              "      <th>2</th>\n",
              "      <td>7.93</td>\n",
              "      <td>8.47</td>\n",
              "      <td>7.77</td>\n",
              "      <td>2.48</td>\n",
              "      <td>6.7</td>\n",
              "      <td>11.03</td>\n",
              "      <td>3.33</td>\n",
              "      <td>9.53</td>\n",
              "      <td>10.91</td>\n",
              "      <td>4.28</td>\n",
              "      <td>...</td>\n",
              "      <td>9.98</td>\n",
              "      <td>10.4</td>\n",
              "      <td>5.96</td>\n",
              "      <td>7.61</td>\n",
              "      <td>9.51</td>\n",
              "      <td>8.2</td>\n",
              "      <td>9.27</td>\n",
              "      <td>4.7</td>\n",
              "      <td>6.7</td>\n",
              "      <td>12.78</td>\n",
              "    </tr>\n",
              "    <tr>\n",
              "      <th>3</th>\n",
              "      <td>7.53</td>\n",
              "      <td>7.49</td>\n",
              "      <td>9.49</td>\n",
              "      <td>5.66</td>\n",
              "      <td>5.99</td>\n",
              "      <td>8.87</td>\n",
              "      <td>3.48</td>\n",
              "      <td>8.02</td>\n",
              "      <td>10.73</td>\n",
              "      <td>4.07</td>\n",
              "      <td>...</td>\n",
              "      <td>8.34</td>\n",
              "      <td>10.57</td>\n",
              "      <td>6.92</td>\n",
              "      <td>8.2</td>\n",
              "      <td>8.71</td>\n",
              "      <td>8.56</td>\n",
              "      <td>8.9</td>\n",
              "      <td>4.7</td>\n",
              "      <td>7.7</td>\n",
              "      <td>12.22</td>\n",
              "    </tr>\n",
              "    <tr>\n",
              "      <th>4</th>\n",
              "      <td>7.72</td>\n",
              "      <td>8.38</td>\n",
              "      <td>8.03</td>\n",
              "      <td>5.22</td>\n",
              "      <td>6.95</td>\n",
              "      <td>2.73</td>\n",
              "      <td>4.06</td>\n",
              "      <td>9.26</td>\n",
              "      <td>10.9</td>\n",
              "      <td>7.4</td>\n",
              "      <td>...</td>\n",
              "      <td>9.05</td>\n",
              "      <td>10.92</td>\n",
              "      <td>5.73</td>\n",
              "      <td>8.44</td>\n",
              "      <td>9.18</td>\n",
              "      <td>7.86</td>\n",
              "      <td>9.3</td>\n",
              "      <td>5.58</td>\n",
              "      <td>7.95</td>\n",
              "      <td>12.18</td>\n",
              "    </tr>\n",
              "    <tr>\n",
              "      <th>5</th>\n",
              "      <td>7.89</td>\n",
              "      <td>7.75</td>\n",
              "      <td>6.99</td>\n",
              "      <td>2.2</td>\n",
              "      <td>7.06</td>\n",
              "      <td>11.38</td>\n",
              "      <td>3.65</td>\n",
              "      <td>9.22</td>\n",
              "      <td>10.37</td>\n",
              "      <td>3.89</td>\n",
              "      <td>...</td>\n",
              "      <td>9.16</td>\n",
              "      <td>10.73</td>\n",
              "      <td>7.45</td>\n",
              "      <td>7.79</td>\n",
              "      <td>9.15</td>\n",
              "      <td>7.97</td>\n",
              "      <td>8.5</td>\n",
              "      <td>4.7</td>\n",
              "      <td>6.63</td>\n",
              "      <td>12.12</td>\n",
              "    </tr>\n",
              "  </tbody>\n",
              "</table>\n",
              "<p>5 rows × 4654 columns</p>\n",
              "</div>"
            ],
            "text/plain": [
              "  x10006_at x10007_at x100129361_at x100130449_at x100130633_at x100133941_at  \\\n",
              "1      8.44      7.84          9.23           2.2          4.93         10.31   \n",
              "2      7.93      8.47          7.77          2.48           6.7         11.03   \n",
              "3      7.53      7.49          9.49          5.66          5.99          8.87   \n",
              "4      7.72      8.38          8.03          5.22          6.95          2.73   \n",
              "5      7.89      7.75          6.99           2.2          7.06         11.38   \n",
              "\n",
              "  x10014_at x10016_at x100188893_at x10019_at  ...   x9976_at x9978_at  \\\n",
              "1      7.85      9.91         11.37      3.48  ...       7.71    11.32   \n",
              "2      3.33      9.53         10.91      4.28  ...       9.98     10.4   \n",
              "3      3.48      8.02         10.73      4.07  ...       8.34    10.57   \n",
              "4      4.06      9.26          10.9       7.4  ...       9.05    10.92   \n",
              "5      3.65      9.22         10.37      3.89  ...       9.16    10.73   \n",
              "\n",
              "  x997_at x9984_at x9987_at x9988_at x9989_at x9994_at x9997_at  x9_at  \n",
              "1    6.37     8.63     8.61     7.42     8.79      4.7     7.23   8.28  \n",
              "2    5.96     7.61     9.51      8.2     9.27      4.7      6.7  12.78  \n",
              "3    6.92      8.2     8.71     8.56      8.9      4.7      7.7  12.22  \n",
              "4    5.73     8.44     9.18     7.86      9.3     5.58     7.95  12.18  \n",
              "5    7.45     7.79     9.15     7.97      8.5      4.7     6.63  12.12  \n",
              "\n",
              "[5 rows x 4654 columns]"
            ]
          },
          "metadata": {
            "tags": []
          },
          "execution_count": 8
        }
      ]
    },
    {
      "metadata": {
        "scrolled": true,
        "id": "P0HaniRgw3sp",
        "colab_type": "code",
        "outputId": "8595cf0a-3fc3-40cc-9ec5-76d75633f8ca",
        "colab": {
          "base_uri": "https://localhost:8080/",
          "height": 253
        }
      },
      "cell_type": "code",
      "source": [
        "xtest.head()"
      ],
      "execution_count": 9,
      "outputs": [
        {
          "output_type": "execute_result",
          "data": {
            "text/html": [
              "<div>\n",
              "<style scoped>\n",
              "    .dataframe tbody tr th:only-of-type {\n",
              "        vertical-align: middle;\n",
              "    }\n",
              "\n",
              "    .dataframe tbody tr th {\n",
              "        vertical-align: top;\n",
              "    }\n",
              "\n",
              "    .dataframe thead th {\n",
              "        text-align: right;\n",
              "    }\n",
              "</style>\n",
              "<table border=\"1\" class=\"dataframe\">\n",
              "  <thead>\n",
              "    <tr style=\"text-align: right;\">\n",
              "      <th></th>\n",
              "      <th>x10006_at</th>\n",
              "      <th>x10007_at</th>\n",
              "      <th>x100129361_at</th>\n",
              "      <th>x100130449_at</th>\n",
              "      <th>x100130633_at</th>\n",
              "      <th>x100133941_at</th>\n",
              "      <th>x10014_at</th>\n",
              "      <th>x10016_at</th>\n",
              "      <th>x100188893_at</th>\n",
              "      <th>x10019_at</th>\n",
              "      <th>...</th>\n",
              "      <th>x9976_at</th>\n",
              "      <th>x9978_at</th>\n",
              "      <th>x997_at</th>\n",
              "      <th>x9984_at</th>\n",
              "      <th>x9987_at</th>\n",
              "      <th>x9988_at</th>\n",
              "      <th>x9989_at</th>\n",
              "      <th>x9994_at</th>\n",
              "      <th>x9997_at</th>\n",
              "      <th>x9_at</th>\n",
              "    </tr>\n",
              "  </thead>\n",
              "  <tbody>\n",
              "    <tr>\n",
              "      <th>1</th>\n",
              "      <td>8.54</td>\n",
              "      <td>7.76</td>\n",
              "      <td>8.08</td>\n",
              "      <td>2.2</td>\n",
              "      <td>7.23</td>\n",
              "      <td>10.07</td>\n",
              "      <td>4.16</td>\n",
              "      <td>9.77</td>\n",
              "      <td>10.7</td>\n",
              "      <td>5.35</td>\n",
              "      <td>...</td>\n",
              "      <td>9.44</td>\n",
              "      <td>11.18</td>\n",
              "      <td>6.65</td>\n",
              "      <td>7.92</td>\n",
              "      <td>9.32</td>\n",
              "      <td>8.48</td>\n",
              "      <td>8.51</td>\n",
              "      <td>4.01</td>\n",
              "      <td>7.91</td>\n",
              "      <td>9.46</td>\n",
              "    </tr>\n",
              "    <tr>\n",
              "      <th>2</th>\n",
              "      <td>8.13</td>\n",
              "      <td>8.18</td>\n",
              "      <td>7.68</td>\n",
              "      <td>2.2</td>\n",
              "      <td>7.11</td>\n",
              "      <td>8.91</td>\n",
              "      <td>5.05</td>\n",
              "      <td>8.8</td>\n",
              "      <td>10.64</td>\n",
              "      <td>4.86</td>\n",
              "      <td>...</td>\n",
              "      <td>8.51</td>\n",
              "      <td>11.31</td>\n",
              "      <td>5.76</td>\n",
              "      <td>7.43</td>\n",
              "      <td>10.39</td>\n",
              "      <td>8.23</td>\n",
              "      <td>9.49</td>\n",
              "      <td>4.7</td>\n",
              "      <td>7.14</td>\n",
              "      <td>7.02</td>\n",
              "    </tr>\n",
              "    <tr>\n",
              "      <th>3</th>\n",
              "      <td>7.94</td>\n",
              "      <td>8.26</td>\n",
              "      <td>7.37</td>\n",
              "      <td>2.2</td>\n",
              "      <td>6.98</td>\n",
              "      <td>11.81</td>\n",
              "      <td>4.16</td>\n",
              "      <td>10.07</td>\n",
              "      <td>10.64</td>\n",
              "      <td>4.3</td>\n",
              "      <td>...</td>\n",
              "      <td>8.4</td>\n",
              "      <td>10.2</td>\n",
              "      <td>5.35</td>\n",
              "      <td>8.42</td>\n",
              "      <td>9.44</td>\n",
              "      <td>7.87</td>\n",
              "      <td>8.64</td>\n",
              "      <td>4.78</td>\n",
              "      <td>6.13</td>\n",
              "      <td>10.57</td>\n",
              "    </tr>\n",
              "    <tr>\n",
              "      <th>4</th>\n",
              "      <td>8.7</td>\n",
              "      <td>8.08</td>\n",
              "      <td>8.27</td>\n",
              "      <td>2.2</td>\n",
              "      <td>7.45</td>\n",
              "      <td>7.9</td>\n",
              "      <td>5</td>\n",
              "      <td>8.66</td>\n",
              "      <td>10.41</td>\n",
              "      <td>5.07</td>\n",
              "      <td>...</td>\n",
              "      <td>8.9</td>\n",
              "      <td>10.77</td>\n",
              "      <td>6.6</td>\n",
              "      <td>7.8</td>\n",
              "      <td>9.39</td>\n",
              "      <td>8.74</td>\n",
              "      <td>9.61</td>\n",
              "      <td>5.13</td>\n",
              "      <td>6.73</td>\n",
              "      <td>5.31</td>\n",
              "    </tr>\n",
              "    <tr>\n",
              "      <th>5</th>\n",
              "      <td>8.97</td>\n",
              "      <td>8.2</td>\n",
              "      <td>8.87</td>\n",
              "      <td>2.2</td>\n",
              "      <td>6.98</td>\n",
              "      <td>11.49</td>\n",
              "      <td>3.47</td>\n",
              "      <td>9.97</td>\n",
              "      <td>11.63</td>\n",
              "      <td>4.65</td>\n",
              "      <td>...</td>\n",
              "      <td>9.15</td>\n",
              "      <td>11.9</td>\n",
              "      <td>7.34</td>\n",
              "      <td>8.26</td>\n",
              "      <td>8.81</td>\n",
              "      <td>8.12</td>\n",
              "      <td>9.93</td>\n",
              "      <td>7.07</td>\n",
              "      <td>6.84</td>\n",
              "      <td>3</td>\n",
              "    </tr>\n",
              "  </tbody>\n",
              "</table>\n",
              "<p>5 rows × 4654 columns</p>\n",
              "</div>"
            ],
            "text/plain": [
              "  x10006_at x10007_at x100129361_at x100130449_at x100130633_at x100133941_at  \\\n",
              "1      8.54      7.76          8.08           2.2          7.23         10.07   \n",
              "2      8.13      8.18          7.68           2.2          7.11          8.91   \n",
              "3      7.94      8.26          7.37           2.2          6.98         11.81   \n",
              "4       8.7      8.08          8.27           2.2          7.45           7.9   \n",
              "5      8.97       8.2          8.87           2.2          6.98         11.49   \n",
              "\n",
              "  x10014_at x10016_at x100188893_at x10019_at  ...   x9976_at x9978_at  \\\n",
              "1      4.16      9.77          10.7      5.35  ...       9.44    11.18   \n",
              "2      5.05       8.8         10.64      4.86  ...       8.51    11.31   \n",
              "3      4.16     10.07         10.64       4.3  ...        8.4     10.2   \n",
              "4         5      8.66         10.41      5.07  ...        8.9    10.77   \n",
              "5      3.47      9.97         11.63      4.65  ...       9.15     11.9   \n",
              "\n",
              "  x997_at x9984_at x9987_at x9988_at x9989_at x9994_at x9997_at  x9_at  \n",
              "1    6.65     7.92     9.32     8.48     8.51     4.01     7.91   9.46  \n",
              "2    5.76     7.43    10.39     8.23     9.49      4.7     7.14   7.02  \n",
              "3    5.35     8.42     9.44     7.87     8.64     4.78     6.13  10.57  \n",
              "4     6.6      7.8     9.39     8.74     9.61     5.13     6.73   5.31  \n",
              "5    7.34     8.26     8.81     8.12     9.93     7.07     6.84      3  \n",
              "\n",
              "[5 rows x 4654 columns]"
            ]
          },
          "metadata": {
            "tags": []
          },
          "execution_count": 9
        }
      ]
    },
    {
      "metadata": {
        "scrolled": true,
        "id": "FU3-DlXQw3st",
        "colab_type": "code",
        "outputId": "b1574f71-d2c0-40bd-a656-4596e68c8df1",
        "colab": {
          "base_uri": "https://localhost:8080/",
          "height": 35
        }
      },
      "cell_type": "code",
      "source": [
        "np.all(xtrain.columns == xtest.columns)"
      ],
      "execution_count": 10,
      "outputs": [
        {
          "output_type": "execute_result",
          "data": {
            "text/plain": [
              "True"
            ]
          },
          "metadata": {
            "tags": []
          },
          "execution_count": 10
        }
      ]
    },
    {
      "metadata": {
        "id": "fl33Gg1Hw3sw",
        "colab_type": "code",
        "outputId": "fdd2d4bd-4f1a-4cf5-b41c-e46e7028a0f0",
        "colab": {
          "base_uri": "https://localhost:8080/",
          "height": 222
        }
      },
      "cell_type": "code",
      "source": [
        "xtrain.describe()"
      ],
      "execution_count": 11,
      "outputs": [
        {
          "output_type": "execute_result",
          "data": {
            "text/html": [
              "<div>\n",
              "<style scoped>\n",
              "    .dataframe tbody tr th:only-of-type {\n",
              "        vertical-align: middle;\n",
              "    }\n",
              "\n",
              "    .dataframe tbody tr th {\n",
              "        vertical-align: top;\n",
              "    }\n",
              "\n",
              "    .dataframe thead th {\n",
              "        text-align: right;\n",
              "    }\n",
              "</style>\n",
              "<table border=\"1\" class=\"dataframe\">\n",
              "  <thead>\n",
              "    <tr style=\"text-align: right;\">\n",
              "      <th></th>\n",
              "      <th>x10006_at</th>\n",
              "      <th>x10007_at</th>\n",
              "      <th>x100129361_at</th>\n",
              "      <th>x100130449_at</th>\n",
              "      <th>x100130633_at</th>\n",
              "      <th>x100133941_at</th>\n",
              "      <th>x10014_at</th>\n",
              "      <th>x10016_at</th>\n",
              "      <th>x100188893_at</th>\n",
              "      <th>x10019_at</th>\n",
              "      <th>...</th>\n",
              "      <th>x9976_at</th>\n",
              "      <th>x9978_at</th>\n",
              "      <th>x997_at</th>\n",
              "      <th>x9984_at</th>\n",
              "      <th>x9987_at</th>\n",
              "      <th>x9988_at</th>\n",
              "      <th>x9989_at</th>\n",
              "      <th>x9994_at</th>\n",
              "      <th>x9997_at</th>\n",
              "      <th>x9_at</th>\n",
              "    </tr>\n",
              "  </thead>\n",
              "  <tbody>\n",
              "    <tr>\n",
              "      <th>count</th>\n",
              "      <td>184.00</td>\n",
              "      <td>184.00</td>\n",
              "      <td>184.00</td>\n",
              "      <td>184.0</td>\n",
              "      <td>184.00</td>\n",
              "      <td>184.00</td>\n",
              "      <td>184.00</td>\n",
              "      <td>184.00</td>\n",
              "      <td>184.00</td>\n",
              "      <td>184.00</td>\n",
              "      <td>...</td>\n",
              "      <td>184.00</td>\n",
              "      <td>184.00</td>\n",
              "      <td>184.00</td>\n",
              "      <td>184.00</td>\n",
              "      <td>184.00</td>\n",
              "      <td>184.00</td>\n",
              "      <td>184.00</td>\n",
              "      <td>184.0</td>\n",
              "      <td>184.00</td>\n",
              "      <td>184.0</td>\n",
              "    </tr>\n",
              "    <tr>\n",
              "      <th>unique</th>\n",
              "      <td>121.00</td>\n",
              "      <td>111.00</td>\n",
              "      <td>137.00</td>\n",
              "      <td>61.0</td>\n",
              "      <td>128.00</td>\n",
              "      <td>148.00</td>\n",
              "      <td>117.00</td>\n",
              "      <td>126.00</td>\n",
              "      <td>110.00</td>\n",
              "      <td>125.00</td>\n",
              "      <td>...</td>\n",
              "      <td>148.00</td>\n",
              "      <td>121.00</td>\n",
              "      <td>136.00</td>\n",
              "      <td>127.00</td>\n",
              "      <td>114.00</td>\n",
              "      <td>125.00</td>\n",
              "      <td>129.00</td>\n",
              "      <td>74.0</td>\n",
              "      <td>137.00</td>\n",
              "      <td>144.0</td>\n",
              "    </tr>\n",
              "    <tr>\n",
              "      <th>top</th>\n",
              "      <td>7.79</td>\n",
              "      <td>8.21</td>\n",
              "      <td>8.23</td>\n",
              "      <td>2.2</td>\n",
              "      <td>6.97</td>\n",
              "      <td>11.03</td>\n",
              "      <td>3.68</td>\n",
              "      <td>9.22</td>\n",
              "      <td>10.74</td>\n",
              "      <td>4.28</td>\n",
              "      <td>...</td>\n",
              "      <td>9.72</td>\n",
              "      <td>11.34</td>\n",
              "      <td>5.76</td>\n",
              "      <td>7.87</td>\n",
              "      <td>9.78</td>\n",
              "      <td>8.18</td>\n",
              "      <td>8.86</td>\n",
              "      <td>4.7</td>\n",
              "      <td>7.38</td>\n",
              "      <td>3.0</td>\n",
              "    </tr>\n",
              "    <tr>\n",
              "      <th>freq</th>\n",
              "      <td>13.00</td>\n",
              "      <td>6.00</td>\n",
              "      <td>5.00</td>\n",
              "      <td>105.0</td>\n",
              "      <td>9.00</td>\n",
              "      <td>5.00</td>\n",
              "      <td>5.00</td>\n",
              "      <td>4.00</td>\n",
              "      <td>4.00</td>\n",
              "      <td>14.00</td>\n",
              "      <td>...</td>\n",
              "      <td>3.00</td>\n",
              "      <td>4.00</td>\n",
              "      <td>19.00</td>\n",
              "      <td>5.00</td>\n",
              "      <td>4.00</td>\n",
              "      <td>4.00</td>\n",
              "      <td>4.00</td>\n",
              "      <td>49.0</td>\n",
              "      <td>10.00</td>\n",
              "      <td>29.0</td>\n",
              "    </tr>\n",
              "  </tbody>\n",
              "</table>\n",
              "<p>4 rows × 4654 columns</p>\n",
              "</div>"
            ],
            "text/plain": [
              "        x10006_at  x10007_at  x100129361_at  x100130449_at  x100130633_at  \\\n",
              "count      184.00     184.00         184.00          184.0         184.00   \n",
              "unique     121.00     111.00         137.00           61.0         128.00   \n",
              "top          7.79       8.21           8.23            2.2           6.97   \n",
              "freq        13.00       6.00           5.00          105.0           9.00   \n",
              "\n",
              "        x100133941_at  x10014_at  x10016_at  x100188893_at  x10019_at  ...    \\\n",
              "count          184.00     184.00     184.00         184.00     184.00  ...     \n",
              "unique         148.00     117.00     126.00         110.00     125.00  ...     \n",
              "top             11.03       3.68       9.22          10.74       4.28  ...     \n",
              "freq             5.00       5.00       4.00           4.00      14.00  ...     \n",
              "\n",
              "        x9976_at  x9978_at  x997_at  x9984_at  x9987_at  x9988_at  x9989_at  \\\n",
              "count     184.00    184.00   184.00    184.00    184.00    184.00    184.00   \n",
              "unique    148.00    121.00   136.00    127.00    114.00    125.00    129.00   \n",
              "top         9.72     11.34     5.76      7.87      9.78      8.18      8.86   \n",
              "freq        3.00      4.00    19.00      5.00      4.00      4.00      4.00   \n",
              "\n",
              "        x9994_at  x9997_at  x9_at  \n",
              "count      184.0    184.00  184.0  \n",
              "unique      74.0    137.00  144.0  \n",
              "top          4.7      7.38    3.0  \n",
              "freq        49.0     10.00   29.0  \n",
              "\n",
              "[4 rows x 4654 columns]"
            ]
          },
          "metadata": {
            "tags": []
          },
          "execution_count": 11
        }
      ]
    },
    {
      "metadata": {
        "id": "EGKopl9vw3sz",
        "colab_type": "text"
      },
      "cell_type": "markdown",
      "source": [
        "### Features Selection"
      ]
    },
    {
      "metadata": {
        "scrolled": false,
        "id": "kTuJqmdXw3s0",
        "colab_type": "code",
        "colab": {}
      },
      "cell_type": "code",
      "source": [
        "names = xtrain.columns.values\n",
        "rfc = RandomForestClassifier()\n",
        "rfc.fit(xtrain, ytrain)\n",
        "importances = []\n",
        "nameslist = []\n",
        "for name, importance in zip(names, rfc.feature_importances_):\n",
        "    if importance != 0.0:\n",
        "        importances.append(importance)\n",
        "        nameslist.append(name)\n",
        "        \n",
        "#features = iris['feature_names']\n",
        "# importances = rf.feature_importances_\n",
        "# indices = np.argsort(importances)"
      ],
      "execution_count": 0,
      "outputs": []
    },
    {
      "metadata": {
        "scrolled": true,
        "id": "P8jYAHa0w3s2",
        "colab_type": "code",
        "colab": {}
      },
      "cell_type": "code",
      "source": [
        "x_train = xtrain[nameslist]"
      ],
      "execution_count": 0,
      "outputs": []
    },
    {
      "metadata": {
        "id": "StGd5wqww3s5",
        "colab_type": "code",
        "outputId": "fd5a79e8-d620-4e5c-a006-d97dfac291a6",
        "colab": {
          "base_uri": "https://localhost:8080/",
          "height": 1969
        }
      },
      "cell_type": "code",
      "source": [
        "featuresImportances = pd.DataFrame(importances, index=nameslist, \n",
        "                              columns=[\"Importance\"])\n",
        "featuresImportances = featuresImportances.sort_values(by=['Importance'], ascending=False)\n",
        "featuresImportances"
      ],
      "execution_count": 14,
      "outputs": [
        {
          "output_type": "execute_result",
          "data": {
            "text/html": [
              "<div>\n",
              "<style scoped>\n",
              "    .dataframe tbody tr th:only-of-type {\n",
              "        vertical-align: middle;\n",
              "    }\n",
              "\n",
              "    .dataframe tbody tr th {\n",
              "        vertical-align: top;\n",
              "    }\n",
              "\n",
              "    .dataframe thead th {\n",
              "        text-align: right;\n",
              "    }\n",
              "</style>\n",
              "<table border=\"1\" class=\"dataframe\">\n",
              "  <thead>\n",
              "    <tr style=\"text-align: right;\">\n",
              "      <th></th>\n",
              "      <th>Importance</th>\n",
              "    </tr>\n",
              "  </thead>\n",
              "  <tbody>\n",
              "    <tr>\n",
              "      <th>x22872_at</th>\n",
              "      <td>0.016532</td>\n",
              "    </tr>\n",
              "    <tr>\n",
              "      <th>x54407_at</th>\n",
              "      <td>0.016301</td>\n",
              "    </tr>\n",
              "    <tr>\n",
              "      <th>x115353_at</th>\n",
              "      <td>0.015722</td>\n",
              "    </tr>\n",
              "    <tr>\n",
              "      <th>x4357_at</th>\n",
              "      <td>0.015490</td>\n",
              "    </tr>\n",
              "    <tr>\n",
              "      <th>x25844_at</th>\n",
              "      <td>0.014718</td>\n",
              "    </tr>\n",
              "    <tr>\n",
              "      <th>x29937_at</th>\n",
              "      <td>0.014599</td>\n",
              "    </tr>\n",
              "    <tr>\n",
              "      <th>x55160_at</th>\n",
              "      <td>0.014532</td>\n",
              "    </tr>\n",
              "    <tr>\n",
              "      <th>x28962_at</th>\n",
              "      <td>0.014409</td>\n",
              "    </tr>\n",
              "    <tr>\n",
              "      <th>x55167_at</th>\n",
              "      <td>0.014024</td>\n",
              "    </tr>\n",
              "    <tr>\n",
              "      <th>x22820_at</th>\n",
              "      <td>0.013997</td>\n",
              "    </tr>\n",
              "    <tr>\n",
              "      <th>x54732_at</th>\n",
              "      <td>0.013767</td>\n",
              "    </tr>\n",
              "    <tr>\n",
              "      <th>x1524_at</th>\n",
              "      <td>0.013294</td>\n",
              "    </tr>\n",
              "    <tr>\n",
              "      <th>x983_at</th>\n",
              "      <td>0.013265</td>\n",
              "    </tr>\n",
              "    <tr>\n",
              "      <th>x55284_at</th>\n",
              "      <td>0.013189</td>\n",
              "    </tr>\n",
              "    <tr>\n",
              "      <th>x164_at</th>\n",
              "      <td>0.013069</td>\n",
              "    </tr>\n",
              "    <tr>\n",
              "      <th>x3069_at</th>\n",
              "      <td>0.012846</td>\n",
              "    </tr>\n",
              "    <tr>\n",
              "      <th>x51001_at</th>\n",
              "      <td>0.012646</td>\n",
              "    </tr>\n",
              "    <tr>\n",
              "      <th>x54873_at</th>\n",
              "      <td>0.012580</td>\n",
              "    </tr>\n",
              "    <tr>\n",
              "      <th>x65990_at</th>\n",
              "      <td>0.012523</td>\n",
              "    </tr>\n",
              "    <tr>\n",
              "      <th>x9044_at</th>\n",
              "      <td>0.012208</td>\n",
              "    </tr>\n",
              "    <tr>\n",
              "      <th>x388796_at</th>\n",
              "      <td>0.012198</td>\n",
              "    </tr>\n",
              "    <tr>\n",
              "      <th>x5685_at</th>\n",
              "      <td>0.011854</td>\n",
              "    </tr>\n",
              "    <tr>\n",
              "      <th>x10460_at</th>\n",
              "      <td>0.011600</td>\n",
              "    </tr>\n",
              "    <tr>\n",
              "      <th>x8192_at</th>\n",
              "      <td>0.011477</td>\n",
              "    </tr>\n",
              "    <tr>\n",
              "      <th>x5634_at</th>\n",
              "      <td>0.011413</td>\n",
              "    </tr>\n",
              "    <tr>\n",
              "      <th>x10904_at</th>\n",
              "      <td>0.011292</td>\n",
              "    </tr>\n",
              "    <tr>\n",
              "      <th>x8443_at</th>\n",
              "      <td>0.010804</td>\n",
              "    </tr>\n",
              "    <tr>\n",
              "      <th>x54979_at</th>\n",
              "      <td>0.010683</td>\n",
              "    </tr>\n",
              "    <tr>\n",
              "      <th>x3489_at</th>\n",
              "      <td>0.010017</td>\n",
              "    </tr>\n",
              "    <tr>\n",
              "      <th>x4199_at</th>\n",
              "      <td>0.009871</td>\n",
              "    </tr>\n",
              "    <tr>\n",
              "      <th>...</th>\n",
              "      <td>...</td>\n",
              "    </tr>\n",
              "    <tr>\n",
              "      <th>x29107_at</th>\n",
              "      <td>0.002187</td>\n",
              "    </tr>\n",
              "    <tr>\n",
              "      <th>x22978_at</th>\n",
              "      <td>0.002166</td>\n",
              "    </tr>\n",
              "    <tr>\n",
              "      <th>x23499_at</th>\n",
              "      <td>0.002163</td>\n",
              "    </tr>\n",
              "    <tr>\n",
              "      <th>x64924_at</th>\n",
              "      <td>0.002150</td>\n",
              "    </tr>\n",
              "    <tr>\n",
              "      <th>x3385_at</th>\n",
              "      <td>0.002146</td>\n",
              "    </tr>\n",
              "    <tr>\n",
              "      <th>x64764_at</th>\n",
              "      <td>0.002140</td>\n",
              "    </tr>\n",
              "    <tr>\n",
              "      <th>x1960_at</th>\n",
              "      <td>0.002118</td>\n",
              "    </tr>\n",
              "    <tr>\n",
              "      <th>x55186_at</th>\n",
              "      <td>0.002108</td>\n",
              "    </tr>\n",
              "    <tr>\n",
              "      <th>x55096_at</th>\n",
              "      <td>0.002098</td>\n",
              "    </tr>\n",
              "    <tr>\n",
              "      <th>x51162_at</th>\n",
              "      <td>0.002034</td>\n",
              "    </tr>\n",
              "    <tr>\n",
              "      <th>x90141_at</th>\n",
              "      <td>0.002014</td>\n",
              "    </tr>\n",
              "    <tr>\n",
              "      <th>x4125_at</th>\n",
              "      <td>0.002012</td>\n",
              "    </tr>\n",
              "    <tr>\n",
              "      <th>x10857_at</th>\n",
              "      <td>0.001988</td>\n",
              "    </tr>\n",
              "    <tr>\n",
              "      <th>x6659_at</th>\n",
              "      <td>0.001988</td>\n",
              "    </tr>\n",
              "    <tr>\n",
              "      <th>x22998_at</th>\n",
              "      <td>0.001938</td>\n",
              "    </tr>\n",
              "    <tr>\n",
              "      <th>x4312_at</th>\n",
              "      <td>0.001906</td>\n",
              "    </tr>\n",
              "    <tr>\n",
              "      <th>x27243_at</th>\n",
              "      <td>0.001901</td>\n",
              "    </tr>\n",
              "    <tr>\n",
              "      <th>x84061_at</th>\n",
              "      <td>0.001884</td>\n",
              "    </tr>\n",
              "    <tr>\n",
              "      <th>x1466_at</th>\n",
              "      <td>0.001817</td>\n",
              "    </tr>\n",
              "    <tr>\n",
              "      <th>x23475_at</th>\n",
              "      <td>0.001808</td>\n",
              "    </tr>\n",
              "    <tr>\n",
              "      <th>x55239_at</th>\n",
              "      <td>0.001797</td>\n",
              "    </tr>\n",
              "    <tr>\n",
              "      <th>x98_at</th>\n",
              "      <td>0.001784</td>\n",
              "    </tr>\n",
              "    <tr>\n",
              "      <th>x10482_at</th>\n",
              "      <td>0.001755</td>\n",
              "    </tr>\n",
              "    <tr>\n",
              "      <th>x4673_at</th>\n",
              "      <td>0.001679</td>\n",
              "    </tr>\n",
              "    <tr>\n",
              "      <th>x25774_at</th>\n",
              "      <td>0.001609</td>\n",
              "    </tr>\n",
              "    <tr>\n",
              "      <th>x55125_at</th>\n",
              "      <td>0.001609</td>\n",
              "    </tr>\n",
              "    <tr>\n",
              "      <th>x23560_at</th>\n",
              "      <td>0.001521</td>\n",
              "    </tr>\n",
              "    <tr>\n",
              "      <th>x57136_at</th>\n",
              "      <td>0.001521</td>\n",
              "    </tr>\n",
              "    <tr>\n",
              "      <th>x5297_at</th>\n",
              "      <td>0.001514</td>\n",
              "    </tr>\n",
              "    <tr>\n",
              "      <th>x79971_at</th>\n",
              "      <td>0.000568</td>\n",
              "    </tr>\n",
              "  </tbody>\n",
              "</table>\n",
              "<p>169 rows × 1 columns</p>\n",
              "</div>"
            ],
            "text/plain": [
              "            Importance\n",
              "x22872_at     0.016532\n",
              "x54407_at     0.016301\n",
              "x115353_at    0.015722\n",
              "x4357_at      0.015490\n",
              "x25844_at     0.014718\n",
              "x29937_at     0.014599\n",
              "x55160_at     0.014532\n",
              "x28962_at     0.014409\n",
              "x55167_at     0.014024\n",
              "x22820_at     0.013997\n",
              "x54732_at     0.013767\n",
              "x1524_at      0.013294\n",
              "x983_at       0.013265\n",
              "x55284_at     0.013189\n",
              "x164_at       0.013069\n",
              "x3069_at      0.012846\n",
              "x51001_at     0.012646\n",
              "x54873_at     0.012580\n",
              "x65990_at     0.012523\n",
              "x9044_at      0.012208\n",
              "x388796_at    0.012198\n",
              "x5685_at      0.011854\n",
              "x10460_at     0.011600\n",
              "x8192_at      0.011477\n",
              "x5634_at      0.011413\n",
              "x10904_at     0.011292\n",
              "x8443_at      0.010804\n",
              "x54979_at     0.010683\n",
              "x3489_at      0.010017\n",
              "x4199_at      0.009871\n",
              "...                ...\n",
              "x29107_at     0.002187\n",
              "x22978_at     0.002166\n",
              "x23499_at     0.002163\n",
              "x64924_at     0.002150\n",
              "x3385_at      0.002146\n",
              "x64764_at     0.002140\n",
              "x1960_at      0.002118\n",
              "x55186_at     0.002108\n",
              "x55096_at     0.002098\n",
              "x51162_at     0.002034\n",
              "x90141_at     0.002014\n",
              "x4125_at      0.002012\n",
              "x10857_at     0.001988\n",
              "x6659_at      0.001988\n",
              "x22998_at     0.001938\n",
              "x4312_at      0.001906\n",
              "x27243_at     0.001901\n",
              "x84061_at     0.001884\n",
              "x1466_at      0.001817\n",
              "x23475_at     0.001808\n",
              "x55239_at     0.001797\n",
              "x98_at        0.001784\n",
              "x10482_at     0.001755\n",
              "x4673_at      0.001679\n",
              "x25774_at     0.001609\n",
              "x55125_at     0.001609\n",
              "x23560_at     0.001521\n",
              "x57136_at     0.001521\n",
              "x5297_at      0.001514\n",
              "x79971_at     0.000568\n",
              "\n",
              "[169 rows x 1 columns]"
            ]
          },
          "metadata": {
            "tags": []
          },
          "execution_count": 14
        }
      ]
    },
    {
      "metadata": {
        "id": "piXbY1zHw3s8",
        "colab_type": "code",
        "outputId": "3a6bb87f-94b4-4629-c04c-7c97a7e96ebe",
        "colab": {
          "base_uri": "https://localhost:8080/",
          "height": 620
        }
      },
      "cell_type": "code",
      "source": [
        "nameslist = np.array(nameslist)\n",
        "importances.sort()\n",
        "plt.figure(figsize=(10,10))\n",
        "plt.title('Feature Importances')\n",
        "plt.barh(range(len(importances)), importances, align='center')\n",
        "#plt.yticks(range(len(nameslist)), [nameslist[i] for i in range(len(nameslist))])\n",
        "plt.xlabel('Relative Importance')\n",
        "plt.ylabel('Features')\n",
        "plt.show()"
      ],
      "execution_count": 15,
      "outputs": [
        {
          "output_type": "display_data",
          "data": {
            "image/png": "[encoded data removed]",
            "text/plain": [
              "<Figure size 720x720 with 1 Axes>"
            ]
          },
          "metadata": {
            "tags": []
          }
        }
      ]
    },
    {
      "metadata": {
        "id": "hq1qM4bgw3tA",
        "colab_type": "text"
      },
      "cell_type": "markdown",
      "source": [
        "### Lasso features selection"
      ]
    },
    {
      "metadata": {
        "scrolled": false,
        "id": "hIR4INOdw3tA",
        "colab_type": "code",
        "outputId": "601bca0a-4878-41f5-f5e9-ed05709999bf",
        "colab": {
          "base_uri": "https://localhost:8080/",
          "height": 680
        }
      },
      "cell_type": "code",
      "source": [
        "from sklearn.linear_model import Lasso\n",
        "x_train = np.array(xtrain)\n",
        "lass = Lasso(\n",
        "        max_iter=10000,\n",
        "        alpha= 0.000281,\n",
        "        random_state= 5 \n",
        "        )\n",
        "lass.fit(xtrain,ytrain)\n",
        "lass.coef_.min(), lass.coef_.max()\n",
        "#Checking Features Importances\n",
        "import matplotlib\n",
        "coef = pd.Series(lass.coef_, index = xtrain.columns)\n",
        "#print(\"Lasso picked \" + str(sum(coef != 0)) + \" variables and eliminated the other \" +  str(sum(coef == 0)) + \" variables\")\n",
        "\n",
        "\n",
        "imp_coef = pd.concat([coef.sort_values().head(25),\n",
        "                     coef.sort_values().tail(25)])\n",
        "matplotlib.rcParams['figure.figsize'] = (8.0, 10.0)\n",
        "imp_coef.plot(kind = \"barh\")\n",
        "plt.title(\"Coefficients in the Lasso Model\")\n",
        "\n",
        "# Selection of features\n",
        "good_features = np.abs(np.array(lass.coef_)) > 0\n",
        "\n",
        "print(\"Features reduced from %10d to %10d\" % (x_train.shape[1], int(good_features.sum())))\n",
        "#saving data\n",
        "train_lasso_select = xtrain.iloc[:, good_features]\n",
        "test_lasso_select= xtest.iloc[:, good_features]\n",
        "train_lasso_select.to_csv('train_lasso_select.csv',index=False)\n",
        "test_lasso_select.to_csv('test_lasso_select.csv',index=False)"
      ],
      "execution_count": 16,
      "outputs": [
        {
          "output_type": "stream",
          "text": [
            "/usr/local/lib/python3.6/dist-packages/sklearn/linear_model/coordinate_descent.py:492: ConvergenceWarning: Objective did not converge. You might want to increase the number of iterations. Fitting data with very small alpha may cause precision problems.\n",
            "  ConvergenceWarning)\n"
          ],
          "name": "stderr"
        },
        {
          "output_type": "stream",
          "text": [
            "Features reduced from       4654 to        211\n"
          ],
          "name": "stdout"
        },
        {
          "output_type": "display_data",
          "data": {
            "image/png": "[encoded data removed]",
            "text/plain": [
              "<Figure size 576x720 with 1 Axes>"
            ]
          },
          "metadata": {
            "tags": []
          }
        }
      ]
    },
    {
      "metadata": {
        "scrolled": false,
        "id": "osEYvaeow3tE",
        "colab_type": "code",
        "colab": {}
      },
      "cell_type": "code",
      "source": [
        "xtrain_lasso = xtrain.T[good_features].T"
      ],
      "execution_count": 0,
      "outputs": []
    },
    {
      "metadata": {
        "id": "pHt5B2kdw3tH",
        "colab_type": "code",
        "colab": {}
      },
      "cell_type": "code",
      "source": [
        "xtest_lasso = xtest.T[good_features].T"
      ],
      "execution_count": 0,
      "outputs": []
    },
    {
      "metadata": {
        "id": "ASIx5Zv4w3tK",
        "colab_type": "text"
      },
      "cell_type": "markdown",
      "source": [
        "### split data"
      ]
    },
    {
      "metadata": {
        "id": "-vw-fzKGw3tL",
        "colab_type": "code",
        "colab": {}
      },
      "cell_type": "code",
      "source": [
        "Xtrain,Xtest, Ytrain, Ytest = train_test_split(xtrain_lasso, ytrain,test_size=0.3)\n",
        "Xtrain,Xval, Ytrain, Yval = train_test_split(Xtrain, Ytrain,test_size=0.15 )"
      ],
      "execution_count": 0,
      "outputs": []
    },
    {
      "metadata": {
        "id": "unF7gWoSw3tN",
        "colab_type": "code",
        "outputId": "fa60b5f8-dabf-4a81-8dda-a3e1755b2ba4",
        "colab": {
          "base_uri": "https://localhost:8080/",
          "height": 35
        }
      },
      "cell_type": "code",
      "source": [
        "Xtrain.shape, Xval.shape, Xtest.shape, xtest.shape"
      ],
      "execution_count": 20,
      "outputs": [
        {
          "output_type": "execute_result",
          "data": {
            "text/plain": [
              "((108, 211), (20, 211), (56, 211), (92, 4654))"
            ]
          },
          "metadata": {
            "tags": []
          },
          "execution_count": 20
        }
      ]
    },
    {
      "metadata": {
        "id": "vnFx4f9uw3tQ",
        "colab_type": "text"
      },
      "cell_type": "markdown",
      "source": [
        "### Plot Area Under Curve"
      ]
    },
    {
      "metadata": {
        "id": "tIOMcKTBw3tR",
        "colab_type": "code",
        "colab": {}
      },
      "cell_type": "code",
      "source": [
        "def plot_roc(model, parameters, y_true):\n",
        "    \"\"\"\n",
        "    Arguments:\n",
        "    model - trained model .\n",
        "    parameters - array-like or sparse matrix of shape  [n_samples, n_features]. The input samples. \n",
        "    y_true - True binary labels in range {0, 1} or {-1, 1}. If labels are not binary, pos_label should be explicitly given.\n",
        "    \"\"\"\n",
        "    if model is None:\n",
        "        return 0., 0., np.array([])\n",
        "    \n",
        "    predicted = model.predict_proba(parameters)[:,1]\n",
        "    threshold = 0.5\n",
        "    predicted_binary = (predicted > threshold).astype(int)\n",
        "    \n",
        "    fpr, tpr, threshold = metrics.roc_curve(y_true, predicted, pos_label=1)\n",
        "\n",
        "    roc_auc = metrics.auc(fpr, tpr) \n",
        "    ks = np.max(tpr - fpr) # Kolmogorov-Smirnov test\n",
        "\n",
        "#     print('ROC_auc = ', roc_auc)\n",
        "#     print('KS_test = ', ks)\n",
        "    print('AUC score: %f ' % metrics.roc_auc_score(y_true, predicted)) \n",
        "\n",
        "    try:\n",
        "        plt.title('%s ROC curve ' % model.__class__.__name__)\n",
        "        plt.plot(fpr, tpr, 'b', label='AUC = %0.2f' % roc_auc)\n",
        "        plt.legend(loc='lower right')\n",
        "        plt.plot([0,1], [0,1], 'r--')\n",
        "        plt.xlabel('False positive rate')\n",
        "        plt.ylabel('True positive rate')\n",
        "\n",
        "        # plt.savefig('ROC_curve.png')\n",
        "        plt.show()\n",
        "    except: pass\n",
        "    return threshold\n",
        "  \n",
        "# lets Make a function for Grid Search CV\n",
        "def Classification_model_gridsearchCV(model,param_grid,data_X,data_y):\n",
        "    clf = GridSearchCV(model,param_grid,cv=10,scoring=\"accuracy\")\n",
        "    # this is how we use grid serch CV we are giving our model\n",
        "    # the we gave parameters those we want to tune\n",
        "    # Cv is for cross validation\n",
        "    # scoring means to score the classifier\n",
        "    \n",
        "    clf.fit(Xtrain,Ytrain)\n",
        "    print(\"The best parameter found on development set is :\")\n",
        "    # this will gie us our best parameter to use\n",
        "    print(clf.best_params_)\n",
        "    print(\"the bset estimator is \")\n",
        "    print(clf.best_estimator_)\n",
        "    print(\"The best score is \")\n",
        "    # this is the best score that we can achieve using these parameters#\n",
        "    print(clf.best_score_)"
      ],
      "execution_count": 0,
      "outputs": []
    },
    {
      "metadata": {
        "id": "sTpQ6CWIqlyM",
        "colab_type": "text"
      },
      "cell_type": "markdown",
      "source": [
        "### Decision Tree Classifier"
      ]
    },
    {
      "metadata": {
        "id": "hjOfsFLbqj0x",
        "colab_type": "code",
        "colab": {
          "base_uri": "https://localhost:8080/",
          "height": 271
        },
        "outputId": "d5d5602e-b6ec-4f56-9dd1-603e857180e4"
      },
      "cell_type": "code",
      "source": [
        "# Here we have to take parameters that are used for Decison tree Classifier\n",
        "# you will understand these terms once you follow the link above\n",
        "param_grid = {'max_features': ['auto', 'sqrt', 'log2'],\n",
        "              'min_samples_split': [2,3,4,5,6,7,8,9,10], \n",
        "              'min_samples_leaf':[2,3,4,5,6,7,8,9,10] }\n",
        "# here our gridasearchCV will take all combinations of these parameter and apply it to model \n",
        "# and then it will find the best parameter for model\n",
        "model= DecisionTreeClassifier()\n",
        "Classification_model_gridsearchCV(model,param_grid,Xtrain, Ytrain)\n",
        "# call our function"
      ],
      "execution_count": 23,
      "outputs": [
        {
          "output_type": "stream",
          "text": [
            "The best parameter found on development set is :\n",
            "{'max_features': 'log2', 'min_samples_leaf': 5, 'min_samples_split': 5}\n",
            "the bset estimator is \n",
            "DecisionTreeClassifier(class_weight=None, criterion='gini', max_depth=None,\n",
            "            max_features='log2', max_leaf_nodes=None,\n",
            "            min_impurity_decrease=0.0, min_impurity_split=None,\n",
            "            min_samples_leaf=5, min_samples_split=5,\n",
            "            min_weight_fraction_leaf=0.0, presort=False, random_state=None,\n",
            "            splitter='best')\n",
            "The best score is \n",
            "0.6666666666666666\n"
          ],
          "name": "stdout"
        },
        {
          "output_type": "stream",
          "text": [
            "/usr/local/lib/python3.6/dist-packages/sklearn/model_selection/_search.py:841: DeprecationWarning: The default of the `iid` parameter will change from True to False in version 0.22 and will be removed in 0.24. This will change numeric results when test-set sizes are unequal.\n",
            "  DeprecationWarning)\n"
          ],
          "name": "stderr"
        }
      ]
    },
    {
      "metadata": {
        "id": "CDiy6-U_gw1X",
        "colab_type": "code",
        "colab": {
          "base_uri": "https://localhost:8080/",
          "height": 35
        },
        "outputId": "7dcefe37-bbbe-488d-c150-994c6d401e78"
      },
      "cell_type": "code",
      "source": [
        "Xtest.shape, Ytest.shape"
      ],
      "execution_count": 34,
      "outputs": [
        {
          "output_type": "execute_result",
          "data": {
            "text/plain": [
              "((56, 211), (56,))"
            ]
          },
          "metadata": {
            "tags": []
          },
          "execution_count": 34
        }
      ]
    },
    {
      "metadata": {
        "id": "RMuW2piB28yx",
        "colab_type": "code",
        "colab": {
          "base_uri": "https://localhost:8080/",
          "height": 53
        },
        "outputId": "915bdcef-9faf-4525-8c15-8cf63dc296b7"
      },
      "cell_type": "code",
      "source": [
        "model_dtc = DecisionTreeClassifier(max_features='log2', min_samples_leaf=5, min_samples_split=5)\n",
        "scores = cross_val_score(estimator=model_dtc, X=Xtrain, y=Ytrain, cv=7)\n",
        "# model_dtc.fit(Xtrain, Ytrain)\n",
        "# model_dtc.score(Xtest, Ytest)\n",
        "# roc_auc_score(Ytest, model_dtc.predict(Xtest))\n",
        "scores"
      ],
      "execution_count": 36,
      "outputs": [
        {
          "output_type": "execute_result",
          "data": {
            "text/plain": [
              "array([0.625     , 0.4375    , 0.6875    , 0.75      , 0.33333333,\n",
              "       0.4       , 0.35714286])"
            ]
          },
          "metadata": {
            "tags": []
          },
          "execution_count": 36
        }
      ]
    },
    {
      "metadata": {
        "id": "vnNgNXQqrS2P",
        "colab_type": "text"
      },
      "cell_type": "markdown",
      "source": [
        "### KNeighbors Classidier"
      ]
    },
    {
      "metadata": {
        "id": "XiiUl6RVrU51",
        "colab_type": "code",
        "colab": {
          "base_uri": "https://localhost:8080/",
          "height": 217
        },
        "outputId": "93b829c5-e56a-432e-9edb-61f0ca45db75"
      },
      "cell_type": "code",
      "source": [
        "model = KNeighborsClassifier()\n",
        "\n",
        "k_range = list(range(1, 30))\n",
        "leaf_size = list(range(1,30))\n",
        "weight_options = ['uniform', 'distance']\n",
        "param_grid = {'n_neighbors': k_range, 'leaf_size': leaf_size, 'weights': weight_options}\n",
        "Classification_model_gridsearchCV(model,param_grid,Xtrain,Ytrain)"
      ],
      "execution_count": 24,
      "outputs": [
        {
          "output_type": "stream",
          "text": [
            "The best parameter found on development set is :\n",
            "{'leaf_size': 1, 'n_neighbors': 12, 'weights': 'uniform'}\n",
            "the bset estimator is \n",
            "KNeighborsClassifier(algorithm='auto', leaf_size=1, metric='minkowski',\n",
            "           metric_params=None, n_jobs=None, n_neighbors=12, p=2,\n",
            "           weights='uniform')\n",
            "The best score is \n",
            "0.6481481481481481\n"
          ],
          "name": "stdout"
        },
        {
          "output_type": "stream",
          "text": [
            "/usr/local/lib/python3.6/dist-packages/sklearn/model_selection/_search.py:841: DeprecationWarning: The default of the `iid` parameter will change from True to False in version 0.22 and will be removed in 0.24. This will change numeric results when test-set sizes are unequal.\n",
            "  DeprecationWarning)\n"
          ],
          "name": "stderr"
        }
      ]
    },
    {
      "metadata": {
        "id": "75-GgLPw3hm3",
        "colab_type": "code",
        "colab": {
          "base_uri": "https://localhost:8080/",
          "height": 53
        },
        "outputId": "1d70047a-6688-4500-b940-a40ecb38029f"
      },
      "cell_type": "code",
      "source": [
        "model_knc = KNeighborsClassifier(leaf_size=1, n_neighbors=12, weights='uniform')\n",
        "# model_knc.fit(Xtrain, Ytrain)\n",
        "# model_knc.score(Xtest, Ytest)\n",
        "# roc_auc_score(Ytest, model_knc.predict(Xtest))\n",
        "\n",
        "scores = cross_val_score(estimator=model_knc, X=Xtrain, y=Ytrain, cv=7)\n",
        "scores"
      ],
      "execution_count": 38,
      "outputs": [
        {
          "output_type": "execute_result",
          "data": {
            "text/plain": [
              "array([0.6875    , 0.5625    , 0.625     , 0.6875    , 0.6       ,\n",
              "       0.66666667, 0.64285714])"
            ]
          },
          "metadata": {
            "tags": []
          },
          "execution_count": 38
        }
      ]
    },
    {
      "metadata": {
        "id": "EyoIRAGZroGc",
        "colab_type": "text"
      },
      "cell_type": "markdown",
      "source": [
        "### SVM"
      ]
    },
    {
      "metadata": {
        "id": "Ktx95DeJroY8",
        "colab_type": "code",
        "colab": {
          "base_uri": "https://localhost:8080/",
          "height": 235
        },
        "outputId": "fbda1277-79a2-4ae8-cbbc-f5a33c767bc3"
      },
      "cell_type": "code",
      "source": [
        "model=SVC()\n",
        "param_grid = [\n",
        "              {'C': [1, 10, 100, 1000], \n",
        "               'gamma': [0.001, 0.0001, 0.01, 0.1, 1], \n",
        "               'kernel': ['linear', 'rbf']\n",
        "              }\n",
        " ]\n",
        "Classification_model_gridsearchCV(model,param_grid,Xtrain,Ytrain)\n"
      ],
      "execution_count": 25,
      "outputs": [
        {
          "output_type": "stream",
          "text": [
            "The best parameter found on development set is :\n",
            "{'C': 1, 'gamma': 0.001, 'kernel': 'linear'}\n",
            "the bset estimator is \n",
            "SVC(C=1, cache_size=200, class_weight=None, coef0=0.0,\n",
            "  decision_function_shape='ovr', degree=3, gamma=0.001, kernel='linear',\n",
            "  max_iter=-1, probability=False, random_state=None, shrinking=True,\n",
            "  tol=0.001, verbose=False)\n",
            "The best score is \n",
            "0.7870370370370371\n"
          ],
          "name": "stdout"
        },
        {
          "output_type": "stream",
          "text": [
            "/usr/local/lib/python3.6/dist-packages/sklearn/model_selection/_search.py:841: DeprecationWarning: The default of the `iid` parameter will change from True to False in version 0.22 and will be removed in 0.24. This will change numeric results when test-set sizes are unequal.\n",
            "  DeprecationWarning)\n"
          ],
          "name": "stderr"
        }
      ]
    },
    {
      "metadata": {
        "id": "jGs5I3g0tfrl",
        "colab_type": "code",
        "colab": {
          "base_uri": "https://localhost:8080/",
          "height": 53
        },
        "outputId": "626c759e-ad97-48f0-b93d-a7ca2fdc2b8f"
      },
      "cell_type": "code",
      "source": [
        "model_SVC = SVC(C= 1, gamma=0.001, kernel = 'linear')\n",
        "# model_SVC.fit(Xtrain, Ytrain)\n",
        "# model_SVC.score(Xtest, Ytest)\n",
        "# roc_auc_score(Ytest, model_SVC.decision_function(Xtest))\n",
        "scores = cross_val_score(estimator=model_SVC, X=Xtrain, y=Ytrain, cv=7)\n",
        "scores"
      ],
      "execution_count": 40,
      "outputs": [
        {
          "output_type": "execute_result",
          "data": {
            "text/plain": [
              "array([0.6875    , 0.875     , 0.75      , 0.75      , 0.86666667,\n",
              "       0.73333333, 0.78571429])"
            ]
          },
          "metadata": {
            "tags": []
          },
          "execution_count": 40
        }
      ]
    },
    {
      "metadata": {
        "id": "gryjXA-kuRi8",
        "colab_type": "text"
      },
      "cell_type": "markdown",
      "source": [
        "### Logistic Regression"
      ]
    },
    {
      "metadata": {
        "id": "zplMrO5XuWXr",
        "colab_type": "code",
        "colab": {
          "base_uri": "https://localhost:8080/",
          "height": 235
        },
        "outputId": "8677ad08-87a9-4e6c-afa1-8f5f40438b1e"
      },
      "cell_type": "code",
      "source": [
        "model=LogisticRegression()\n",
        "param_grid = [\n",
        "              {\"C\":np.linspace(10e-3,10,10), \"penalty\":[\"l1\",\"l2\"]}# l1 lasso l2 ridge\n",
        " ]\n",
        "Classification_model_gridsearchCV(model,param_grid,Xtrain,Ytrain)"
      ],
      "execution_count": 132,
      "outputs": [
        {
          "output_type": "stream",
          "text": [
            "The best parameter found on development set is :\n",
            "{'C': 10.0, 'penalty': 'l2'}\n",
            "the bset estimator is \n",
            "LogisticRegression(C=10.0, class_weight=None, dual=False, fit_intercept=True,\n",
            "          intercept_scaling=1, max_iter=100, multi_class='warn',\n",
            "          n_jobs=None, penalty='l2', random_state=None, solver='warn',\n",
            "          tol=0.0001, verbose=0, warm_start=False)\n",
            "The best score is \n",
            "0.7962962962962963\n"
          ],
          "name": "stdout"
        },
        {
          "output_type": "stream",
          "text": [
            "/usr/local/lib/python3.6/dist-packages/sklearn/model_selection/_search.py:841: DeprecationWarning: The default of the `iid` parameter will change from True to False in version 0.22 and will be removed in 0.24. This will change numeric results when test-set sizes are unequal.\n",
            "  DeprecationWarning)\n"
          ],
          "name": "stderr"
        }
      ]
    },
    {
      "metadata": {
        "id": "xPTeRbNr34og",
        "colab_type": "code",
        "colab": {
          "base_uri": "https://localhost:8080/",
          "height": 53
        },
        "outputId": "0b44a782-26d3-41c9-826b-10d6c71ba4d4"
      },
      "cell_type": "code",
      "source": [
        "model_lr = LogisticRegression(C=10, penalty='l2')\n",
        "model_lr.fit(Xtrain, Ytrain)\n",
        "# model_lr.score(Xtest, Ytest)\n",
        "# roc_auc_score(Ytest, model_lr.decision_function(Xtest))\n",
        "scores = cross_val_score(estimator=model_lr, X=Xtest, y=Ytest, cv=7)\n",
        "scores"
      ],
      "execution_count": 44,
      "outputs": [
        {
          "output_type": "execute_result",
          "data": {
            "text/plain": [
              "array([0.66666667, 0.88888889, 0.66666667, 0.75      , 0.85714286,\n",
              "       0.85714286, 1.        ])"
            ]
          },
          "metadata": {
            "tags": []
          },
          "execution_count": 44
        }
      ]
    },
    {
      "metadata": {
        "id": "8jVm5pfow3ts",
        "colab_type": "text"
      },
      "cell_type": "markdown",
      "source": [
        "### Logistic regression CV"
      ]
    },
    {
      "metadata": {
        "id": "Mf9SLytzvC5e",
        "colab_type": "code",
        "colab": {
          "base_uri": "https://localhost:8080/",
          "height": 253
        },
        "outputId": "8cb31b28-2ed1-4643-fc7b-19f90ca5b997"
      },
      "cell_type": "code",
      "source": [
        "model=LogisticRegressionCV(max_iter=10000)\n",
        "param_grid = {\"Cs\":[10]}\n",
        "Classification_model_gridsearchCV(model,param_grid,Xtrain,Ytrain)"
      ],
      "execution_count": 112,
      "outputs": [
        {
          "output_type": "stream",
          "text": [
            "/usr/local/lib/python3.6/dist-packages/sklearn/model_selection/_search.py:841: DeprecationWarning: The default of the `iid` parameter will change from True to False in version 0.22 and will be removed in 0.24. This will change numeric results when test-set sizes are unequal.\n",
            "  DeprecationWarning)\n"
          ],
          "name": "stderr"
        },
        {
          "output_type": "stream",
          "text": [
            "The best parameter found on development set is :\n",
            "{'Cs': 10}\n",
            "the bset estimator is \n",
            "LogisticRegressionCV(Cs=10, class_weight=None, cv='warn', dual=False,\n",
            "           fit_intercept=True, intercept_scaling=1.0, max_iter=10000,\n",
            "           multi_class='warn', n_jobs=None, penalty='l2',\n",
            "           random_state=None, refit=True, scoring=None, solver='lbfgs',\n",
            "           tol=0.0001, verbose=0)\n",
            "The best score is \n",
            "0.7685185185185185\n"
          ],
          "name": "stdout"
        }
      ]
    },
    {
      "metadata": {
        "id": "WR87j4yFw0Yn",
        "colab_type": "code",
        "colab": {
          "base_uri": "https://localhost:8080/",
          "height": 53
        },
        "outputId": "f2722cc9-796d-4e3c-8668-1891edcf1e87"
      },
      "cell_type": "code",
      "source": [
        "model_lrcv = LogisticRegressionCV(max_iter=10000, Cs=10, penalty='l2')\n",
        "# model_lrcv.fit(Xtrain, Ytrain)\n",
        "# model_lrcv.score(Xtest, Ytest)\n",
        "# roc_auc_score(Ytest, model_lrcv.decision_function(Xtest))\n",
        "scores = cross_val_score(estimator=model_lrcv, X=Xtest, y=Ytest, cv=7)\n",
        "scores"
      ],
      "execution_count": 45,
      "outputs": [
        {
          "output_type": "execute_result",
          "data": {
            "text/plain": [
              "array([0.66666667, 0.88888889, 0.66666667, 0.75      , 0.85714286,\n",
              "       0.85714286, 1.        ])"
            ]
          },
          "metadata": {
            "tags": []
          },
          "execution_count": 45
        }
      ]
    },
    {
      "metadata": {
        "scrolled": false,
        "id": "YbtvyKiBw3t0",
        "colab_type": "code",
        "outputId": "f65f20d2-5243-43c8-cc4a-8d5384bcbcbe",
        "colab": {
          "base_uri": "https://localhost:8080/",
          "height": 638
        }
      },
      "cell_type": "code",
      "source": [
        "threshold = plot_roc(model_lr, Xtest, Ytest)"
      ],
      "execution_count": 46,
      "outputs": [
        {
          "output_type": "stream",
          "text": [
            "AUC score: 0.964912 \n"
          ],
          "name": "stdout"
        },
        {
          "output_type": "display_data",
          "data": {
            "image/png": "[encoded data removed]",
            "text/plain": [
              "<Figure size 576x720 with 1 Axes>"
            ]
          },
          "metadata": {
            "tags": []
          }
        }
      ]
    },
    {
      "metadata": {
        "id": "lxjjhSMqw3t3",
        "colab_type": "text"
      },
      "cell_type": "markdown",
      "source": [
        "### The confusion matrix"
      ]
    },
    {
      "metadata": {
        "id": "jRvXY7elw3uJ",
        "colab_type": "code",
        "colab": {}
      },
      "cell_type": "code",
      "source": [
        "# The confusion matrix helps visualize the performance of the algorithm.\n",
        "y_pred = model_SVC.predict(Xtest)\n",
        "cm = metrics.confusion_matrix(Ytest, y_pred)\n",
        "#print(cm)"
      ],
      "execution_count": 0,
      "outputs": []
    },
    {
      "metadata": {
        "scrolled": false,
        "id": "wlE_1Zixw3uN",
        "colab_type": "code",
        "outputId": "5018dd6e-1617-4d24-ff30-8e2af5fe6b79",
        "colab": {
          "base_uri": "https://localhost:8080/",
          "height": 496
        }
      },
      "cell_type": "code",
      "source": [
        "from IPython.display import Image, display\n",
        "\n",
        "fig, ax = plt.subplots(figsize=(5, 5))\n",
        "ax.matshow(cm, cmap=plt.cm.Reds, alpha=0.3)\n",
        "for i in range(cm.shape[0]):\n",
        "     for j in range(cm.shape[1]):\n",
        "        ax.text(x=j, y=i,\n",
        "                s=cm[i, j], \n",
        "                va='center', ha='center')\n",
        "plt.xlabel('Predicted Values', )\n",
        "plt.ylabel('Actual Values')\n",
        "plt.show()\n",
        "print(classification_report(Ytest, y_pred ))"
      ],
      "execution_count": 43,
      "outputs": [
        {
          "output_type": "display_data",
          "data": {
            "image/png": "[encoded data removed]",
            "text/plain": [
              "<Figure size 360x360 with 1 Axes>"
            ]
          },
          "metadata": {
            "tags": []
          }
        },
        {
          "output_type": "stream",
          "text": [
            "              precision    recall  f1-score   support\n",
            "\n",
            "          -1       0.97      0.97      0.97        38\n",
            "           1       0.94      0.94      0.94        18\n",
            "\n",
            "   micro avg       0.96      0.96      0.96        56\n",
            "   macro avg       0.96      0.96      0.96        56\n",
            "weighted avg       0.96      0.96      0.96        56\n",
            "\n"
          ],
          "name": "stdout"
        }
      ]
    },
    {
      "metadata": {
        "id": "H33o-VQEw3uq",
        "colab_type": "text"
      },
      "cell_type": "markdown",
      "source": [
        "### Gradient Boosting Classifier"
      ]
    },
    {
      "metadata": {
        "id": "Bvm3yPomBeKi",
        "colab_type": "code",
        "colab": {
          "base_uri": "https://localhost:8080/",
          "height": 343
        },
        "outputId": "67c78477-9456-469a-8953-3e3713ecb2fd"
      },
      "cell_type": "code",
      "source": [
        "model=GradientBoostingClassifier()\n",
        "\n",
        "param_grid = [\n",
        "    {\n",
        "    \"loss\":[\"deviance\"],\n",
        "    \"learning_rate\": [0.01, 0.025, 0.05, 0.075, 0.1, 0.15, 0.2],\n",
        "    \"min_samples_split\": np.linspace(0.1, 0.5, 12),\n",
        "    \"min_samples_leaf\": np.linspace(0.1, 0.5, 12),\n",
        "    \"max_depth\":[3,5,8],\n",
        "    \"max_features\":[\"log2\",\"sqrt\"],\n",
        "    \"criterion\": [\"friedman_mse\",  \"mae\"],\n",
        "    \"subsample\":[0.5, 0.618, 0.8, 0.85, 0.9, 0.95, 1.0],\n",
        "    \"n_estimators\":[10]\n",
        "    }\n",
        "]\n",
        "Classification_model_gridsearchCV(model,param_grid,Xtrain,Ytrain)"
      ],
      "execution_count": 44,
      "outputs": [
        {
          "output_type": "stream",
          "text": [
            "/usr/local/lib/python3.6/dist-packages/sklearn/model_selection/_search.py:841: DeprecationWarning: The default of the `iid` parameter will change from True to False in version 0.22 and will be removed in 0.24. This will change numeric results when test-set sizes are unequal.\n",
            "  DeprecationWarning)\n"
          ],
          "name": "stderr"
        },
        {
          "output_type": "stream",
          "text": [
            "The best parameter found on development set is :\n",
            "{'criterion': 'mae', 'learning_rate': 0.15, 'loss': 'deviance', 'max_depth': 3, 'max_features': 'log2', 'min_samples_leaf': 0.13636363636363638, 'min_samples_split': 0.3545454545454546, 'n_estimators': 10, 'subsample': 0.95}\n",
            "the bset estimator is \n",
            "GradientBoostingClassifier(criterion='mae', init=None, learning_rate=0.15,\n",
            "              loss='deviance', max_depth=3, max_features='log2',\n",
            "              max_leaf_nodes=None, min_impurity_decrease=0.0,\n",
            "              min_impurity_split=None,\n",
            "              min_samples_leaf=0.13636363636363638,\n",
            "              min_samples_split=0.3545454545454546,\n",
            "              min_weight_fraction_leaf=0.0, n_estimators=10,\n",
            "              n_iter_no_change=None, presort='auto', random_state=None,\n",
            "              subsample=0.95, tol=0.0001, validation_fraction=0.1,\n",
            "              verbose=0, warm_start=False)\n",
            "The best score is \n",
            "0.7222222222222222\n"
          ],
          "name": "stdout"
        }
      ]
    },
    {
      "metadata": {
        "id": "kYgiFxvMCTH0",
        "colab_type": "code",
        "colab": {
          "base_uri": "https://localhost:8080/",
          "height": 53
        },
        "outputId": "c855911c-e1d9-437c-d5f8-457aab8948d3"
      },
      "cell_type": "code",
      "source": [
        "model_gbc = GradientBoostingClassifier(loss='deviance', learning_rate=.15, min_samples_split=.354545, min_samples_leaf=.1363636, max_depth=3, max_features='log2', criterion='mae', subsample=.95, n_estimators=100)\n",
        "model_gbc.fit(Xtrain, Ytrain)\n",
        "# model_gbc.score(Xtest, Ytest)\n",
        "# roc_auc_score(Ytest, model_gbc.decision_function(Xtest))\n",
        "scores = cross_val_score(estimator=model_gbc, X=Xtest, y=Ytest, cv=7)\n",
        "scores"
      ],
      "execution_count": 53,
      "outputs": [
        {
          "output_type": "execute_result",
          "data": {
            "text/plain": [
              "array([0.66666667, 0.88888889, 0.66666667, 0.5       , 0.85714286,\n",
              "       0.71428571, 0.85714286])"
            ]
          },
          "metadata": {
            "tags": []
          },
          "execution_count": 53
        }
      ]
    },
    {
      "metadata": {
        "scrolled": false,
        "id": "bnqcmHxXw3uv",
        "colab_type": "code",
        "outputId": "eac3b543-bdd2-413c-ef8f-ebe8d0801321",
        "colab": {
          "base_uri": "https://localhost:8080/",
          "height": 638
        }
      },
      "cell_type": "code",
      "source": [
        "threshold = plot_roc(model_gbc, Xtest, Ytest)"
      ],
      "execution_count": 54,
      "outputs": [
        {
          "output_type": "stream",
          "text": [
            "AUC score: 0.663743 \n"
          ],
          "name": "stdout"
        },
        {
          "output_type": "display_data",
          "data": {
            "image/png": "[encoded data removed]",
            "text/plain": [
              "<Figure size 576x720 with 1 Axes>"
            ]
          },
          "metadata": {
            "tags": []
          }
        }
      ]
    },
    {
      "metadata": {
        "id": "SzxlljTBw3uz",
        "colab_type": "text"
      },
      "cell_type": "markdown",
      "source": [
        "### NuSVM"
      ]
    },
    {
      "metadata": {
        "id": "qM9gsXT3DUct",
        "colab_type": "code",
        "colab": {
          "base_uri": "https://localhost:8080/",
          "height": 235
        },
        "outputId": "35ef533b-0c73-40cd-e6a0-79b6b78bb15c"
      },
      "cell_type": "code",
      "source": [
        "model = NuSVC()\n",
        "\n",
        "param_grid = [\n",
        "    {\n",
        "    \"nu\": [0.01, 0.025, 0.05, 0.075, 0.1, 0.15, 0.2],\n",
        "    }\n",
        "]\n",
        "Classification_model_gridsearchCV(model,param_grid,Xtrain,Ytrain)"
      ],
      "execution_count": 56,
      "outputs": [
        {
          "output_type": "stream",
          "text": [
            "The best parameter found on development set is :\n",
            "{'nu': 0.01}\n",
            "the bset estimator is \n",
            "NuSVC(cache_size=200, class_weight=None, coef0=0.0,\n",
            "   decision_function_shape='ovr', degree=3, gamma='auto_deprecated',\n",
            "   kernel='rbf', max_iter=-1, nu=0.01, probability=False,\n",
            "   random_state=None, shrinking=True, tol=0.001, verbose=False)\n",
            "The best score is \n",
            "0.6203703703703703\n"
          ],
          "name": "stdout"
        },
        {
          "output_type": "stream",
          "text": [
            "/usr/local/lib/python3.6/dist-packages/sklearn/model_selection/_search.py:841: DeprecationWarning: The default of the `iid` parameter will change from True to False in version 0.22 and will be removed in 0.24. This will change numeric results when test-set sizes are unequal.\n",
            "  DeprecationWarning)\n"
          ],
          "name": "stderr"
        }
      ]
    },
    {
      "metadata": {
        "id": "klc5kWmdDUv1",
        "colab_type": "code",
        "colab": {
          "base_uri": "https://localhost:8080/",
          "height": 53
        },
        "outputId": "1692dabe-3ca0-4271-e45c-e8b008d1d639"
      },
      "cell_type": "code",
      "source": [
        "model_nusvc = NuSVC(nu=.01, probability='True')\n",
        "# model_nusvc.fit(Xtrain, Ytrain)\n",
        "# model_nusvc.score(Xtest, Ytest)\n",
        "# roc_auc_score(Ytest, model_nusvc.decision_function(Xtest))\n",
        "scores = cross_val_score(estimator=model_gbc, X=Xtest, y=Ytest, cv=7)\n",
        "scores"
      ],
      "execution_count": 60,
      "outputs": [
        {
          "output_type": "execute_result",
          "data": {
            "text/plain": [
              "array([0.66666667, 0.88888889, 0.66666667, 0.5       , 0.85714286,\n",
              "       0.71428571, 0.85714286])"
            ]
          },
          "metadata": {
            "tags": []
          },
          "execution_count": 60
        }
      ]
    },
    {
      "metadata": {
        "scrolled": false,
        "id": "x_dlTz4lw3u2",
        "colab_type": "code",
        "outputId": "666d970c-4de0-4099-83dc-033c126d03d4",
        "colab": {
          "base_uri": "https://localhost:8080/",
          "height": 478
        }
      },
      "cell_type": "code",
      "source": [
        "model_nusvc.fit(Xtrain, Ytrain)\n",
        "threshold = plot_roc(model_nusvc, Xtest, Ytest)"
      ],
      "execution_count": 62,
      "outputs": [
        {
          "output_type": "error",
          "ename": "TypeError",
          "evalue": "ignored",
          "traceback": [
            "\u001b[0;31m---------------------------------------------------------------------------\u001b[0m",
            "\u001b[0;31mTypeError\u001b[0m                                 Traceback (most recent call last)",
            "\u001b[0;32m<ipython-input-62-6e3ec04bed43>\u001b[0m in \u001b[0;36m<module>\u001b[0;34m()\u001b[0m\n\u001b[0;32m----> 1\u001b[0;31m \u001b[0mmodel_nusvc\u001b[0m\u001b[0;34m.\u001b[0m\u001b[0mfit\u001b[0m\u001b[0;34m(\u001b[0m\u001b[0mXtrain\u001b[0m\u001b[0;34m,\u001b[0m \u001b[0mYtrain\u001b[0m\u001b[0;34m)\u001b[0m\u001b[0;34m\u001b[0m\u001b[0;34m\u001b[0m\u001b[0m\n\u001b[0m\u001b[1;32m      2\u001b[0m \u001b[0mthreshold\u001b[0m \u001b[0;34m=\u001b[0m \u001b[0mplot_roc\u001b[0m\u001b[0;34m(\u001b[0m\u001b[0mmodel_nusvc\u001b[0m\u001b[0;34m,\u001b[0m \u001b[0mXtest\u001b[0m\u001b[0;34m,\u001b[0m \u001b[0mYtest\u001b[0m\u001b[0;34m)\u001b[0m\u001b[0;34m\u001b[0m\u001b[0;34m\u001b[0m\u001b[0m\n",
            "\u001b[0;32m/usr/local/lib/python3.6/dist-packages/sklearn/svm/base.py\u001b[0m in \u001b[0;36mfit\u001b[0;34m(self, X, y, sample_weight)\u001b[0m\n\u001b[1;32m    210\u001b[0m \u001b[0;34m\u001b[0m\u001b[0m\n\u001b[1;32m    211\u001b[0m         \u001b[0mseed\u001b[0m \u001b[0;34m=\u001b[0m \u001b[0mrnd\u001b[0m\u001b[0;34m.\u001b[0m\u001b[0mrandint\u001b[0m\u001b[0;34m(\u001b[0m\u001b[0mnp\u001b[0m\u001b[0;34m.\u001b[0m\u001b[0miinfo\u001b[0m\u001b[0;34m(\u001b[0m\u001b[0;34m'i'\u001b[0m\u001b[0;34m)\u001b[0m\u001b[0;34m.\u001b[0m\u001b[0mmax\u001b[0m\u001b[0;34m)\u001b[0m\u001b[0;34m\u001b[0m\u001b[0;34m\u001b[0m\u001b[0m\n\u001b[0;32m--> 212\u001b[0;31m         \u001b[0mfit\u001b[0m\u001b[0;34m(\u001b[0m\u001b[0mX\u001b[0m\u001b[0;34m,\u001b[0m \u001b[0my\u001b[0m\u001b[0;34m,\u001b[0m \u001b[0msample_weight\u001b[0m\u001b[0;34m,\u001b[0m \u001b[0msolver_type\u001b[0m\u001b[0;34m,\u001b[0m \u001b[0mkernel\u001b[0m\u001b[0;34m,\u001b[0m \u001b[0mrandom_seed\u001b[0m\u001b[0;34m=\u001b[0m\u001b[0mseed\u001b[0m\u001b[0;34m)\u001b[0m\u001b[0;34m\u001b[0m\u001b[0;34m\u001b[0m\u001b[0m\n\u001b[0m\u001b[1;32m    213\u001b[0m         \u001b[0;31m# see comment on the other call to np.iinfo in this file\u001b[0m\u001b[0;34m\u001b[0m\u001b[0;34m\u001b[0m\u001b[0;34m\u001b[0m\u001b[0m\n\u001b[1;32m    214\u001b[0m \u001b[0;34m\u001b[0m\u001b[0m\n",
            "\u001b[0;32m/usr/local/lib/python3.6/dist-packages/sklearn/svm/base.py\u001b[0m in \u001b[0;36m_dense_fit\u001b[0;34m(self, X, y, sample_weight, solver_type, kernel, random_seed)\u001b[0m\n\u001b[1;32m    269\u001b[0m                 \u001b[0mcache_size\u001b[0m\u001b[0;34m=\u001b[0m\u001b[0mself\u001b[0m\u001b[0;34m.\u001b[0m\u001b[0mcache_size\u001b[0m\u001b[0;34m,\u001b[0m \u001b[0mcoef0\u001b[0m\u001b[0;34m=\u001b[0m\u001b[0mself\u001b[0m\u001b[0;34m.\u001b[0m\u001b[0mcoef0\u001b[0m\u001b[0;34m,\u001b[0m\u001b[0;34m\u001b[0m\u001b[0;34m\u001b[0m\u001b[0m\n\u001b[1;32m    270\u001b[0m                 \u001b[0mgamma\u001b[0m\u001b[0;34m=\u001b[0m\u001b[0mself\u001b[0m\u001b[0;34m.\u001b[0m\u001b[0m_gamma\u001b[0m\u001b[0;34m,\u001b[0m \u001b[0mepsilon\u001b[0m\u001b[0;34m=\u001b[0m\u001b[0mself\u001b[0m\u001b[0;34m.\u001b[0m\u001b[0mepsilon\u001b[0m\u001b[0;34m,\u001b[0m\u001b[0;34m\u001b[0m\u001b[0;34m\u001b[0m\u001b[0m\n\u001b[0;32m--> 271\u001b[0;31m                 max_iter=self.max_iter, random_seed=random_seed)\n\u001b[0m\u001b[1;32m    272\u001b[0m \u001b[0;34m\u001b[0m\u001b[0m\n\u001b[1;32m    273\u001b[0m         \u001b[0mself\u001b[0m\u001b[0;34m.\u001b[0m\u001b[0m_warn_from_fit_status\u001b[0m\u001b[0;34m(\u001b[0m\u001b[0;34m)\u001b[0m\u001b[0;34m\u001b[0m\u001b[0;34m\u001b[0m\u001b[0m\n",
            "\u001b[0;32msklearn/svm/libsvm.pyx\u001b[0m in \u001b[0;36msklearn.svm.libsvm.fit\u001b[0;34m()\u001b[0m\n",
            "\u001b[0;31mTypeError\u001b[0m: an integer is required"
          ]
        }
      ]
    },
    {
      "metadata": {
        "id": "q06BYCeuw3u4",
        "colab_type": "text"
      },
      "cell_type": "markdown",
      "source": [
        "### NuSVC on all Dataset"
      ]
    },
    {
      "metadata": {
        "id": "az76l1wIw3u5",
        "colab_type": "code",
        "colab": {}
      },
      "cell_type": "code",
      "source": [
        "nusvc_all = NuSVC(nu=0.2, kernel='linear', probability=True)"
      ],
      "execution_count": 0,
      "outputs": []
    },
    {
      "metadata": {
        "id": "aAFryMTPw3u7",
        "colab_type": "code",
        "outputId": "0a88514c-2c73-47b4-84ce-808f3a826a1a",
        "colab": {
          "base_uri": "https://localhost:8080/",
          "height": 89
        }
      },
      "cell_type": "code",
      "source": [
        "nusvc_all.fit(x_train_all, y_train_all)"
      ],
      "execution_count": 70,
      "outputs": [
        {
          "output_type": "execute_result",
          "data": {
            "text/plain": [
              "NuSVC(cache_size=200, class_weight=None, coef0=0.0,\n",
              "   decision_function_shape='ovr', degree=3, gamma='auto_deprecated',\n",
              "   kernel='linear', max_iter=-1, nu=0.2, probability=True,\n",
              "   random_state=None, shrinking=True, tol=0.001, verbose=False)"
            ]
          },
          "metadata": {
            "tags": []
          },
          "execution_count": 70
        }
      ]
    },
    {
      "metadata": {
        "id": "nbonZWkVw3u8",
        "colab_type": "text"
      },
      "cell_type": "markdown",
      "source": [
        "### DecisionTreeClassifier"
      ]
    },
    {
      "metadata": {
        "scrolled": true,
        "id": "Ky3KErFvw3u9",
        "colab_type": "code",
        "outputId": "cdf9b995-28fd-4ca3-ab19-75fb397d6322",
        "colab": {
          "base_uri": "https://localhost:8080/",
          "height": 217
        }
      },
      "cell_type": "code",
      "source": [
        "param_grid = {\n",
        "    'max_depth': [int(x) for x in np.linspace(10, 110, num = 11)],\n",
        "    'max_features': [81, 91, 101, 107],\n",
        "    'min_samples_leaf': [3, 4, 5],\n",
        "    'min_samples_split': [4, 2, 3],\n",
        "}\n",
        "# Create a based model\n",
        "dtc = DecisionTreeClassifier()\n",
        "# Instantiate the grid search model\n",
        "grid_search = GridSearchCV(estimator = dtc, param_grid = param_grid, \n",
        "                          cv = 10, n_jobs = -1, verbose = 2)\n",
        "\n",
        "# Fit the grid search to the data\n",
        "#Ytrain = ytrain.reshape(len(Ytrain),)\n",
        "grid_search.fit(Xtrain,Ytrain)\n",
        "grid_search.best_params_"
      ],
      "execution_count": 71,
      "outputs": [
        {
          "output_type": "stream",
          "text": [
            "Fitting 10 folds for each of 396 candidates, totalling 3960 fits\n"
          ],
          "name": "stdout"
        },
        {
          "output_type": "stream",
          "text": [
            "[Parallel(n_jobs=-1)]: Using backend LokyBackend with 2 concurrent workers.\n",
            "[Parallel(n_jobs=-1)]: Done 500 tasks      | elapsed:    4.0s\n",
            "[Parallel(n_jobs=-1)]: Done 3960 out of 3960 | elapsed:   19.5s finished\n",
            "/usr/local/lib/python3.6/dist-packages/sklearn/model_selection/_search.py:841: DeprecationWarning: The default of the `iid` parameter will change from True to False in version 0.22 and will be removed in 0.24. This will change numeric results when test-set sizes are unequal.\n",
            "  DeprecationWarning)\n"
          ],
          "name": "stderr"
        },
        {
          "output_type": "execute_result",
          "data": {
            "text/plain": [
              "{'max_depth': 70,\n",
              " 'max_features': 81,\n",
              " 'min_samples_leaf': 3,\n",
              " 'min_samples_split': 3}"
            ]
          },
          "metadata": {
            "tags": []
          },
          "execution_count": 71
        }
      ]
    },
    {
      "metadata": {
        "id": "g17HKo6Kw3vB",
        "colab_type": "code",
        "outputId": "afc1ec22-6927-4690-a65a-9bca404f5575",
        "colab": {
          "base_uri": "https://localhost:8080/",
          "height": 125
        }
      },
      "cell_type": "code",
      "source": [
        "treeclassifier = DecisionTreeClassifier(max_depth=50, max_features=91, min_samples_leaf=5, min_samples_split=3)\n",
        "treeclassifier.fit(Xtrain, Ytrain)"
      ],
      "execution_count": 72,
      "outputs": [
        {
          "output_type": "execute_result",
          "data": {
            "text/plain": [
              "DecisionTreeClassifier(class_weight=None, criterion='gini', max_depth=50,\n",
              "            max_features=91, max_leaf_nodes=None,\n",
              "            min_impurity_decrease=0.0, min_impurity_split=None,\n",
              "            min_samples_leaf=5, min_samples_split=3,\n",
              "            min_weight_fraction_leaf=0.0, presort=False, random_state=None,\n",
              "            splitter='best')"
            ]
          },
          "metadata": {
            "tags": []
          },
          "execution_count": 72
        }
      ]
    },
    {
      "metadata": {
        "id": "pX_dnBLew3vE",
        "colab_type": "code",
        "outputId": "b2c47eea-3d1f-4e89-b236-ecffdcacedc3",
        "colab": {
          "base_uri": "https://localhost:8080/",
          "height": 710
        }
      },
      "cell_type": "code",
      "source": [
        "print(\"Validation score\",treeclassifier.score(Xval,Yval))\n",
        "print(\"--------------------------------------------\")\n",
        "print(\"test score\",treeclassifier.score(Xtest,Ytest))\n",
        "print(\"--------------------------------------------\")\n",
        "threshold = plot_roc(treeclassifier, Xtest, Ytest)"
      ],
      "execution_count": 73,
      "outputs": [
        {
          "output_type": "stream",
          "text": [
            "Validation score 0.35\n",
            "--------------------------------------------\n",
            "test score 0.5357142857142857\n",
            "--------------------------------------------\n",
            "AUC score: 0.554825 \n"
          ],
          "name": "stdout"
        },
        {
          "output_type": "display_data",
          "data": {
            "image/png": "[encoded data removed]",
            "text/plain": [
              "<Figure size 576x720 with 1 Axes>"
            ]
          },
          "metadata": {
            "tags": []
          }
        }
      ]
    },
    {
      "metadata": {
        "id": "p15yEhu-w3vH",
        "colab_type": "text"
      },
      "cell_type": "markdown",
      "source": [
        "### DecisionTreeClassifier on all Dataset"
      ]
    },
    {
      "metadata": {
        "id": "MmOiooN6w3vH",
        "colab_type": "code",
        "outputId": "810b4e38-be60-4be9-feaa-1ccf7d1757b0",
        "colab": {
          "base_uri": "https://localhost:8080/",
          "height": 235
        }
      },
      "cell_type": "code",
      "source": [
        "param_grid = {\n",
        "    'max_depth': [int(x) for x in np.linspace(10, 110, num = 11)],\n",
        "    'max_features': [81, 91, 101, 107],\n",
        "    'min_samples_leaf': [3, 4, 5],\n",
        "    'min_samples_split': [4, 2, 3],\n",
        "}\n",
        "# Create a based model\n",
        "dtc_all = DecisionTreeClassifier()\n",
        "# Instantiate the grid search model\n",
        "grid_search_all = GridSearchCV(estimator = dtc_all, param_grid = param_grid, \n",
        "                          cv = 10, n_jobs = -1, verbose = 2)\n",
        "\n",
        "# Fit the grid search to the data\n",
        "#Ytrain = ytrain.reshape(len(Ytrain),)\n",
        "grid_search_all.fit(x_train_all, y_train_all)\n",
        "grid_search_all.best_params_"
      ],
      "execution_count": 74,
      "outputs": [
        {
          "output_type": "stream",
          "text": [
            "Fitting 10 folds for each of 396 candidates, totalling 3960 fits\n"
          ],
          "name": "stdout"
        },
        {
          "output_type": "stream",
          "text": [
            "[Parallel(n_jobs=-1)]: Using backend LokyBackend with 2 concurrent workers.\n",
            "[Parallel(n_jobs=-1)]: Done 400 tasks      | elapsed:    3.4s\n",
            "[Parallel(n_jobs=-1)]: Done 1852 tasks      | elapsed:   15.7s\n",
            "[Parallel(n_jobs=-1)]: Done 3960 out of 3960 | elapsed:   33.7s finished\n",
            "/usr/local/lib/python3.6/dist-packages/sklearn/model_selection/_search.py:841: DeprecationWarning: The default of the `iid` parameter will change from True to False in version 0.22 and will be removed in 0.24. This will change numeric results when test-set sizes are unequal.\n",
            "  DeprecationWarning)\n"
          ],
          "name": "stderr"
        },
        {
          "output_type": "execute_result",
          "data": {
            "text/plain": [
              "{'max_depth': 10,\n",
              " 'max_features': 101,\n",
              " 'min_samples_leaf': 3,\n",
              " 'min_samples_split': 3}"
            ]
          },
          "metadata": {
            "tags": []
          },
          "execution_count": 74
        }
      ]
    },
    {
      "metadata": {
        "id": "tTp_XHiOw3vJ",
        "colab_type": "code",
        "outputId": "98df0047-175c-407b-9b03-ae5ecd6d1e92",
        "colab": {
          "base_uri": "https://localhost:8080/",
          "height": 125
        }
      },
      "cell_type": "code",
      "source": [
        "treeclassifier_all = DecisionTreeClassifier(max_depth=10, max_features=87, min_samples_leaf=3, min_samples_split=2)\n",
        "treeclassifier_all.fit(x_train_all, y_train_all)"
      ],
      "execution_count": 75,
      "outputs": [
        {
          "output_type": "execute_result",
          "data": {
            "text/plain": [
              "DecisionTreeClassifier(class_weight=None, criterion='gini', max_depth=10,\n",
              "            max_features=87, max_leaf_nodes=None,\n",
              "            min_impurity_decrease=0.0, min_impurity_split=None,\n",
              "            min_samples_leaf=3, min_samples_split=2,\n",
              "            min_weight_fraction_leaf=0.0, presort=False, random_state=None,\n",
              "            splitter='best')"
            ]
          },
          "metadata": {
            "tags": []
          },
          "execution_count": 75
        }
      ]
    },
    {
      "metadata": {
        "id": "hnMISFwgw3vL",
        "colab_type": "text"
      },
      "cell_type": "markdown",
      "source": [
        "### Adaboost Classifier"
      ]
    },
    {
      "metadata": {
        "scrolled": true,
        "id": "lcSW4l7ew3vL",
        "colab_type": "code",
        "outputId": "da33c16d-0559-496d-a7ec-54faf91f843b",
        "colab": {
          "base_uri": "https://localhost:8080/",
          "height": 107
        }
      },
      "cell_type": "code",
      "source": [
        "param_grid_adaboost = {\n",
        "    'n_estimators': [200, 500, 1000],\n",
        "    'learning_rate': [0.001, 0.001, 0.01, 0.1, 0.2, 0.5,1]\n",
        "}\n",
        "# Create a based model\n",
        "adaboost = AdaBoostClassifier()\n",
        "# Instantiate the grid search model\n",
        "grid_search_adaboost = GridSearchCV(estimator = adaboost, param_grid = param_grid_adaboost, \n",
        "                          cv = 10, n_jobs = -1, verbose = 2)\n",
        "\n",
        "# Fit the grid search to the data\n",
        "#Ytrain = ytrain.reshape(len(Ytrain),)\n",
        "grid_search_adaboost.fit(Xtrain,Ytrain)\n",
        "grid_search_adaboost.best_params_"
      ],
      "execution_count": 76,
      "outputs": [
        {
          "output_type": "stream",
          "text": [
            "[Parallel(n_jobs=-1)]: Using backend LokyBackend with 2 concurrent workers.\n"
          ],
          "name": "stderr"
        },
        {
          "output_type": "stream",
          "text": [
            "Fitting 10 folds for each of 21 candidates, totalling 210 fits\n"
          ],
          "name": "stdout"
        },
        {
          "output_type": "stream",
          "text": [
            "[Parallel(n_jobs=-1)]: Done  37 tasks      | elapsed:   37.3s\n",
            "[Parallel(n_jobs=-1)]: Done 158 tasks      | elapsed:  2.9min\n"
          ],
          "name": "stderr"
        },
        {
          "output_type": "execute_result",
          "data": {
            "text/plain": [
              "{'learning_rate': 0.2, 'n_estimators': 500}"
            ]
          },
          "metadata": {
            "tags": []
          },
          "execution_count": 76
        }
      ]
    },
    {
      "metadata": {
        "scrolled": true,
        "id": "_iOiTofvw3vN",
        "colab_type": "code",
        "outputId": "0a025598-dadf-4f8a-8449-e5af982cbef4",
        "colab": {
          "base_uri": "https://localhost:8080/",
          "height": 53
        }
      },
      "cell_type": "code",
      "source": [
        "adaboost = AdaBoostClassifier(learning_rate=0.5, n_estimators=500)\n",
        "adaboost.fit(Xtrain, Ytrain)"
      ],
      "execution_count": 77,
      "outputs": [
        {
          "output_type": "execute_result",
          "data": {
            "text/plain": [
              "AdaBoostClassifier(algorithm='SAMME.R', base_estimator=None,\n",
              "          learning_rate=0.5, n_estimators=500, random_state=None)"
            ]
          },
          "metadata": {
            "tags": []
          },
          "execution_count": 77
        }
      ]
    },
    {
      "metadata": {
        "scrolled": false,
        "id": "X0uh5EJLw3vP",
        "colab_type": "code",
        "outputId": "4fcde058-b732-4e93-bde2-90cd4e5a74ff",
        "colab": {
          "base_uri": "https://localhost:8080/",
          "height": 710
        }
      },
      "cell_type": "code",
      "source": [
        "print(\"Validation score\",adaboost.score(Xval,Yval))\n",
        "print(\"--------------------------------------------\")\n",
        "print(\"test score\",adaboost.score(Xtest,Ytest))\n",
        "print(\"--------------------------------------------\")\n",
        "threshold = plot_roc(adaboost, Xtest, Ytest)"
      ],
      "execution_count": 78,
      "outputs": [
        {
          "output_type": "stream",
          "text": [
            "Validation score 0.65\n",
            "--------------------------------------------\n",
            "test score 0.7857142857142857\n",
            "--------------------------------------------\n",
            "AUC score: 0.730994 \n"
          ],
          "name": "stdout"
        },
        {
          "output_type": "display_data",
          "data": {
            "image/png": "[encoded data removed]",
            "text/plain": [
              "<Figure size 576x720 with 1 Axes>"
            ]
          },
          "metadata": {
            "tags": []
          }
        }
      ]
    },
    {
      "metadata": {
        "id": "a10hDlBIw3vT",
        "colab_type": "text"
      },
      "cell_type": "markdown",
      "source": [
        "### Adaboost Classifier on all Dataset"
      ]
    },
    {
      "metadata": {
        "id": "wS__y88uw3vU",
        "colab_type": "code",
        "outputId": "4b1cbe85-71c0-47b9-a788-9eb96614b462",
        "colab": {
          "base_uri": "https://localhost:8080/",
          "height": 181
        }
      },
      "cell_type": "code",
      "source": [
        "param_grid_adaboost = {\n",
        "    'n_estimators': [200, 500, 1000],\n",
        "    'learning_rate': [0.001, 0.001, 0.01, 0.1, 0.2, 0.5,1]\n",
        "}\n",
        "# Create a based model\n",
        "adaboost_all = AdaBoostClassifier()\n",
        "# Instantiate the grid search model\n",
        "grid_search_adaboost_all = GridSearchCV(estimator = adaboost_all, param_grid = param_grid_adaboost, \n",
        "                          cv = 10, n_jobs = -1, verbose = 2)\n",
        "\n",
        "# Fit the grid search to the data\n",
        "#Ytrain = ytrain.reshape(len(Ytrain),)\n",
        "grid_search_adaboost_all.fit(x_train_all, y_train_all)\n",
        "grid_search_adaboost_all.best_params_"
      ],
      "execution_count": 79,
      "outputs": [
        {
          "output_type": "stream",
          "text": [
            "Fitting 10 folds for each of 21 candidates, totalling 210 fits\n"
          ],
          "name": "stdout"
        },
        {
          "output_type": "stream",
          "text": [
            "[Parallel(n_jobs=-1)]: Using backend LokyBackend with 2 concurrent workers.\n",
            "[Parallel(n_jobs=-1)]: Done  37 tasks      | elapsed:   54.3s\n",
            "[Parallel(n_jobs=-1)]: Done 158 tasks      | elapsed:  4.2min\n",
            "[Parallel(n_jobs=-1)]: Done 210 out of 210 | elapsed:  5.8min finished\n",
            "/usr/local/lib/python3.6/dist-packages/sklearn/model_selection/_search.py:841: DeprecationWarning: The default of the `iid` parameter will change from True to False in version 0.22 and will be removed in 0.24. This will change numeric results when test-set sizes are unequal.\n",
            "  DeprecationWarning)\n"
          ],
          "name": "stderr"
        },
        {
          "output_type": "execute_result",
          "data": {
            "text/plain": [
              "{'learning_rate': 0.5, 'n_estimators': 1000}"
            ]
          },
          "metadata": {
            "tags": []
          },
          "execution_count": 79
        }
      ]
    },
    {
      "metadata": {
        "id": "aZp-fzpDw3vX",
        "colab_type": "code",
        "colab": {
          "base_uri": "https://localhost:8080/",
          "height": 53
        },
        "outputId": "9db0d8b8-5f03-475f-8a30-ea07bcae1e15"
      },
      "cell_type": "code",
      "source": [
        "adaboost_all = AdaBoostClassifier(learning_rate=1, n_estimators=200)\n",
        "adaboost_all.fit(x_train_all, y_train_all)"
      ],
      "execution_count": 80,
      "outputs": [
        {
          "output_type": "execute_result",
          "data": {
            "text/plain": [
              "AdaBoostClassifier(algorithm='SAMME.R', base_estimator=None, learning_rate=1,\n",
              "          n_estimators=200, random_state=None)"
            ]
          },
          "metadata": {
            "tags": []
          },
          "execution_count": 80
        }
      ]
    },
    {
      "metadata": {
        "id": "baBimBtuw3vZ",
        "colab_type": "text"
      },
      "cell_type": "markdown",
      "source": [
        "### Linear Discriminant Analysis"
      ]
    },
    {
      "metadata": {
        "id": "GntyaxgAw3vZ",
        "colab_type": "code",
        "outputId": "d347206a-3801-4c1d-8963-ab6137d5f377",
        "colab": {
          "base_uri": "https://localhost:8080/",
          "height": 89
        }
      },
      "cell_type": "code",
      "source": [
        "from sklearn.discriminant_analysis import LinearDiscriminantAnalysis\n",
        "LDA = LinearDiscriminantAnalysis()\n",
        "LDA.fit(Xtrain, Ytrain)"
      ],
      "execution_count": 81,
      "outputs": [
        {
          "output_type": "stream",
          "text": [
            "/usr/local/lib/python3.6/dist-packages/sklearn/discriminant_analysis.py:388: UserWarning: Variables are collinear.\n",
            "  warnings.warn(\"Variables are collinear.\")\n"
          ],
          "name": "stderr"
        },
        {
          "output_type": "execute_result",
          "data": {
            "text/plain": [
              "LinearDiscriminantAnalysis(n_components=None, priors=None, shrinkage=None,\n",
              "              solver='svd', store_covariance=False, tol=0.0001)"
            ]
          },
          "metadata": {
            "tags": []
          },
          "execution_count": 81
        }
      ]
    },
    {
      "metadata": {
        "id": "QU61tYCZw3va",
        "colab_type": "code",
        "outputId": "4db69989-427a-46e2-af20-d348f05b07a0",
        "colab": {
          "base_uri": "https://localhost:8080/",
          "height": 710
        }
      },
      "cell_type": "code",
      "source": [
        "print(\"Validation score\",LDA.score(Xval,Yval))\n",
        "print(\"--------------------------------------------\")\n",
        "print(\"test score\",LDA.score(Xtest,Ytest))\n",
        "print(\"--------------------------------------------\")\n",
        "threshold = plot_roc(LDA, Xtest, Ytest)"
      ],
      "execution_count": 82,
      "outputs": [
        {
          "output_type": "stream",
          "text": [
            "Validation score 0.6\n",
            "--------------------------------------------\n",
            "test score 0.625\n",
            "--------------------------------------------\n",
            "AUC score: 0.657895 \n"
          ],
          "name": "stdout"
        },
        {
          "output_type": "display_data",
          "data": {
            "image/png": "[encoded data removed]",
            "text/plain": [
              "<Figure size 576x720 with 1 Axes>"
            ]
          },
          "metadata": {
            "tags": []
          }
        }
      ]
    },
    {
      "metadata": {
        "id": "xrvucWoew3vg",
        "colab_type": "text"
      },
      "cell_type": "markdown",
      "source": [
        "### Linear Discriminant Analysis on all dataset"
      ]
    },
    {
      "metadata": {
        "id": "wWWlUA7Ew3vg",
        "colab_type": "code",
        "colab": {
          "base_uri": "https://localhost:8080/",
          "height": 89
        },
        "outputId": "c9d8341c-866f-46ef-f1ec-8bad14fffa73"
      },
      "cell_type": "code",
      "source": [
        "LDA_all = LinearDiscriminantAnalysis()\n",
        "LDA_all.fit(x_train_all, y_train_all)"
      ],
      "execution_count": 83,
      "outputs": [
        {
          "output_type": "stream",
          "text": [
            "/usr/local/lib/python3.6/dist-packages/sklearn/discriminant_analysis.py:388: UserWarning: Variables are collinear.\n",
            "  warnings.warn(\"Variables are collinear.\")\n"
          ],
          "name": "stderr"
        },
        {
          "output_type": "execute_result",
          "data": {
            "text/plain": [
              "LinearDiscriminantAnalysis(n_components=None, priors=None, shrinkage=None,\n",
              "              solver='svd', store_covariance=False, tol=0.0001)"
            ]
          },
          "metadata": {
            "tags": []
          },
          "execution_count": 83
        }
      ]
    },
    {
      "metadata": {
        "id": "Zegu3C0Qw3vi",
        "colab_type": "text"
      },
      "cell_type": "markdown",
      "source": [
        "### Voting"
      ]
    },
    {
      "metadata": {
        "id": "pURfNg8pw3vk",
        "colab_type": "code",
        "colab": {}
      },
      "cell_type": "code",
      "source": [
        "from sklearn.ensemble import VotingClassifier\n",
        "ensemble=VotingClassifier(estimators=[('Logreg', logreg2),('Logregcv', logregcv), ('SVM', svcmodel),\n",
        "                                       ('clf', clf),  \n",
        "                                      ('ada', adaboost),  ('Nusvm', nusvc)], \n",
        "                       voting='soft', weights=[3,3,4,2,2,4]).fit(Xtrain,Ytrain)"
      ],
      "execution_count": 0,
      "outputs": []
    },
    {
      "metadata": {
        "id": "Ds64tQijw3vn",
        "colab_type": "code",
        "outputId": "79b6f14b-7fdd-4a11-efe5-0d4e4b56e85b",
        "colab": {
          "base_uri": "https://localhost:8080/",
          "height": 35
        }
      },
      "cell_type": "code",
      "source": [
        "print('The accuracy is:',ensemble.score(Xtest,Ytest))"
      ],
      "execution_count": 85,
      "outputs": [
        {
          "output_type": "stream",
          "text": [
            "The accuracy is: 0.9285714285714286\n"
          ],
          "name": "stdout"
        }
      ]
    },
    {
      "metadata": {
        "scrolled": false,
        "id": "d1VewQcdw3vq",
        "colab_type": "code",
        "colab": {
          "base_uri": "https://localhost:8080/",
          "height": 638
        },
        "outputId": "b7284191-772d-4a9a-cb37-3897431aef5d"
      },
      "cell_type": "code",
      "source": [
        "threshold = plot_roc(ensemble, Xtest, Ytest)"
      ],
      "execution_count": 86,
      "outputs": [
        {
          "output_type": "stream",
          "text": [
            "AUC score: 0.967836 \n"
          ],
          "name": "stdout"
        },
        {
          "output_type": "display_data",
          "data": {
            "image/png": "[encoded data removed]",
            "text/plain": [
              "<Figure size 576x720 with 1 Axes>"
            ]
          },
          "metadata": {
            "tags": []
          }
        }
      ]
    },
    {
      "metadata": {
        "id": "kbqKiIzSw3vq",
        "colab_type": "code",
        "colab": {}
      },
      "cell_type": "code",
      "source": [
        "# The confusion matrix helps visualize the performance of the algorithm.\n",
        "y_pred1 = ensemble.predict(Xtest)\n",
        "cm1 = metrics.confusion_matrix(Ytest, y_pred1)\n",
        "#print(cm)"
      ],
      "execution_count": 0,
      "outputs": []
    },
    {
      "metadata": {
        "id": "0lw4FFFDw3vs",
        "colab_type": "code",
        "colab": {
          "base_uri": "https://localhost:8080/",
          "height": 496
        },
        "outputId": "bcdcb6c2-5b7b-423c-f507-7f50e4cbc960"
      },
      "cell_type": "code",
      "source": [
        "from IPython.display import Image, display\n",
        "\n",
        "fig, ax = plt.subplots(figsize=(5, 5))\n",
        "ax.matshow(cm1, cmap=plt.cm.Reds, alpha=0.3)\n",
        "for i in range(cm1.shape[0]):\n",
        "     for j in range(cm1.shape[1]):\n",
        "        ax.text(x=j, y=i,\n",
        "                s=cm1[i, j], \n",
        "                va='center', ha='center')\n",
        "plt.xlabel('Predicted Values', )\n",
        "plt.ylabel('Actual Values')\n",
        "plt.show()\n",
        "print(classification_report(Ytest, y_pred1 ))"
      ],
      "execution_count": 88,
      "outputs": [
        {
          "output_type": "display_data",
          "data": {
            "image/png": "[encoded data removed]",
            "text/plain": [
              "<Figure size 360x360 with 1 Axes>"
            ]
          },
          "metadata": {
            "tags": []
          }
        },
        {
          "output_type": "stream",
          "text": [
            "              precision    recall  f1-score   support\n",
            "\n",
            "          -1       0.93      0.97      0.95        38\n",
            "           1       0.94      0.83      0.88        18\n",
            "\n",
            "   micro avg       0.93      0.93      0.93        56\n",
            "   macro avg       0.93      0.90      0.92        56\n",
            "weighted avg       0.93      0.93      0.93        56\n",
            "\n"
          ],
          "name": "stdout"
        }
      ]
    },
    {
      "metadata": {
        "id": "q-dWlB2Aw3vt",
        "colab_type": "text"
      },
      "cell_type": "markdown",
      "source": [
        "### Voting on all dataset"
      ]
    },
    {
      "metadata": {
        "id": "OJ7A3Lejw3vt",
        "colab_type": "code",
        "outputId": "3b1ab1f9-c220-48e1-e0df-623bcad62c10",
        "colab": {
          "base_uri": "https://localhost:8080/",
          "height": 53
        }
      },
      "cell_type": "code",
      "source": [
        "ensemble_all=VotingClassifier(estimators=[('Logreg', logreg2_all),('Logregcv', logregcv_all), ('SVM', svcmodel_all),\n",
        "                                      ('KNN', knnmodel_all), ('clf', clf_all), ('tree', treeclassifier_all), \n",
        "                                      ('ada', adaboost_all), ('lda', LDA_all), ('Nusvm', nusvc_all)], \n",
        "                       voting='soft', weights=[3,3,4,1,2,1,2,2,4]).fit(x_train_all, y_train_all)"
      ],
      "execution_count": 89,
      "outputs": [
        {
          "output_type": "stream",
          "text": [
            "/usr/local/lib/python3.6/dist-packages/sklearn/discriminant_analysis.py:388: UserWarning: Variables are collinear.\n",
            "  warnings.warn(\"Variables are collinear.\")\n"
          ],
          "name": "stderr"
        }
      ]
    },
    {
      "metadata": {
        "id": "GC9CGIuRw3vv",
        "colab_type": "text"
      },
      "cell_type": "markdown",
      "source": [
        "### Prediction on xtest"
      ]
    },
    {
      "metadata": {
        "id": "f_Gsmj7vw3vv",
        "colab_type": "code",
        "colab": {}
      },
      "cell_type": "code",
      "source": [
        "x_test = xtest.T[good_features]\n",
        "x_test = x_test.T"
      ],
      "execution_count": 0,
      "outputs": []
    },
    {
      "metadata": {
        "scrolled": true,
        "id": "2bM6aqDow3vw",
        "colab_type": "code",
        "outputId": "d06a5148-fdb2-41d5-877a-fcbe193061ae",
        "colab": {
          "base_uri": "https://localhost:8080/",
          "height": 1691
        }
      },
      "cell_type": "code",
      "source": [
        "import collections\n",
        "n = 0\n",
        "predicts = {}\n",
        "for i in range(len(x_test)):\n",
        "    if(ensemble.predict_proba(x_test)[i][1] > 0.5):\n",
        "        n += 1\n",
        "    print('sample'+str(i+1),'--------------------------------->', ensemble.predict_proba(x_test)[i][1])\n",
        "print(n)"
      ],
      "execution_count": 91,
      "outputs": [
        {
          "output_type": "stream",
          "text": [
            "sample1 ---------------------------------> 0.07307302486704646\n",
            "sample2 ---------------------------------> 0.44008509970070137\n",
            "sample3 ---------------------------------> 0.08030005945753443\n",
            "sample4 ---------------------------------> 0.625497454261844\n",
            "sample5 ---------------------------------> 0.5485535327851875\n",
            "sample6 ---------------------------------> 0.07027397570879995\n",
            "sample7 ---------------------------------> 0.09028635526440291\n",
            "sample8 ---------------------------------> 0.1276774782944424\n",
            "sample9 ---------------------------------> 0.7039237726918457\n",
            "sample10 ---------------------------------> 0.23715440030703488\n",
            "sample11 ---------------------------------> 0.9044145251549887\n",
            "sample12 ---------------------------------> 0.33668177448973663\n",
            "sample13 ---------------------------------> 0.2140712574357577\n",
            "sample14 ---------------------------------> 0.10656643059813817\n",
            "sample15 ---------------------------------> 0.7341035111534996\n",
            "sample16 ---------------------------------> 0.15150604683514876\n",
            "sample17 ---------------------------------> 0.33374567896583857\n",
            "sample18 ---------------------------------> 0.06549111464704467\n",
            "sample19 ---------------------------------> 0.8932674064785601\n",
            "sample20 ---------------------------------> 0.06306994784310002\n",
            "sample21 ---------------------------------> 0.8936850888292364\n",
            "sample22 ---------------------------------> 0.07894705318865416\n",
            "sample23 ---------------------------------> 0.20361211386580594\n",
            "sample24 ---------------------------------> 0.06721628513810421\n",
            "sample25 ---------------------------------> 0.05867504866406473\n",
            "sample26 ---------------------------------> 0.13743226582502727\n",
            "sample27 ---------------------------------> 0.5342705148825577\n",
            "sample28 ---------------------------------> 0.2818918897272199\n",
            "sample29 ---------------------------------> 0.5616760809464969\n",
            "sample30 ---------------------------------> 0.1213642283807446\n",
            "sample31 ---------------------------------> 0.8563205694028615\n",
            "sample32 ---------------------------------> 0.33287119562080225\n",
            "sample33 ---------------------------------> 0.07422642459043327\n",
            "sample34 ---------------------------------> 0.10968407485618369\n",
            "sample35 ---------------------------------> 0.26034528350654695\n",
            "sample36 ---------------------------------> 0.16967352943209627\n",
            "sample37 ---------------------------------> 0.6703706459860018\n",
            "sample38 ---------------------------------> 0.3469436001908012\n",
            "sample39 ---------------------------------> 0.20000381363989425\n",
            "sample40 ---------------------------------> 0.16244144351765366\n",
            "sample41 ---------------------------------> 0.06800349651277957\n",
            "sample42 ---------------------------------> 0.22718950477899322\n",
            "sample43 ---------------------------------> 0.9147247313762057\n",
            "sample44 ---------------------------------> 0.22634338600266832\n",
            "sample45 ---------------------------------> 0.14827835282500446\n",
            "sample46 ---------------------------------> 0.7047698737725666\n",
            "sample47 ---------------------------------> 0.09568750684791927\n",
            "sample48 ---------------------------------> 0.07065798978354677\n",
            "sample49 ---------------------------------> 0.08039792482361209\n",
            "sample50 ---------------------------------> 0.06925436632144714\n",
            "sample51 ---------------------------------> 0.7534961394699999\n",
            "sample52 ---------------------------------> 0.3833090769136254\n",
            "sample53 ---------------------------------> 0.07676279125985655\n",
            "sample54 ---------------------------------> 0.1309153693136881\n",
            "sample55 ---------------------------------> 0.8320768266924149\n",
            "sample56 ---------------------------------> 0.9131712451817555\n",
            "sample57 ---------------------------------> 0.35967681241944516\n",
            "sample58 ---------------------------------> 0.09947101376992376\n",
            "sample59 ---------------------------------> 0.05514271785658102\n",
            "sample60 ---------------------------------> 0.32810552354724515\n",
            "sample61 ---------------------------------> 0.845497649638173\n",
            "sample62 ---------------------------------> 0.2609035801903417\n",
            "sample63 ---------------------------------> 0.7771374778919624\n",
            "sample64 ---------------------------------> 0.13304053259702625\n",
            "sample65 ---------------------------------> 0.7754675381138945\n",
            "sample66 ---------------------------------> 0.579509933978041\n",
            "sample67 ---------------------------------> 0.7446668578844278\n",
            "sample68 ---------------------------------> 0.27176409532719303\n",
            "sample69 ---------------------------------> 0.603148830987913\n",
            "sample70 ---------------------------------> 0.7604963491659029\n",
            "sample71 ---------------------------------> 0.22740211748964745\n",
            "sample72 ---------------------------------> 0.3804017917685765\n",
            "sample73 ---------------------------------> 0.06268254254088385\n",
            "sample74 ---------------------------------> 0.4841983926111733\n",
            "sample75 ---------------------------------> 0.192859053885786\n",
            "sample76 ---------------------------------> 0.4461368784856814\n",
            "sample77 ---------------------------------> 0.19878442450308575\n",
            "sample78 ---------------------------------> 0.2385720684386854\n",
            "sample79 ---------------------------------> 0.08369754773142511\n",
            "sample80 ---------------------------------> 0.7106534304441604\n",
            "sample81 ---------------------------------> 0.15666008164078762\n",
            "sample82 ---------------------------------> 0.08406966328329521\n",
            "sample83 ---------------------------------> 0.28735969571260217\n",
            "sample84 ---------------------------------> 0.9475481795912045\n",
            "sample85 ---------------------------------> 0.06137459819455452\n",
            "sample86 ---------------------------------> 0.2446656937307266\n",
            "sample87 ---------------------------------> 0.1743384505800533\n",
            "sample88 ---------------------------------> 0.0674624761862852\n",
            "sample89 ---------------------------------> 0.7355277836708561\n",
            "sample90 ---------------------------------> 0.7104911888632512\n",
            "sample91 ---------------------------------> 0.626002644603401\n",
            "sample92 ---------------------------------> 0.3450968145079962\n",
            "28\n"
          ],
          "name": "stdout"
        }
      ]
    },
    {
      "metadata": {
        "id": "K0YHXpBlw3vz",
        "colab_type": "text"
      },
      "cell_type": "markdown",
      "source": [
        "### Prediction on xtest using all dataset"
      ]
    },
    {
      "metadata": {
        "id": "mKpKnCe5w3vz",
        "colab_type": "code",
        "outputId": "83b96c6d-2a63-4037-e33c-731b66b2ca0d",
        "colab": {
          "base_uri": "https://localhost:8080/",
          "height": 1691
        }
      },
      "cell_type": "code",
      "source": [
        "n1 = 0\n",
        "for i in range(len(xtest)):\n",
        "    if(ensemble.predict_proba(x_test)[i][1] > 0.5):\n",
        "        n1 += 1\n",
        "    print('sample'+str(i+1),'--------------------------------->', ensemble.predict_proba(x_test)[i][1])\n",
        "print(n1)  "
      ],
      "execution_count": 92,
      "outputs": [
        {
          "output_type": "stream",
          "text": [
            "sample1 ---------------------------------> 0.07307302486704646\n",
            "sample2 ---------------------------------> 0.44008509970070137\n",
            "sample3 ---------------------------------> 0.08030005945753443\n",
            "sample4 ---------------------------------> 0.625497454261844\n",
            "sample5 ---------------------------------> 0.5485535327851875\n",
            "sample6 ---------------------------------> 0.07027397570879995\n",
            "sample7 ---------------------------------> 0.09028635526440291\n",
            "sample8 ---------------------------------> 0.1276774782944424\n",
            "sample9 ---------------------------------> 0.7039237726918457\n",
            "sample10 ---------------------------------> 0.23715440030703488\n",
            "sample11 ---------------------------------> 0.9044145251549887\n",
            "sample12 ---------------------------------> 0.33668177448973663\n",
            "sample13 ---------------------------------> 0.2140712574357577\n",
            "sample14 ---------------------------------> 0.10656643059813817\n",
            "sample15 ---------------------------------> 0.7341035111534996\n",
            "sample16 ---------------------------------> 0.15150604683514876\n",
            "sample17 ---------------------------------> 0.33374567896583857\n",
            "sample18 ---------------------------------> 0.06549111464704467\n",
            "sample19 ---------------------------------> 0.8932674064785601\n",
            "sample20 ---------------------------------> 0.06306994784310002\n",
            "sample21 ---------------------------------> 0.8936850888292364\n",
            "sample22 ---------------------------------> 0.07894705318865416\n",
            "sample23 ---------------------------------> 0.20361211386580594\n",
            "sample24 ---------------------------------> 0.06721628513810421\n",
            "sample25 ---------------------------------> 0.05867504866406473\n",
            "sample26 ---------------------------------> 0.13743226582502727\n",
            "sample27 ---------------------------------> 0.5342705148825577\n",
            "sample28 ---------------------------------> 0.2818918897272199\n",
            "sample29 ---------------------------------> 0.5616760809464969\n",
            "sample30 ---------------------------------> 0.1213642283807446\n",
            "sample31 ---------------------------------> 0.8563205694028615\n",
            "sample32 ---------------------------------> 0.33287119562080225\n",
            "sample33 ---------------------------------> 0.07422642459043327\n",
            "sample34 ---------------------------------> 0.10968407485618369\n",
            "sample35 ---------------------------------> 0.26034528350654695\n",
            "sample36 ---------------------------------> 0.16967352943209627\n",
            "sample37 ---------------------------------> 0.6703706459860018\n",
            "sample38 ---------------------------------> 0.3469436001908012\n",
            "sample39 ---------------------------------> 0.20000381363989425\n",
            "sample40 ---------------------------------> 0.16244144351765366\n",
            "sample41 ---------------------------------> 0.06800349651277957\n",
            "sample42 ---------------------------------> 0.22718950477899322\n",
            "sample43 ---------------------------------> 0.9147247313762057\n",
            "sample44 ---------------------------------> 0.22634338600266832\n",
            "sample45 ---------------------------------> 0.14827835282500446\n",
            "sample46 ---------------------------------> 0.7047698737725666\n",
            "sample47 ---------------------------------> 0.09568750684791927\n",
            "sample48 ---------------------------------> 0.07065798978354677\n",
            "sample49 ---------------------------------> 0.08039792482361209\n",
            "sample50 ---------------------------------> 0.06925436632144714\n",
            "sample51 ---------------------------------> 0.7534961394699999\n",
            "sample52 ---------------------------------> 0.3833090769136254\n",
            "sample53 ---------------------------------> 0.07676279125985655\n",
            "sample54 ---------------------------------> 0.1309153693136881\n",
            "sample55 ---------------------------------> 0.8320768266924149\n",
            "sample56 ---------------------------------> 0.9131712451817555\n",
            "sample57 ---------------------------------> 0.35967681241944516\n",
            "sample58 ---------------------------------> 0.09947101376992376\n",
            "sample59 ---------------------------------> 0.05514271785658102\n",
            "sample60 ---------------------------------> 0.32810552354724515\n",
            "sample61 ---------------------------------> 0.845497649638173\n",
            "sample62 ---------------------------------> 0.2609035801903417\n",
            "sample63 ---------------------------------> 0.7771374778919624\n",
            "sample64 ---------------------------------> 0.13304053259702625\n",
            "sample65 ---------------------------------> 0.7754675381138945\n",
            "sample66 ---------------------------------> 0.579509933978041\n",
            "sample67 ---------------------------------> 0.7446668578844278\n",
            "sample68 ---------------------------------> 0.27176409532719303\n",
            "sample69 ---------------------------------> 0.603148830987913\n",
            "sample70 ---------------------------------> 0.7604963491659029\n",
            "sample71 ---------------------------------> 0.22740211748964745\n",
            "sample72 ---------------------------------> 0.3804017917685765\n",
            "sample73 ---------------------------------> 0.06268254254088385\n",
            "sample74 ---------------------------------> 0.4841983926111733\n",
            "sample75 ---------------------------------> 0.192859053885786\n",
            "sample76 ---------------------------------> 0.4461368784856814\n",
            "sample77 ---------------------------------> 0.19878442450308575\n",
            "sample78 ---------------------------------> 0.2385720684386854\n",
            "sample79 ---------------------------------> 0.08369754773142511\n",
            "sample80 ---------------------------------> 0.7106534304441604\n",
            "sample81 ---------------------------------> 0.15666008164078762\n",
            "sample82 ---------------------------------> 0.08406966328329521\n",
            "sample83 ---------------------------------> 0.28735969571260217\n",
            "sample84 ---------------------------------> 0.9475481795912045\n",
            "sample85 ---------------------------------> 0.06137459819455452\n",
            "sample86 ---------------------------------> 0.2446656937307266\n",
            "sample87 ---------------------------------> 0.1743384505800533\n",
            "sample88 ---------------------------------> 0.0674624761862852\n",
            "sample89 ---------------------------------> 0.7355277836708561\n",
            "sample90 ---------------------------------> 0.7104911888632512\n",
            "sample91 ---------------------------------> 0.626002644603401\n",
            "sample92 ---------------------------------> 0.3450968145079962\n",
            "28\n"
          ],
          "name": "stdout"
        }
      ]
    },
    {
      "metadata": {
        "id": "63GzgXfbw3v2",
        "colab_type": "code",
        "colab": {}
      },
      "cell_type": "code",
      "source": [
        ""
      ],
      "execution_count": 0,
      "outputs": []
    },
    {
      "metadata": {
        "id": "iuYmw50nw3v3",
        "colab_type": "code",
        "outputId": "75453bf3-1fbb-4fc7-8993-50a19725695b",
        "colab": {
          "base_uri": "https://localhost:8080/",
          "height": 172
        }
      },
      "cell_type": "code",
      "source": [
        "pred.to_csv('predictions.csv', index=False)"
      ],
      "execution_count": 93,
      "outputs": [
        {
          "output_type": "error",
          "ename": "NameError",
          "evalue": "ignored",
          "traceback": [
            "\u001b[0;31m---------------------------------------------------------------------------\u001b[0m",
            "\u001b[0;31mNameError\u001b[0m                                 Traceback (most recent call last)",
            "\u001b[0;32m<ipython-input-93-5a9e5ab35f67>\u001b[0m in \u001b[0;36m<module>\u001b[0;34m()\u001b[0m\n\u001b[0;32m----> 1\u001b[0;31m \u001b[0mpred\u001b[0m\u001b[0;34m.\u001b[0m\u001b[0mto_csv\u001b[0m\u001b[0;34m(\u001b[0m\u001b[0;34m'predictions.csv'\u001b[0m\u001b[0;34m,\u001b[0m \u001b[0mindex\u001b[0m\u001b[0;34m=\u001b[0m\u001b[0;32mFalse\u001b[0m\u001b[0;34m)\u001b[0m\u001b[0;34m\u001b[0m\u001b[0;34m\u001b[0m\u001b[0m\n\u001b[0m",
            "\u001b[0;31mNameError\u001b[0m: name 'pred' is not defined"
          ]
        }
      ]
    },
    {
      "metadata": {
        "id": "cDLNcxYWw3v4",
        "colab_type": "code",
        "colab": {}
      },
      "cell_type": "code",
      "source": [
        ""
      ],
      "execution_count": 0,
      "outputs": []
    }
  ]
}