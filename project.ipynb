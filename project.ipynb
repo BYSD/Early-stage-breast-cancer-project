{
 "cells": [
  {
   "cell_type": "markdown",
   "metadata": {},
   "source": [
    "### import library"
   ]
  },
  {
   "cell_type": "code",
   "execution_count": 1,
   "metadata": {},
   "outputs": [
    {
     "name": "stderr",
     "output_type": "stream",
     "text": [
      "/usr/lib/python3/dist-packages/sklearn/ensemble/weight_boosting.py:29: DeprecationWarning: numpy.core.umath_tests is an internal NumPy module and should not be imported. It will be removed in a future NumPy release.\n",
      "  from numpy.core.umath_tests import inner1d\n"
     ]
    }
   ],
   "source": [
    "import numpy as np\n",
    "import pandas as pd\n",
    "import matplotlib.pyplot as plt\n",
    "from sklearn.metrics import classification_report\n",
    "from sklearn.metrics import confusion_matrix\n",
    "from sklearn.metrics import accuracy_score\n",
    "from sklearn.model_selection import train_test_split\n",
    "from sklearn.model_selection import cross_val_score\n",
    "from sklearn.model_selection import KFold\n",
    "from sklearn.tree import DecisionTreeClassifier\n",
    "from sklearn.preprocessing import StandardScaler\n",
    "from sklearn.model_selection import GridSearchCV\n",
    "from sklearn.svm import SVC\n",
    "import time\n",
    "from matplotlib import cm as cm\n",
    "from sklearn.ensemble import RandomForestClassifier\n",
    "import seaborn as sns\n",
    "from sklearn.linear_model import LogisticRegression\n",
    "from sklearn.linear_model import LogisticRegressionCV\n",
    "from sklearn.ensemble import GradientBoostingClassifier\n",
    "from sklearn.ne"
   ]
  },
  {
   "cell_type": "markdown",
   "metadata": {},
   "source": [
    "### load data"
   ]
  },
  {
   "cell_type": "code",
   "execution_count": 2,
   "metadata": {},
   "outputs": [],
   "source": [
    "def loadData(file):\n",
    "    data = pd.read_csv('data/'+file, sep=\"\\t\", header=None)\n",
    "    return data"
   ]
  },
  {
   "cell_type": "code",
   "execution_count": 7,
   "metadata": {},
   "outputs": [],
   "source": [
    "#load data\n",
    "xtrain = loadData('xtrain.txt').T\n",
    "xtest = loadData('xtest.txt').T\n",
    "ytrain = loadData('ytrain.txt')\n",
    "\n",
    "# #take first row as columns names\n",
    "header1 = xtrain.iloc[0]\n",
    "xtrain = xtrain[1:]\n",
    "xtrain = xtrain.rename(columns = header1)\n",
    "\n",
    "header2 = xtest.iloc[0]\n",
    "xtest = xtest[1:]\n",
    "xtest = xtest.rename(columns = header2)\n"
   ]
  },
  {
   "cell_type": "code",
   "execution_count": 8,
   "metadata": {},
   "outputs": [
    {
     "data": {
      "text/plain": [
       "((184, 4654), (184, 1))"
      ]
     },
     "execution_count": 8,
     "metadata": {},
     "output_type": "execute_result"
    }
   ],
   "source": [
    "xtrain.shape, ytrain.shape"
   ]
  },
  {
   "cell_type": "code",
   "execution_count": 9,
   "metadata": {},
   "outputs": [
    {
     "name": "stdout",
     "output_type": "stream",
     "text": [
      "118 66\n"
     ]
    }
   ],
   "source": [
    "negatif = 0\n",
    "positif = 0\n",
    "for i in range(len(ytrain)):\n",
    "    if ytrain[0][i] == -1:\n",
    "        negatif += 1\n",
    "    else:\n",
    "        positif += 1\n",
    "print(negatif, positif)"
   ]
  },
  {
   "cell_type": "code",
   "execution_count": 10,
   "metadata": {
    "scrolled": false
   },
   "outputs": [
    {
     "data": {
      "text/html": [
       "<div>\n",
       "<table border=\"1\" class=\"dataframe\">\n",
       "  <thead>\n",
       "    <tr style=\"text-align: right;\">\n",
       "      <th></th>\n",
       "      <th>x10006_at</th>\n",
       "      <th>x10007_at</th>\n",
       "      <th>x100129361_at</th>\n",
       "      <th>x100130449_at</th>\n",
       "      <th>x100130633_at</th>\n",
       "      <th>x100133941_at</th>\n",
       "      <th>x10014_at</th>\n",
       "      <th>x10016_at</th>\n",
       "      <th>x100188893_at</th>\n",
       "      <th>x10019_at</th>\n",
       "      <th>...</th>\n",
       "      <th>x9976_at</th>\n",
       "      <th>x9978_at</th>\n",
       "      <th>x997_at</th>\n",
       "      <th>x9984_at</th>\n",
       "      <th>x9987_at</th>\n",
       "      <th>x9988_at</th>\n",
       "      <th>x9989_at</th>\n",
       "      <th>x9994_at</th>\n",
       "      <th>x9997_at</th>\n",
       "      <th>x9_at</th>\n",
       "    </tr>\n",
       "  </thead>\n",
       "  <tbody>\n",
       "    <tr>\n",
       "      <th>1</th>\n",
       "      <td>8.44</td>\n",
       "      <td>7.84</td>\n",
       "      <td>9.23</td>\n",
       "      <td>2.2</td>\n",
       "      <td>4.93</td>\n",
       "      <td>10.31</td>\n",
       "      <td>7.85</td>\n",
       "      <td>9.91</td>\n",
       "      <td>11.37</td>\n",
       "      <td>3.48</td>\n",
       "      <td>...</td>\n",
       "      <td>7.71</td>\n",
       "      <td>11.32</td>\n",
       "      <td>6.37</td>\n",
       "      <td>8.63</td>\n",
       "      <td>8.61</td>\n",
       "      <td>7.42</td>\n",
       "      <td>8.79</td>\n",
       "      <td>4.7</td>\n",
       "      <td>7.23</td>\n",
       "      <td>8.28</td>\n",
       "    </tr>\n",
       "    <tr>\n",
       "      <th>2</th>\n",
       "      <td>7.93</td>\n",
       "      <td>8.47</td>\n",
       "      <td>7.77</td>\n",
       "      <td>2.48</td>\n",
       "      <td>6.7</td>\n",
       "      <td>11.03</td>\n",
       "      <td>3.33</td>\n",
       "      <td>9.53</td>\n",
       "      <td>10.91</td>\n",
       "      <td>4.28</td>\n",
       "      <td>...</td>\n",
       "      <td>9.98</td>\n",
       "      <td>10.4</td>\n",
       "      <td>5.96</td>\n",
       "      <td>7.61</td>\n",
       "      <td>9.51</td>\n",
       "      <td>8.2</td>\n",
       "      <td>9.27</td>\n",
       "      <td>4.7</td>\n",
       "      <td>6.7</td>\n",
       "      <td>12.78</td>\n",
       "    </tr>\n",
       "    <tr>\n",
       "      <th>3</th>\n",
       "      <td>7.53</td>\n",
       "      <td>7.49</td>\n",
       "      <td>9.49</td>\n",
       "      <td>5.66</td>\n",
       "      <td>5.99</td>\n",
       "      <td>8.87</td>\n",
       "      <td>3.48</td>\n",
       "      <td>8.02</td>\n",
       "      <td>10.73</td>\n",
       "      <td>4.07</td>\n",
       "      <td>...</td>\n",
       "      <td>8.34</td>\n",
       "      <td>10.57</td>\n",
       "      <td>6.92</td>\n",
       "      <td>8.2</td>\n",
       "      <td>8.71</td>\n",
       "      <td>8.56</td>\n",
       "      <td>8.9</td>\n",
       "      <td>4.7</td>\n",
       "      <td>7.7</td>\n",
       "      <td>12.22</td>\n",
       "    </tr>\n",
       "    <tr>\n",
       "      <th>4</th>\n",
       "      <td>7.72</td>\n",
       "      <td>8.38</td>\n",
       "      <td>8.03</td>\n",
       "      <td>5.22</td>\n",
       "      <td>6.95</td>\n",
       "      <td>2.73</td>\n",
       "      <td>4.06</td>\n",
       "      <td>9.26</td>\n",
       "      <td>10.9</td>\n",
       "      <td>7.4</td>\n",
       "      <td>...</td>\n",
       "      <td>9.05</td>\n",
       "      <td>10.92</td>\n",
       "      <td>5.73</td>\n",
       "      <td>8.44</td>\n",
       "      <td>9.18</td>\n",
       "      <td>7.86</td>\n",
       "      <td>9.3</td>\n",
       "      <td>5.58</td>\n",
       "      <td>7.95</td>\n",
       "      <td>12.18</td>\n",
       "    </tr>\n",
       "    <tr>\n",
       "      <th>5</th>\n",
       "      <td>7.89</td>\n",
       "      <td>7.75</td>\n",
       "      <td>6.99</td>\n",
       "      <td>2.2</td>\n",
       "      <td>7.06</td>\n",
       "      <td>11.38</td>\n",
       "      <td>3.65</td>\n",
       "      <td>9.22</td>\n",
       "      <td>10.37</td>\n",
       "      <td>3.89</td>\n",
       "      <td>...</td>\n",
       "      <td>9.16</td>\n",
       "      <td>10.73</td>\n",
       "      <td>7.45</td>\n",
       "      <td>7.79</td>\n",
       "      <td>9.15</td>\n",
       "      <td>7.97</td>\n",
       "      <td>8.5</td>\n",
       "      <td>4.7</td>\n",
       "      <td>6.63</td>\n",
       "      <td>12.12</td>\n",
       "    </tr>\n",
       "  </tbody>\n",
       "</table>\n",
       "<p>5 rows × 4654 columns</p>\n",
       "</div>"
      ],
      "text/plain": [
       "  x10006_at x10007_at x100129361_at x100130449_at x100130633_at x100133941_at  \\\n",
       "1      8.44      7.84          9.23           2.2          4.93         10.31   \n",
       "2      7.93      8.47          7.77          2.48           6.7         11.03   \n",
       "3      7.53      7.49          9.49          5.66          5.99          8.87   \n",
       "4      7.72      8.38          8.03          5.22          6.95          2.73   \n",
       "5      7.89      7.75          6.99           2.2          7.06         11.38   \n",
       "\n",
       "  x10014_at x10016_at x100188893_at x10019_at  ...   x9976_at x9978_at  \\\n",
       "1      7.85      9.91         11.37      3.48  ...       7.71    11.32   \n",
       "2      3.33      9.53         10.91      4.28  ...       9.98     10.4   \n",
       "3      3.48      8.02         10.73      4.07  ...       8.34    10.57   \n",
       "4      4.06      9.26          10.9       7.4  ...       9.05    10.92   \n",
       "5      3.65      9.22         10.37      3.89  ...       9.16    10.73   \n",
       "\n",
       "  x997_at x9984_at x9987_at x9988_at x9989_at x9994_at x9997_at  x9_at  \n",
       "1    6.37     8.63     8.61     7.42     8.79      4.7     7.23   8.28  \n",
       "2    5.96     7.61     9.51      8.2     9.27      4.7      6.7  12.78  \n",
       "3    6.92      8.2     8.71     8.56      8.9      4.7      7.7  12.22  \n",
       "4    5.73     8.44     9.18     7.86      9.3     5.58     7.95  12.18  \n",
       "5    7.45     7.79     9.15     7.97      8.5      4.7     6.63  12.12  \n",
       "\n",
       "[5 rows x 4654 columns]"
      ]
     },
     "execution_count": 10,
     "metadata": {},
     "output_type": "execute_result"
    }
   ],
   "source": [
    "xtrain.head()"
   ]
  },
  {
   "cell_type": "code",
   "execution_count": 11,
   "metadata": {
    "scrolled": true
   },
   "outputs": [
    {
     "data": {
      "text/html": [
       "<div>\n",
       "<table border=\"1\" class=\"dataframe\">\n",
       "  <thead>\n",
       "    <tr style=\"text-align: right;\">\n",
       "      <th></th>\n",
       "      <th>x10006_at</th>\n",
       "      <th>x10007_at</th>\n",
       "      <th>x100129361_at</th>\n",
       "      <th>x100130449_at</th>\n",
       "      <th>x100130633_at</th>\n",
       "      <th>x100133941_at</th>\n",
       "      <th>x10014_at</th>\n",
       "      <th>x10016_at</th>\n",
       "      <th>x100188893_at</th>\n",
       "      <th>x10019_at</th>\n",
       "      <th>...</th>\n",
       "      <th>x9976_at</th>\n",
       "      <th>x9978_at</th>\n",
       "      <th>x997_at</th>\n",
       "      <th>x9984_at</th>\n",
       "      <th>x9987_at</th>\n",
       "      <th>x9988_at</th>\n",
       "      <th>x9989_at</th>\n",
       "      <th>x9994_at</th>\n",
       "      <th>x9997_at</th>\n",
       "      <th>x9_at</th>\n",
       "    </tr>\n",
       "  </thead>\n",
       "  <tbody>\n",
       "    <tr>\n",
       "      <th>1</th>\n",
       "      <td>8.54</td>\n",
       "      <td>7.76</td>\n",
       "      <td>8.08</td>\n",
       "      <td>2.2</td>\n",
       "      <td>7.23</td>\n",
       "      <td>10.07</td>\n",
       "      <td>4.16</td>\n",
       "      <td>9.77</td>\n",
       "      <td>10.7</td>\n",
       "      <td>5.35</td>\n",
       "      <td>...</td>\n",
       "      <td>9.44</td>\n",
       "      <td>11.18</td>\n",
       "      <td>6.65</td>\n",
       "      <td>7.92</td>\n",
       "      <td>9.32</td>\n",
       "      <td>8.48</td>\n",
       "      <td>8.51</td>\n",
       "      <td>4.01</td>\n",
       "      <td>7.91</td>\n",
       "      <td>9.46</td>\n",
       "    </tr>\n",
       "    <tr>\n",
       "      <th>2</th>\n",
       "      <td>8.13</td>\n",
       "      <td>8.18</td>\n",
       "      <td>7.68</td>\n",
       "      <td>2.2</td>\n",
       "      <td>7.11</td>\n",
       "      <td>8.91</td>\n",
       "      <td>5.05</td>\n",
       "      <td>8.8</td>\n",
       "      <td>10.64</td>\n",
       "      <td>4.86</td>\n",
       "      <td>...</td>\n",
       "      <td>8.51</td>\n",
       "      <td>11.31</td>\n",
       "      <td>5.76</td>\n",
       "      <td>7.43</td>\n",
       "      <td>10.39</td>\n",
       "      <td>8.23</td>\n",
       "      <td>9.49</td>\n",
       "      <td>4.7</td>\n",
       "      <td>7.14</td>\n",
       "      <td>7.02</td>\n",
       "    </tr>\n",
       "    <tr>\n",
       "      <th>3</th>\n",
       "      <td>7.94</td>\n",
       "      <td>8.26</td>\n",
       "      <td>7.37</td>\n",
       "      <td>2.2</td>\n",
       "      <td>6.98</td>\n",
       "      <td>11.81</td>\n",
       "      <td>4.16</td>\n",
       "      <td>10.07</td>\n",
       "      <td>10.64</td>\n",
       "      <td>4.3</td>\n",
       "      <td>...</td>\n",
       "      <td>8.4</td>\n",
       "      <td>10.2</td>\n",
       "      <td>5.35</td>\n",
       "      <td>8.42</td>\n",
       "      <td>9.44</td>\n",
       "      <td>7.87</td>\n",
       "      <td>8.64</td>\n",
       "      <td>4.78</td>\n",
       "      <td>6.13</td>\n",
       "      <td>10.57</td>\n",
       "    </tr>\n",
       "    <tr>\n",
       "      <th>4</th>\n",
       "      <td>8.7</td>\n",
       "      <td>8.08</td>\n",
       "      <td>8.27</td>\n",
       "      <td>2.2</td>\n",
       "      <td>7.45</td>\n",
       "      <td>7.9</td>\n",
       "      <td>5</td>\n",
       "      <td>8.66</td>\n",
       "      <td>10.41</td>\n",
       "      <td>5.07</td>\n",
       "      <td>...</td>\n",
       "      <td>8.9</td>\n",
       "      <td>10.77</td>\n",
       "      <td>6.6</td>\n",
       "      <td>7.8</td>\n",
       "      <td>9.39</td>\n",
       "      <td>8.74</td>\n",
       "      <td>9.61</td>\n",
       "      <td>5.13</td>\n",
       "      <td>6.73</td>\n",
       "      <td>5.31</td>\n",
       "    </tr>\n",
       "    <tr>\n",
       "      <th>5</th>\n",
       "      <td>8.97</td>\n",
       "      <td>8.2</td>\n",
       "      <td>8.87</td>\n",
       "      <td>2.2</td>\n",
       "      <td>6.98</td>\n",
       "      <td>11.49</td>\n",
       "      <td>3.47</td>\n",
       "      <td>9.97</td>\n",
       "      <td>11.63</td>\n",
       "      <td>4.65</td>\n",
       "      <td>...</td>\n",
       "      <td>9.15</td>\n",
       "      <td>11.9</td>\n",
       "      <td>7.34</td>\n",
       "      <td>8.26</td>\n",
       "      <td>8.81</td>\n",
       "      <td>8.12</td>\n",
       "      <td>9.93</td>\n",
       "      <td>7.07</td>\n",
       "      <td>6.84</td>\n",
       "      <td>3</td>\n",
       "    </tr>\n",
       "  </tbody>\n",
       "</table>\n",
       "<p>5 rows × 4654 columns</p>\n",
       "</div>"
      ],
      "text/plain": [
       "  x10006_at x10007_at x100129361_at x100130449_at x100130633_at x100133941_at  \\\n",
       "1      8.54      7.76          8.08           2.2          7.23         10.07   \n",
       "2      8.13      8.18          7.68           2.2          7.11          8.91   \n",
       "3      7.94      8.26          7.37           2.2          6.98         11.81   \n",
       "4       8.7      8.08          8.27           2.2          7.45           7.9   \n",
       "5      8.97       8.2          8.87           2.2          6.98         11.49   \n",
       "\n",
       "  x10014_at x10016_at x100188893_at x10019_at  ...   x9976_at x9978_at  \\\n",
       "1      4.16      9.77          10.7      5.35  ...       9.44    11.18   \n",
       "2      5.05       8.8         10.64      4.86  ...       8.51    11.31   \n",
       "3      4.16     10.07         10.64       4.3  ...        8.4     10.2   \n",
       "4         5      8.66         10.41      5.07  ...        8.9    10.77   \n",
       "5      3.47      9.97         11.63      4.65  ...       9.15     11.9   \n",
       "\n",
       "  x997_at x9984_at x9987_at x9988_at x9989_at x9994_at x9997_at  x9_at  \n",
       "1    6.65     7.92     9.32     8.48     8.51     4.01     7.91   9.46  \n",
       "2    5.76     7.43    10.39     8.23     9.49      4.7     7.14   7.02  \n",
       "3    5.35     8.42     9.44     7.87     8.64     4.78     6.13  10.57  \n",
       "4     6.6      7.8     9.39     8.74     9.61     5.13     6.73   5.31  \n",
       "5    7.34     8.26     8.81     8.12     9.93     7.07     6.84      3  \n",
       "\n",
       "[5 rows x 4654 columns]"
      ]
     },
     "execution_count": 11,
     "metadata": {},
     "output_type": "execute_result"
    }
   ],
   "source": [
    "xtest.head()"
   ]
  },
  {
   "cell_type": "code",
   "execution_count": 12,
   "metadata": {
    "scrolled": true
   },
   "outputs": [
    {
     "data": {
      "text/plain": [
       "True"
      ]
     },
     "execution_count": 12,
     "metadata": {},
     "output_type": "execute_result"
    }
   ],
   "source": [
    "np.all(xtrain.columns == xtest.columns)"
   ]
  },
  {
   "cell_type": "code",
   "execution_count": 258,
   "metadata": {},
   "outputs": [
    {
     "data": {
      "text/html": [
       "<div>\n",
       "<table border=\"1\" class=\"dataframe\">\n",
       "  <thead>\n",
       "    <tr style=\"text-align: right;\">\n",
       "      <th></th>\n",
       "      <th>x10006_at</th>\n",
       "      <th>x10007_at</th>\n",
       "      <th>x100129361_at</th>\n",
       "      <th>x100130449_at</th>\n",
       "      <th>x100130633_at</th>\n",
       "      <th>x100133941_at</th>\n",
       "      <th>x10014_at</th>\n",
       "      <th>x10016_at</th>\n",
       "      <th>x100188893_at</th>\n",
       "      <th>x10019_at</th>\n",
       "      <th>...</th>\n",
       "      <th>x9976_at</th>\n",
       "      <th>x9978_at</th>\n",
       "      <th>x997_at</th>\n",
       "      <th>x9984_at</th>\n",
       "      <th>x9987_at</th>\n",
       "      <th>x9988_at</th>\n",
       "      <th>x9989_at</th>\n",
       "      <th>x9994_at</th>\n",
       "      <th>x9997_at</th>\n",
       "      <th>x9_at</th>\n",
       "    </tr>\n",
       "  </thead>\n",
       "  <tbody>\n",
       "    <tr>\n",
       "      <th>count</th>\n",
       "      <td>184.00</td>\n",
       "      <td>184.00</td>\n",
       "      <td>184.00</td>\n",
       "      <td>184.0</td>\n",
       "      <td>184.00</td>\n",
       "      <td>184.00</td>\n",
       "      <td>184.00</td>\n",
       "      <td>184.00</td>\n",
       "      <td>184.00</td>\n",
       "      <td>184.00</td>\n",
       "      <td>...</td>\n",
       "      <td>184.00</td>\n",
       "      <td>184.00</td>\n",
       "      <td>184.00</td>\n",
       "      <td>184.00</td>\n",
       "      <td>184.00</td>\n",
       "      <td>184.00</td>\n",
       "      <td>184.00</td>\n",
       "      <td>184.0</td>\n",
       "      <td>184.00</td>\n",
       "      <td>184.0</td>\n",
       "    </tr>\n",
       "    <tr>\n",
       "      <th>unique</th>\n",
       "      <td>121.00</td>\n",
       "      <td>111.00</td>\n",
       "      <td>137.00</td>\n",
       "      <td>61.0</td>\n",
       "      <td>128.00</td>\n",
       "      <td>148.00</td>\n",
       "      <td>117.00</td>\n",
       "      <td>126.00</td>\n",
       "      <td>110.00</td>\n",
       "      <td>125.00</td>\n",
       "      <td>...</td>\n",
       "      <td>148.00</td>\n",
       "      <td>121.00</td>\n",
       "      <td>136.00</td>\n",
       "      <td>127.00</td>\n",
       "      <td>114.00</td>\n",
       "      <td>125.00</td>\n",
       "      <td>129.00</td>\n",
       "      <td>74.0</td>\n",
       "      <td>137.00</td>\n",
       "      <td>144.0</td>\n",
       "    </tr>\n",
       "    <tr>\n",
       "      <th>top</th>\n",
       "      <td>7.79</td>\n",
       "      <td>8.21</td>\n",
       "      <td>8.23</td>\n",
       "      <td>2.2</td>\n",
       "      <td>6.97</td>\n",
       "      <td>11.03</td>\n",
       "      <td>3.68</td>\n",
       "      <td>9.22</td>\n",
       "      <td>10.74</td>\n",
       "      <td>4.28</td>\n",
       "      <td>...</td>\n",
       "      <td>9.72</td>\n",
       "      <td>11.34</td>\n",
       "      <td>5.76</td>\n",
       "      <td>7.87</td>\n",
       "      <td>9.78</td>\n",
       "      <td>8.18</td>\n",
       "      <td>8.86</td>\n",
       "      <td>4.7</td>\n",
       "      <td>7.38</td>\n",
       "      <td>3.0</td>\n",
       "    </tr>\n",
       "    <tr>\n",
       "      <th>freq</th>\n",
       "      <td>13.00</td>\n",
       "      <td>6.00</td>\n",
       "      <td>5.00</td>\n",
       "      <td>105.0</td>\n",
       "      <td>9.00</td>\n",
       "      <td>5.00</td>\n",
       "      <td>5.00</td>\n",
       "      <td>4.00</td>\n",
       "      <td>4.00</td>\n",
       "      <td>14.00</td>\n",
       "      <td>...</td>\n",
       "      <td>3.00</td>\n",
       "      <td>4.00</td>\n",
       "      <td>19.00</td>\n",
       "      <td>5.00</td>\n",
       "      <td>4.00</td>\n",
       "      <td>4.00</td>\n",
       "      <td>4.00</td>\n",
       "      <td>49.0</td>\n",
       "      <td>10.00</td>\n",
       "      <td>29.0</td>\n",
       "    </tr>\n",
       "  </tbody>\n",
       "</table>\n",
       "<p>4 rows × 4654 columns</p>\n",
       "</div>"
      ],
      "text/plain": [
       "        x10006_at  x10007_at  x100129361_at  x100130449_at  x100130633_at  \\\n",
       "count      184.00     184.00         184.00          184.0         184.00   \n",
       "unique     121.00     111.00         137.00           61.0         128.00   \n",
       "top          7.79       8.21           8.23            2.2           6.97   \n",
       "freq        13.00       6.00           5.00          105.0           9.00   \n",
       "\n",
       "        x100133941_at  x10014_at  x10016_at  x100188893_at  x10019_at  ...    \\\n",
       "count          184.00     184.00     184.00         184.00     184.00  ...     \n",
       "unique         148.00     117.00     126.00         110.00     125.00  ...     \n",
       "top             11.03       3.68       9.22          10.74       4.28  ...     \n",
       "freq             5.00       5.00       4.00           4.00      14.00  ...     \n",
       "\n",
       "        x9976_at  x9978_at  x997_at  x9984_at  x9987_at  x9988_at  x9989_at  \\\n",
       "count     184.00    184.00   184.00    184.00    184.00    184.00    184.00   \n",
       "unique    148.00    121.00   136.00    127.00    114.00    125.00    129.00   \n",
       "top         9.72     11.34     5.76      7.87      9.78      8.18      8.86   \n",
       "freq        3.00      4.00    19.00      5.00      4.00      4.00      4.00   \n",
       "\n",
       "        x9994_at  x9997_at  x9_at  \n",
       "count      184.0    184.00  184.0  \n",
       "unique      74.0    137.00  144.0  \n",
       "top          4.7      7.38    3.0  \n",
       "freq        49.0     10.00   29.0  \n",
       "\n",
       "[4 rows x 4654 columns]"
      ]
     },
     "execution_count": 258,
     "metadata": {},
     "output_type": "execute_result"
    }
   ],
   "source": [
    "xtrain.describe()"
   ]
  },
  {
   "cell_type": "markdown",
   "metadata": {},
   "source": [
    "### Features Selection"
   ]
  },
  {
   "cell_type": "code",
   "execution_count": 343,
   "metadata": {
    "scrolled": false
   },
   "outputs": [],
   "source": [
    "np.random.seed(41)\n",
    "names = xtrain.columns.values\n",
    "rf = RandomForestClassifier()\n",
    "rf.fit(Xtrain, Ytrain)\n",
    "importances = []\n",
    "nameslist = []\n",
    "for name, importance in zip(names, rf.feature_importances_):\n",
    "    if importance != 0.0:\n",
    "        #print(name, \"=\", importance) \n",
    "        importances.append(importance)\n",
    "        nameslist.append(name)\n",
    "#features = iris['feature_names']\n",
    "# importances = rf.feature_importances_\n",
    "# indices = np.argsort(importances)\n"
   ]
  },
  {
   "cell_type": "code",
   "execution_count": 344,
   "metadata": {
    "scrolled": true
   },
   "outputs": [],
   "source": [
    "x_train = xtrain[nameslist]"
   ]
  },
  {
   "cell_type": "code",
   "execution_count": 345,
   "metadata": {},
   "outputs": [
    {
     "data": {
      "text/html": [
       "<div>\n",
       "<table border=\"1\" class=\"dataframe\">\n",
       "  <thead>\n",
       "    <tr style=\"text-align: right;\">\n",
       "      <th></th>\n",
       "      <th>Importance</th>\n",
       "    </tr>\n",
       "  </thead>\n",
       "  <tbody>\n",
       "    <tr>\n",
       "      <th>x11235_at</th>\n",
       "      <td>0.037243</td>\n",
       "    </tr>\n",
       "    <tr>\n",
       "      <th>x8668_at</th>\n",
       "      <td>0.031183</td>\n",
       "    </tr>\n",
       "    <tr>\n",
       "      <th>x9551_at</th>\n",
       "      <td>0.030643</td>\n",
       "    </tr>\n",
       "    <tr>\n",
       "      <th>x339448_at</th>\n",
       "      <td>0.029548</td>\n",
       "    </tr>\n",
       "    <tr>\n",
       "      <th>x3655_at</th>\n",
       "      <td>0.028803</td>\n",
       "    </tr>\n",
       "    <tr>\n",
       "      <th>x3632_at</th>\n",
       "      <td>0.027536</td>\n",
       "    </tr>\n",
       "    <tr>\n",
       "      <th>x10928_at</th>\n",
       "      <td>0.027092</td>\n",
       "    </tr>\n",
       "    <tr>\n",
       "      <th>x10248_at</th>\n",
       "      <td>0.024752</td>\n",
       "    </tr>\n",
       "    <tr>\n",
       "      <th>x5358_at</th>\n",
       "      <td>0.024731</td>\n",
       "    </tr>\n",
       "    <tr>\n",
       "      <th>x22882_at</th>\n",
       "      <td>0.023715</td>\n",
       "    </tr>\n",
       "    <tr>\n",
       "      <th>x125893_at</th>\n",
       "      <td>0.022710</td>\n",
       "    </tr>\n",
       "    <tr>\n",
       "      <th>x14_at</th>\n",
       "      <td>0.022295</td>\n",
       "    </tr>\n",
       "    <tr>\n",
       "      <th>x79770_at</th>\n",
       "      <td>0.021400</td>\n",
       "    </tr>\n",
       "    <tr>\n",
       "      <th>x84525_at</th>\n",
       "      <td>0.021232</td>\n",
       "    </tr>\n",
       "    <tr>\n",
       "      <th>x51389_at</th>\n",
       "      <td>0.020871</td>\n",
       "    </tr>\n",
       "    <tr>\n",
       "      <th>x5092_at</th>\n",
       "      <td>0.020659</td>\n",
       "    </tr>\n",
       "    <tr>\n",
       "      <th>x3107_at</th>\n",
       "      <td>0.020514</td>\n",
       "    </tr>\n",
       "    <tr>\n",
       "      <th>x84909_at</th>\n",
       "      <td>0.018997</td>\n",
       "    </tr>\n",
       "    <tr>\n",
       "      <th>x7009_at</th>\n",
       "      <td>0.018781</td>\n",
       "    </tr>\n",
       "    <tr>\n",
       "      <th>x26505_at</th>\n",
       "      <td>0.017898</td>\n",
       "    </tr>\n",
       "    <tr>\n",
       "      <th>x80145_at</th>\n",
       "      <td>0.017781</td>\n",
       "    </tr>\n",
       "    <tr>\n",
       "      <th>x3661_at</th>\n",
       "      <td>0.016930</td>\n",
       "    </tr>\n",
       "    <tr>\n",
       "      <th>x1553_at</th>\n",
       "      <td>0.015836</td>\n",
       "    </tr>\n",
       "    <tr>\n",
       "      <th>x10763_at</th>\n",
       "      <td>0.015446</td>\n",
       "    </tr>\n",
       "    <tr>\n",
       "      <th>x10538_at</th>\n",
       "      <td>0.014200</td>\n",
       "    </tr>\n",
       "    <tr>\n",
       "      <th>x7357_at</th>\n",
       "      <td>0.014055</td>\n",
       "    </tr>\n",
       "    <tr>\n",
       "      <th>x26003_at</th>\n",
       "      <td>0.013862</td>\n",
       "    </tr>\n",
       "    <tr>\n",
       "      <th>x1917_at</th>\n",
       "      <td>0.013704</td>\n",
       "    </tr>\n",
       "    <tr>\n",
       "      <th>x344_at</th>\n",
       "      <td>0.013079</td>\n",
       "    </tr>\n",
       "    <tr>\n",
       "      <th>x3431_at</th>\n",
       "      <td>0.012925</td>\n",
       "    </tr>\n",
       "    <tr>\n",
       "      <th>...</th>\n",
       "      <td>...</td>\n",
       "    </tr>\n",
       "    <tr>\n",
       "      <th>x348995_at</th>\n",
       "      <td>0.006009</td>\n",
       "    </tr>\n",
       "    <tr>\n",
       "      <th>x11226_at</th>\n",
       "      <td>0.005565</td>\n",
       "    </tr>\n",
       "    <tr>\n",
       "      <th>x65985_at</th>\n",
       "      <td>0.005130</td>\n",
       "    </tr>\n",
       "    <tr>\n",
       "      <th>x79630_at</th>\n",
       "      <td>0.005115</td>\n",
       "    </tr>\n",
       "    <tr>\n",
       "      <th>x55149_at</th>\n",
       "      <td>0.004955</td>\n",
       "    </tr>\n",
       "    <tr>\n",
       "      <th>x677_at</th>\n",
       "      <td>0.004876</td>\n",
       "    </tr>\n",
       "    <tr>\n",
       "      <th>x8031_at</th>\n",
       "      <td>0.004803</td>\n",
       "    </tr>\n",
       "    <tr>\n",
       "      <th>x11163_at</th>\n",
       "      <td>0.004714</td>\n",
       "    </tr>\n",
       "    <tr>\n",
       "      <th>x27300_at</th>\n",
       "      <td>0.004677</td>\n",
       "    </tr>\n",
       "    <tr>\n",
       "      <th>x29097_at</th>\n",
       "      <td>0.004657</td>\n",
       "    </tr>\n",
       "    <tr>\n",
       "      <th>x79174_at</th>\n",
       "      <td>0.004548</td>\n",
       "    </tr>\n",
       "    <tr>\n",
       "      <th>x26053_at</th>\n",
       "      <td>0.004521</td>\n",
       "    </tr>\n",
       "    <tr>\n",
       "      <th>x55048_at</th>\n",
       "      <td>0.004464</td>\n",
       "    </tr>\n",
       "    <tr>\n",
       "      <th>x10278_at</th>\n",
       "      <td>0.004457</td>\n",
       "    </tr>\n",
       "    <tr>\n",
       "      <th>x91137_at</th>\n",
       "      <td>0.004365</td>\n",
       "    </tr>\n",
       "    <tr>\n",
       "      <th>x4282_at</th>\n",
       "      <td>0.004341</td>\n",
       "    </tr>\n",
       "    <tr>\n",
       "      <th>x9450_at</th>\n",
       "      <td>0.004283</td>\n",
       "    </tr>\n",
       "    <tr>\n",
       "      <th>x4792_at</th>\n",
       "      <td>0.004235</td>\n",
       "    </tr>\n",
       "    <tr>\n",
       "      <th>x1948_at</th>\n",
       "      <td>0.004233</td>\n",
       "    </tr>\n",
       "    <tr>\n",
       "      <th>x9147_at</th>\n",
       "      <td>0.004204</td>\n",
       "    </tr>\n",
       "    <tr>\n",
       "      <th>x10954_at</th>\n",
       "      <td>0.003968</td>\n",
       "    </tr>\n",
       "    <tr>\n",
       "      <th>x2987_at</th>\n",
       "      <td>0.003720</td>\n",
       "    </tr>\n",
       "    <tr>\n",
       "      <th>x10465_at</th>\n",
       "      <td>0.003678</td>\n",
       "    </tr>\n",
       "    <tr>\n",
       "      <th>x51599_at</th>\n",
       "      <td>0.003447</td>\n",
       "    </tr>\n",
       "    <tr>\n",
       "      <th>x10342_at</th>\n",
       "      <td>0.003175</td>\n",
       "    </tr>\n",
       "    <tr>\n",
       "      <th>x834_at</th>\n",
       "      <td>0.003117</td>\n",
       "    </tr>\n",
       "    <tr>\n",
       "      <th>x1033_at</th>\n",
       "      <td>0.003064</td>\n",
       "    </tr>\n",
       "    <tr>\n",
       "      <th>x140465_at</th>\n",
       "      <td>0.002823</td>\n",
       "    </tr>\n",
       "    <tr>\n",
       "      <th>x28958_at</th>\n",
       "      <td>0.002744</td>\n",
       "    </tr>\n",
       "    <tr>\n",
       "      <th>x64081_at</th>\n",
       "      <td>0.001484</td>\n",
       "    </tr>\n",
       "  </tbody>\n",
       "</table>\n",
       "<p>85 rows × 1 columns</p>\n",
       "</div>"
      ],
      "text/plain": [
       "            Importance\n",
       "x11235_at     0.037243\n",
       "x8668_at      0.031183\n",
       "x9551_at      0.030643\n",
       "x339448_at    0.029548\n",
       "x3655_at      0.028803\n",
       "x3632_at      0.027536\n",
       "x10928_at     0.027092\n",
       "x10248_at     0.024752\n",
       "x5358_at      0.024731\n",
       "x22882_at     0.023715\n",
       "x125893_at    0.022710\n",
       "x14_at        0.022295\n",
       "x79770_at     0.021400\n",
       "x84525_at     0.021232\n",
       "x51389_at     0.020871\n",
       "x5092_at      0.020659\n",
       "x3107_at      0.020514\n",
       "x84909_at     0.018997\n",
       "x7009_at      0.018781\n",
       "x26505_at     0.017898\n",
       "x80145_at     0.017781\n",
       "x3661_at      0.016930\n",
       "x1553_at      0.015836\n",
       "x10763_at     0.015446\n",
       "x10538_at     0.014200\n",
       "x7357_at      0.014055\n",
       "x26003_at     0.013862\n",
       "x1917_at      0.013704\n",
       "x344_at       0.013079\n",
       "x3431_at      0.012925\n",
       "...                ...\n",
       "x348995_at    0.006009\n",
       "x11226_at     0.005565\n",
       "x65985_at     0.005130\n",
       "x79630_at     0.005115\n",
       "x55149_at     0.004955\n",
       "x677_at       0.004876\n",
       "x8031_at      0.004803\n",
       "x11163_at     0.004714\n",
       "x27300_at     0.004677\n",
       "x29097_at     0.004657\n",
       "x79174_at     0.004548\n",
       "x26053_at     0.004521\n",
       "x55048_at     0.004464\n",
       "x10278_at     0.004457\n",
       "x91137_at     0.004365\n",
       "x4282_at      0.004341\n",
       "x9450_at      0.004283\n",
       "x4792_at      0.004235\n",
       "x1948_at      0.004233\n",
       "x9147_at      0.004204\n",
       "x10954_at     0.003968\n",
       "x2987_at      0.003720\n",
       "x10465_at     0.003678\n",
       "x51599_at     0.003447\n",
       "x10342_at     0.003175\n",
       "x834_at       0.003117\n",
       "x1033_at      0.003064\n",
       "x140465_at    0.002823\n",
       "x28958_at     0.002744\n",
       "x64081_at     0.001484\n",
       "\n",
       "[85 rows x 1 columns]"
      ]
     },
     "execution_count": 345,
     "metadata": {},
     "output_type": "execute_result"
    }
   ],
   "source": [
    "featuresImportances = pd.DataFrame(importances, index=nameslist, \n",
    "                              columns=[\"Importance\"])\n",
    "featuresImportances = featuresImportances.sort_values(by=['Importance'], ascending=False)\n",
    "featuresImportances"
   ]
  },
  {
   "cell_type": "code",
   "execution_count": 346,
   "metadata": {
    "scrolled": false
   },
   "outputs": [
    {
     "data": {
      "image/png": "[encoded data removed]",
      "text/plain": [
       "<Figure size 720x720 with 1 Axes>"
      ]
     },
     "metadata": {
      "needs_background": "light"
     },
     "output_type": "display_data"
    }
   ],
   "source": [
    "nameslist = np.array(nameslist)\n",
    "importances.sort()\n",
    "plt.figure(figsize=(10,10))\n",
    "plt.title('Feature Importances')\n",
    "plt.barh(range(len(importances)), importances, align='center')\n",
    "#plt.yticks(range(len(nameslist)), [nameslist[i] for i in range(len(nameslist))])\n",
    "plt.xlabel('Relative Importance')\n",
    "plt.ylabel('Features')\n",
    "plt.show()"
   ]
  },
  {
   "cell_type": "markdown",
   "metadata": {},
   "source": [
    "### split data"
   ]
  },
  {
   "cell_type": "code",
   "execution_count": 13,
   "metadata": {},
   "outputs": [],
   "source": [
    "Xtrain,Xtest, Ytrain, Ytest = train_test_split(xtrain, ytrain,test_size=0.34 )\n",
    "Xtrain,Xval, Ytrain, Yval = train_test_split(Xtrain, Ytrain,test_size=0.17 )"
   ]
  },
  {
   "cell_type": "code",
   "execution_count": 14,
   "metadata": {},
   "outputs": [
    {
     "data": {
      "text/plain": [
       "((100, 4654), (21, 4654), (63, 4654), (92, 4654))"
      ]
     },
     "execution_count": 14,
     "metadata": {},
     "output_type": "execute_result"
    }
   ],
   "source": [
    "Xtrain.shape, Xval.shape, Xtest.shape, xtest.shape"
   ]
  },
  {
   "cell_type": "markdown",
   "metadata": {},
   "source": [
    "### Plot Area Under Curve"
   ]
  },
  {
   "cell_type": "code",
   "execution_count": 15,
   "metadata": {},
   "outputs": [],
   "source": [
    "from sklearn import metrics \n",
    "def plot_roc(model, parameters, y_true):\n",
    "    \"\"\"\n",
    "    Arguments:\n",
    "    model - trained model .\n",
    "    parameters - array-like or sparse matrix of shape  [n_samples, n_features]. The input samples. \n",
    "    y_true - True binary labels in range {0, 1} or {-1, 1}. If labels are not binary, pos_label should be explicitly given.\n",
    "    \"\"\"\n",
    "    if model is None:\n",
    "        return 0., 0., np.array([])\n",
    "    \n",
    "    predicted = model.predict_proba(parameters)[:,1]\n",
    "    threshold = 0.5\n",
    "    predicted_binary = (predicted > threshold).astype(int)\n",
    "    \n",
    "    fpr, tpr, threshold = metrics.roc_curve(y_true, predicted, pos_label=1)\n",
    "\n",
    "    roc_auc = metrics.auc(fpr, tpr) \n",
    "    ks = np.max(tpr - fpr) # Kolmogorov-Smirnov test\n",
    "\n",
    "#     print('ROC_auc = ', roc_auc)\n",
    "#     print('KS_test = ', ks)\n",
    "    print('AUC score: %f ' % metrics.roc_auc_score(y_true, predicted)) \n",
    "\n",
    "    try:\n",
    "        plt.title('%s ROC curve ' % model.__class__.__name__)\n",
    "        plt.plot(fpr, tpr, 'b', label='AUC = %0.2f' % roc_auc)\n",
    "        plt.legend(loc='lower right')\n",
    "        plt.plot([0,1], [0,1], 'r--')\n",
    "        plt.xlabel('False positive rate')\n",
    "        plt.ylabel('True positive rate')\n",
    "\n",
    "        # plt.savefig('ROC_curve.png')\n",
    "        plt.show()\n",
    "    except: pass\n",
    "    return threshold"
   ]
  },
  {
   "cell_type": "markdown",
   "metadata": {},
   "source": [
    "### Logistic Regression"
   ]
  },
  {
   "cell_type": "code",
   "execution_count": 17,
   "metadata": {},
   "outputs": [],
   "source": [
    "Xtrain, Ytrain = np.array(Xtrain), np.array(Ytrain)[:,0]"
   ]
  },
  {
   "cell_type": "code",
   "execution_count": 23,
   "metadata": {},
   "outputs": [
    {
     "name": "stdout",
     "output_type": "stream",
     "text": [
      "tuned hpyerparameters :(best parameters)  {'C': 0.01, 'penalty': 'l1'}\n",
      "accuracy : 0.65\n"
     ]
    }
   ],
   "source": [
    "# Grid search cross validation\n",
    "np.random.seed(41)\n",
    "grid={\"C\":np.linspace(10e-3,10,10), \"penalty\":[\"l1\",\"l2\"]}# l1 lasso l2 ridge\n",
    "logreg=LogisticRegression()\n",
    "logreg_cv=GridSearchCV(logreg,grid,cv=10)\n",
    "logreg_cv.fit(Xtrain,Ytrain)\n",
    "\n",
    "print(\"tuned hpyerparameters :(best parameters) \",logreg_cv.best_params_)\n",
    "print(\"accuracy :\",logreg_cv.best_score_)"
   ]
  },
  {
   "cell_type": "code",
   "execution_count": 24,
   "metadata": {},
   "outputs": [
    {
     "name": "stdout",
     "output_type": "stream",
     "text": [
      "score 0.47619047619047616\n"
     ]
    }
   ],
   "source": [
    "logreg2=LogisticRegression(C= 0.01,penalty=\"l1\")\n",
    "logreg2.fit(Xtrain,Ytrain)\n",
    "print(\"score\",logreg2.score(Xval,Yval))"
   ]
  },
  {
   "cell_type": "code",
   "execution_count": 25,
   "metadata": {},
   "outputs": [
    {
     "name": "stdout",
     "output_type": "stream",
     "text": [
      "score 0.6825396825396826\n"
     ]
    }
   ],
   "source": [
    "print(\"score\",logreg2.score(Xtest,Ytest))"
   ]
  },
  {
   "cell_type": "code",
   "execution_count": 26,
   "metadata": {
    "scrolled": true
   },
   "outputs": [
    {
     "name": "stdout",
     "output_type": "stream",
     "text": [
      "AUC score: 0.454651 \n"
     ]
    },
    {
     "data": {
      "image/png": "[encoded data removed]",
      "text/plain": [
       "<Figure size 432x288 with 1 Axes>"
      ]
     },
     "metadata": {
      "needs_background": "light"
     },
     "output_type": "display_data"
    }
   ],
   "source": [
    "threshold = plot_roc(logreg2, Xtest, Ytest)"
   ]
  },
  {
   "cell_type": "markdown",
   "metadata": {},
   "source": [
    "### Logistic regression CV"
   ]
  },
  {
   "cell_type": "code",
   "execution_count": 27,
   "metadata": {},
   "outputs": [
    {
     "data": {
      "text/plain": [
       "LogisticRegressionCV(Cs=10, class_weight=None, cv=None, dual=False,\n",
       "           fit_intercept=True, intercept_scaling=1.0, max_iter=100,\n",
       "           multi_class='ovr', n_jobs=1, penalty='l2', random_state=None,\n",
       "           refit=True, scoring=None, solver='lbfgs', tol=0.0001, verbose=0)"
      ]
     },
     "execution_count": 27,
     "metadata": {},
     "output_type": "execute_result"
    }
   ],
   "source": [
    "logregcv = LogisticRegressionCV(Cs=10)\n",
    "logregcv.fit(Xtrain, Ytrain)"
   ]
  },
  {
   "cell_type": "code",
   "execution_count": 28,
   "metadata": {
    "scrolled": true
   },
   "outputs": [
    {
     "name": "stdout",
     "output_type": "stream",
     "text": [
      "score 0.6825396825396826\n"
     ]
    }
   ],
   "source": [
    "print(\"score\",logreg2.score(Xtest,Ytest))"
   ]
  },
  {
   "cell_type": "code",
   "execution_count": 29,
   "metadata": {},
   "outputs": [
    {
     "name": "stdout",
     "output_type": "stream",
     "text": [
      "AUC score: 0.454651 \n"
     ]
    },
    {
     "data": {
      "image/png": "[encoded data removed]",
      "text/plain": [
       "<Figure size 432x288 with 1 Axes>"
      ]
     },
     "metadata": {
      "needs_background": "light"
     },
     "output_type": "display_data"
    }
   ],
   "source": [
    "threshold = plot_roc(logreg2, Xtest, Ytest)"
   ]
  },
  {
   "cell_type": "markdown",
   "metadata": {},
   "source": [
    "### SVM"
   ]
  },
  {
   "cell_type": "code",
   "execution_count": 30,
   "metadata": {},
   "outputs": [],
   "source": [
    "def svc_param_selection(X, y, nfolds):\n",
    "    np.random.seed(41)\n",
    "    Cs = [0.001, 0.01, 0.1, 1, 10, 100]\n",
    "    gammas = [0.001, 0.01, 0.1, 1]\n",
    "    kernels = ['linear', 'rbf']\n",
    "    param_grid = {'C': Cs, 'gamma' : gammas, 'kernel': kernels}\n",
    "    grid_search = GridSearchCV(SVC(), param_grid, cv=nfolds)\n",
    "    grid_search.fit(X, y)\n",
    "    grid_search.best_params_\n",
    "    return grid_search.best_params_"
   ]
  },
  {
   "cell_type": "code",
   "execution_count": 31,
   "metadata": {},
   "outputs": [
    {
     "data": {
      "text/plain": [
       "{'C': 0.001, 'gamma': 0.001, 'kernel': 'rbf'}"
      ]
     },
     "execution_count": 31,
     "metadata": {},
     "output_type": "execute_result"
    }
   ],
   "source": [
    "svc_param_selection(Xtrain, Ytrain, 10)"
   ]
  },
  {
   "cell_type": "code",
   "execution_count": 32,
   "metadata": {},
   "outputs": [
    {
     "data": {
      "text/plain": [
       "SVC(C=0.001, cache_size=200, class_weight=None, coef0=0.0,\n",
       "  decision_function_shape=None, degree=3, gamma=0.001, kernel='rbf',\n",
       "  max_iter=-1, probability=True, random_state=None, shrinking=True,\n",
       "  tol=0.001, verbose=False)"
      ]
     },
     "execution_count": 32,
     "metadata": {},
     "output_type": "execute_result"
    }
   ],
   "source": [
    "svcmodel = SVC(C = 0.001, gamma=0.001, kernel='rbf', probability=True)\n",
    "svcmodel.fit(Xtrain, Ytrain)"
   ]
  },
  {
   "cell_type": "code",
   "execution_count": 33,
   "metadata": {},
   "outputs": [
    {
     "name": "stdout",
     "output_type": "stream",
     "text": [
      "Validation score 0.47619047619047616\n",
      "--------------------------------------------\n",
      "test score 0.6825396825396826\n",
      "--------------------------------------------\n",
      "AUC score: 0.539535 \n"
     ]
    },
    {
     "data": {
      "image/png": "[encoded data removed]",
      "text/plain": [
       "<Figure size 432x288 with 1 Axes>"
      ]
     },
     "metadata": {
      "needs_background": "light"
     },
     "output_type": "display_data"
    }
   ],
   "source": [
    "print(\"Validation score\",svcmodel.score(Xval,Yval))\n",
    "print(\"--------------------------------------------\")\n",
    "print(\"test score\",svcmodel.score(Xtest,Ytest))\n",
    "print(\"--------------------------------------------\")\n",
    "threshold = plot_roc(svcmodel, Xtest, Ytest)"
   ]
  },
  {
   "cell_type": "code",
   "execution_count": 34,
   "metadata": {},
   "outputs": [],
   "source": [
    "# The confusion matrix helps visualize the performance of the algorithm.\n",
    "y_pred = svcmodel.predict(Xtest)\n",
    "cm = metrics.confusion_matrix(Ytest, y_pred)\n",
    "#print(cm)"
   ]
  },
  {
   "cell_type": "code",
   "execution_count": 35,
   "metadata": {},
   "outputs": [
    {
     "data": {
      "image/png": "[encoded data removed]",
      "text/plain": [
       "<Figure size 360x360 with 1 Axes>"
      ]
     },
     "metadata": {
      "needs_background": "light"
     },
     "output_type": "display_data"
    },
    {
     "name": "stdout",
     "output_type": "stream",
     "text": [
      "             precision    recall  f1-score   support\n",
      "\n",
      "         -1       0.68      1.00      0.81        43\n",
      "          1       0.00      0.00      0.00        20\n",
      "\n",
      "avg / total       0.47      0.68      0.55        63\n",
      "\n"
     ]
    },
    {
     "name": "stderr",
     "output_type": "stream",
     "text": [
      "/usr/lib/python3/dist-packages/sklearn/metrics/classification.py:1113: UndefinedMetricWarning: Precision and F-score are ill-defined and being set to 0.0 in labels with no predicted samples.\n",
      "  'precision', 'predicted', average, warn_for)\n"
     ]
    }
   ],
   "source": [
    "from IPython.display import Image, display\n",
    "\n",
    "fig, ax = plt.subplots(figsize=(5, 5))\n",
    "ax.matshow(cm, cmap=plt.cm.Reds, alpha=0.3)\n",
    "for i in range(cm.shape[0]):\n",
    "     for j in range(cm.shape[1]):\n",
    "        ax.text(x=j, y=i,\n",
    "                s=cm[i, j], \n",
    "                va='center', ha='center')\n",
    "plt.xlabel('Predicted Values', )\n",
    "plt.ylabel('Actual Values')\n",
    "plt.show()\n",
    "print(classification_report(Ytest, y_pred ))"
   ]
  },
  {
   "cell_type": "markdown",
   "metadata": {},
   "source": [
    "### KNN"
   ]
  },
  {
   "cell_type": "code",
   "execution_count": 36,
   "metadata": {},
   "outputs": [],
   "source": [
    "def KNN_param_selection(X, y):\n",
    "    np.random.seed(41)\n",
    "    k_range = list(range(1, 20))\n",
    "    \n",
    "    weight_options = ['uniform', 'distance']\n",
    "    param_grid = dict(n_neighbors=k_range, weights=weight_options)\n",
    "    knn = KNeighborsClassifier()\n",
    "    # instantiate the grid\n",
    "    grid = GridSearchCV(knn, param_grid, cv=10)\n",
    "    # fit the grid with data\n",
    "    grid.fit(X, y)\n",
    "    return grid.best_params_"
   ]
  },
  {
   "cell_type": "code",
   "execution_count": 37,
   "metadata": {},
   "outputs": [
    {
     "ename": "NameError",
     "evalue": "name 'KNeighborsClassifier' is not defined",
     "output_type": "error",
     "traceback": [
      "\u001b[0;31m---------------------------------------------------------------------------\u001b[0m",
      "\u001b[0;31mNameError\u001b[0m                                 Traceback (most recent call last)",
      "\u001b[0;32m<ipython-input-37-cc61a9739249>\u001b[0m in \u001b[0;36m<module>\u001b[0;34m\u001b[0m\n\u001b[0;32m----> 1\u001b[0;31m \u001b[0mKNN_param_selection\u001b[0m\u001b[0;34m(\u001b[0m\u001b[0mXtrain\u001b[0m\u001b[0;34m,\u001b[0m \u001b[0mYtrain\u001b[0m\u001b[0;34m)\u001b[0m\u001b[0;34m\u001b[0m\u001b[0m\n\u001b[0m",
      "\u001b[0;32m<ipython-input-36-03719a0ecebb>\u001b[0m in \u001b[0;36mKNN_param_selection\u001b[0;34m(X, y)\u001b[0m\n\u001b[1;32m      5\u001b[0m     \u001b[0mweight_options\u001b[0m \u001b[0;34m=\u001b[0m \u001b[0;34m[\u001b[0m\u001b[0;34m'uniform'\u001b[0m\u001b[0;34m,\u001b[0m \u001b[0;34m'distance'\u001b[0m\u001b[0;34m]\u001b[0m\u001b[0;34m\u001b[0m\u001b[0m\n\u001b[1;32m      6\u001b[0m     \u001b[0mparam_grid\u001b[0m \u001b[0;34m=\u001b[0m \u001b[0mdict\u001b[0m\u001b[0;34m(\u001b[0m\u001b[0mn_neighbors\u001b[0m\u001b[0;34m=\u001b[0m\u001b[0mk_range\u001b[0m\u001b[0;34m,\u001b[0m \u001b[0mweights\u001b[0m\u001b[0;34m=\u001b[0m\u001b[0mweight_options\u001b[0m\u001b[0;34m)\u001b[0m\u001b[0;34m\u001b[0m\u001b[0m\n\u001b[0;32m----> 7\u001b[0;31m     \u001b[0mknn\u001b[0m \u001b[0;34m=\u001b[0m \u001b[0mKNeighborsClassifier\u001b[0m\u001b[0;34m(\u001b[0m\u001b[0;34m)\u001b[0m\u001b[0;34m\u001b[0m\u001b[0m\n\u001b[0m\u001b[1;32m      8\u001b[0m     \u001b[0;31m# instantiate the grid\u001b[0m\u001b[0;34m\u001b[0m\u001b[0;34m\u001b[0m\u001b[0m\n\u001b[1;32m      9\u001b[0m     \u001b[0mgrid\u001b[0m \u001b[0;34m=\u001b[0m \u001b[0mGridSearchCV\u001b[0m\u001b[0;34m(\u001b[0m\u001b[0mknn\u001b[0m\u001b[0;34m,\u001b[0m \u001b[0mparam_grid\u001b[0m\u001b[0;34m,\u001b[0m \u001b[0mcv\u001b[0m\u001b[0;34m=\u001b[0m\u001b[0;36m10\u001b[0m\u001b[0;34m)\u001b[0m\u001b[0;34m\u001b[0m\u001b[0m\n",
      "\u001b[0;31mNameError\u001b[0m: name 'KNeighborsClassifier' is not defined"
     ]
    }
   ],
   "source": [
    "KNN_param_selection(Xtrain, Ytrain)"
   ]
  },
  {
   "cell_type": "code",
   "execution_count": 399,
   "metadata": {},
   "outputs": [
    {
     "data": {
      "text/plain": [
       "KNeighborsClassifier(algorithm='auto', leaf_size=30, metric='minkowski',\n",
       "           metric_params=None, n_jobs=1, n_neighbors=5, p=2,\n",
       "           weights='uniform')"
      ]
     },
     "execution_count": 399,
     "metadata": {},
     "output_type": "execute_result"
    }
   ],
   "source": [
    "knnmodel = KNeighborsClassifier(n_neighbors=5, weights='uniform')\n",
    "knnmodel.fit(Xtrain, Ytrain)"
   ]
  },
  {
   "cell_type": "code",
   "execution_count": 400,
   "metadata": {
    "scrolled": false
   },
   "outputs": [
    {
     "name": "stdout",
     "output_type": "stream",
     "text": [
      "Validation score 0.5238095238095238\n",
      "--------------------------------------------\n",
      "test score 0.5238095238095238\n",
      "--------------------------------------------\n",
      "AUC score: 0.521805 \n"
     ]
    },
    {
     "data": {
      "image/png": "[encoded data removed]",
      "text/plain": [
       "<Figure size 432x288 with 1 Axes>"
      ]
     },
     "metadata": {
      "needs_background": "light"
     },
     "output_type": "display_data"
    }
   ],
   "source": [
    "print(\"Validation score\",knnmodel.score(Xval,Yval))\n",
    "print(\"--------------------------------------------\")\n",
    "print(\"test score\",knnmodel.score(Xtest,Ytest))\n",
    "print(\"--------------------------------------------\")\n",
    "threshold = plot_roc(knnmodel, Xtest, Ytest)"
   ]
  },
  {
   "cell_type": "markdown",
   "metadata": {},
   "source": [
    "### Gradient Boosting Classifier"
   ]
  },
  {
   "cell_type": "code",
   "execution_count": 401,
   "metadata": {},
   "outputs": [
    {
     "data": {
      "text/plain": [
       "0.5555555555555556"
      ]
     },
     "execution_count": 401,
     "metadata": {},
     "output_type": "execute_result"
    }
   ],
   "source": [
    "clf = GradientBoostingClassifier(n_estimators=100, learning_rate=1.0,\n",
    "     max_depth=1, random_state=0).fit(Xtrain, Ytrain)\n",
    "clf.score(Xtest, Ytest)"
   ]
  },
  {
   "cell_type": "code",
   "execution_count": 402,
   "metadata": {
    "scrolled": true
   },
   "outputs": [
    {
     "name": "stdout",
     "output_type": "stream",
     "text": [
      "AUC score: 0.535497 \n"
     ]
    },
    {
     "data": {
      "image/png": "[encoded data removed]",
      "text/plain": [
       "<Figure size 432x288 with 1 Axes>"
      ]
     },
     "metadata": {
      "needs_background": "light"
     },
     "output_type": "display_data"
    }
   ],
   "source": [
    "threshold = plot_roc(clf, Xtest, Ytest)"
   ]
  },
  {
   "cell_type": "markdown",
   "metadata": {},
   "source": [
    "### Voting"
   ]
  },
  {
   "cell_type": "code",
   "execution_count": 403,
   "metadata": {},
   "outputs": [],
   "source": [
    "from sklearn.ensemble import VotingClassifier\n",
    "ensemble=VotingClassifier(estimators=[('Logreg', logreg2),('Logreg', logregcv), ('SVM', svcmodel), ('KNN', knnmodel), ('clf', clf)], \n",
    "                       voting='soft', weights=[2,2,2,2,2]).fit(Xtrain,Ytrain)"
   ]
  },
  {
   "cell_type": "code",
   "execution_count": 404,
   "metadata": {},
   "outputs": [
    {
     "name": "stdout",
     "output_type": "stream",
     "text": [
      "The accuracy is: 0.5714285714285714\n"
     ]
    },
    {
     "name": "stderr",
     "output_type": "stream",
     "text": [
      "/usr/lib/python3/dist-packages/sklearn/preprocessing/label.py:167: DeprecationWarning: The truth value of an empty array is ambiguous. Returning False, but in future this will result in an error. Use `array.size > 0` to check that an array is not empty.\n",
      "  if diff:\n"
     ]
    }
   ],
   "source": [
    "print('The accuracy is:',ensemble.score(Xtest,Ytest))"
   ]
  },
  {
   "cell_type": "code",
   "execution_count": 405,
   "metadata": {
    "scrolled": true
   },
   "outputs": [
    {
     "name": "stdout",
     "output_type": "stream",
     "text": [
      "AUC score: 0.599391 \n"
     ]
    },
    {
     "data": {
      "image/png": "[encoded data removed]",
      "text/plain": [
       "<Figure size 432x288 with 1 Axes>"
      ]
     },
     "metadata": {
      "needs_background": "light"
     },
     "output_type": "display_data"
    }
   ],
   "source": [
    "threshold = plot_roc(ensemble, Xtest, Ytest)"
   ]
  },
  {
   "cell_type": "code",
   "execution_count": 406,
   "metadata": {},
   "outputs": [
    {
     "name": "stderr",
     "output_type": "stream",
     "text": [
      "/usr/lib/python3/dist-packages/sklearn/preprocessing/label.py:167: DeprecationWarning: The truth value of an empty array is ambiguous. Returning False, but in future this will result in an error. Use `array.size > 0` to check that an array is not empty.\n",
      "  if diff:\n"
     ]
    }
   ],
   "source": [
    "# The confusion matrix helps visualize the performance of the algorithm.\n",
    "y_pred1 = ensemble.predict(Xtest)\n",
    "cm1 = metrics.confusion_matrix(Ytest, y_pred1)\n",
    "#print(cm)"
   ]
  },
  {
   "cell_type": "code",
   "execution_count": 407,
   "metadata": {},
   "outputs": [
    {
     "data": {
      "image/png": "[encoded data removed]",
      "text/plain": [
       "<Figure size 360x360 with 1 Axes>"
      ]
     },
     "metadata": {
      "needs_background": "light"
     },
     "output_type": "display_data"
    },
    {
     "name": "stdout",
     "output_type": "stream",
     "text": [
      "             precision    recall  f1-score   support\n",
      "\n",
      "         -1       0.56      0.91      0.70        34\n",
      "          1       0.62      0.17      0.27        29\n",
      "\n",
      "avg / total       0.59      0.57      0.50        63\n",
      "\n"
     ]
    }
   ],
   "source": [
    "from IPython.display import Image, display\n",
    "\n",
    "fig, ax = plt.subplots(figsize=(5, 5))\n",
    "ax.matshow(cm1, cmap=plt.cm.Reds, alpha=0.3)\n",
    "for i in range(cm1.shape[0]):\n",
    "     for j in range(cm1.shape[1]):\n",
    "        ax.text(x=j, y=i,\n",
    "                s=cm1[i, j], \n",
    "                va='center', ha='center')\n",
    "plt.xlabel('Predicted Values', )\n",
    "plt.ylabel('Actual Values')\n",
    "plt.show()\n",
    "print(classification_report(Ytest, y_pred1 ))"
   ]
  },
  {
   "cell_type": "markdown",
   "metadata": {},
   "source": [
    "### Prediction on xtest"
   ]
  },
  {
   "cell_type": "code",
   "execution_count": 414,
   "metadata": {},
   "outputs": [
    {
     "name": "stdout",
     "output_type": "stream",
     "text": [
      "sample1 ---------------------------------> 0.07612661232187747\n",
      "sample2 ---------------------------------> 0.049773182970912815\n",
      "sample3 ---------------------------------> 0.022861326226799268\n",
      "sample4 ---------------------------------> 0.05039260516630238\n",
      "sample5 ---------------------------------> 0.7456770299173849\n",
      "sample6 ---------------------------------> 0.5367574605822956\n",
      "sample7 ---------------------------------> 0.09270975471539789\n",
      "sample8 ---------------------------------> 0.149970226870061\n",
      "sample9 ---------------------------------> 0.23996819615385806\n",
      "sample10 ---------------------------------> 0.05498108548610522\n",
      "sample11 ---------------------------------> 0.46091656409911697\n",
      "sample12 ---------------------------------> 0.1124510431359061\n",
      "sample13 ---------------------------------> 0.023266224923275368\n",
      "sample14 ---------------------------------> 0.01998992781931714\n",
      "sample15 ---------------------------------> 0.810162179987185\n",
      "sample16 ---------------------------------> 0.04248704919114644\n",
      "sample17 ---------------------------------> 0.5906954763431906\n",
      "sample18 ---------------------------------> 0.02353752319047701\n",
      "sample19 ---------------------------------> 0.40362094884829824\n",
      "sample20 ---------------------------------> 0.024135795641308248\n",
      "sample21 ---------------------------------> 0.7878255007435246\n",
      "sample22 ---------------------------------> 0.01966387303014668\n",
      "sample23 ---------------------------------> 0.28194445839598037\n",
      "sample24 ---------------------------------> 0.25532873473660833\n",
      "sample25 ---------------------------------> 0.05356396309031323\n",
      "sample26 ---------------------------------> 0.09883547476774039\n",
      "sample27 ---------------------------------> 0.40559972367017255\n",
      "sample28 ---------------------------------> 0.09636587813091925\n",
      "sample29 ---------------------------------> 0.5969595273068838\n",
      "sample30 ---------------------------------> 0.06442065884132708\n",
      "sample31 ---------------------------------> 0.509627554166506\n",
      "sample32 ---------------------------------> 0.5338125388199628\n",
      "sample33 ---------------------------------> 0.017519065715048326\n",
      "sample34 ---------------------------------> 0.019594588483267516\n",
      "sample35 ---------------------------------> 0.024859528290167937\n",
      "sample36 ---------------------------------> 0.05905389460331569\n",
      "sample37 ---------------------------------> 0.180956550714346\n",
      "sample38 ---------------------------------> 0.014037046311126376\n",
      "sample39 ---------------------------------> 0.024297729581221963\n",
      "sample40 ---------------------------------> 0.2824001511981735\n",
      "sample41 ---------------------------------> 0.028499915564765534\n",
      "sample42 ---------------------------------> 0.5965587876176387\n",
      "sample43 ---------------------------------> 0.8239783498638115\n",
      "sample44 ---------------------------------> 0.2757245312489297\n",
      "sample45 ---------------------------------> 0.16339493811736222\n",
      "sample46 ---------------------------------> 0.5972391843109209\n",
      "sample47 ---------------------------------> 0.0986519073099925\n",
      "sample48 ---------------------------------> 0.09487420001323368\n",
      "sample49 ---------------------------------> 0.07815137349830448\n",
      "sample50 ---------------------------------> 0.07353671568041031\n",
      "sample51 ---------------------------------> 0.7951788410878484\n",
      "sample52 ---------------------------------> 0.287780609661833\n",
      "sample53 ---------------------------------> 0.1550045685706606\n",
      "sample54 ---------------------------------> 0.14345599073965393\n",
      "sample55 ---------------------------------> 0.3677242155585695\n",
      "sample56 ---------------------------------> 0.3526706082596008\n",
      "sample57 ---------------------------------> 0.17593020077986102\n",
      "sample58 ---------------------------------> 0.0654628230294921\n",
      "sample59 ---------------------------------> 0.08118419852813519\n",
      "sample60 ---------------------------------> 0.041629993250336415\n",
      "sample61 ---------------------------------> 0.1749977254452443\n",
      "sample62 ---------------------------------> 0.2990097396657684\n",
      "sample63 ---------------------------------> 0.251730356141992\n",
      "sample64 ---------------------------------> 0.030419851749142135\n",
      "sample65 ---------------------------------> 0.2876950220107922\n",
      "sample66 ---------------------------------> 0.7253728153619328\n",
      "sample67 ---------------------------------> 0.22076035468135696\n",
      "sample68 ---------------------------------> 0.18889464731454364\n",
      "sample69 ---------------------------------> 0.4932496808878294\n",
      "sample70 ---------------------------------> 0.17959209529603598\n",
      "sample71 ---------------------------------> 0.08438248012172751\n",
      "sample72 ---------------------------------> 0.2274695546963506\n",
      "sample73 ---------------------------------> 0.03716720711561089\n",
      "sample74 ---------------------------------> 0.08797196206492106\n",
      "sample75 ---------------------------------> 0.40938015912242764\n",
      "sample76 ---------------------------------> 0.1093643735768181\n",
      "sample77 ---------------------------------> 0.05845628757091363\n",
      "sample78 ---------------------------------> 0.33131832357126273\n",
      "sample79 ---------------------------------> 0.01999192058312243\n",
      "sample80 ---------------------------------> 0.510401553874777\n",
      "sample81 ---------------------------------> 0.7283873165489635\n",
      "sample82 ---------------------------------> 0.03400727765005014\n",
      "sample83 ---------------------------------> 0.11592145172060456\n",
      "sample84 ---------------------------------> 0.779111300903486\n",
      "sample85 ---------------------------------> 0.05497499632931406\n",
      "sample86 ---------------------------------> 0.2582429776527888\n",
      "sample87 ---------------------------------> 0.09668464435231208\n",
      "sample88 ---------------------------------> 0.08673928925214808\n",
      "sample89 ---------------------------------> 0.5560262376996741\n",
      "sample90 ---------------------------------> 0.1500332289370408\n",
      "sample91 ---------------------------------> 0.33857192701228805\n",
      "sample92 ---------------------------------> 0.48252702725168223\n"
     ]
    }
   ],
   "source": [
    "for i in range(len(xtest)):\n",
    "    print('sample'+str(i+1),'--------------------------------->', ensemble.predict_proba(xtest)[i][1])"
   ]
  },
  {
   "cell_type": "code",
   "execution_count": null,
   "metadata": {},
   "outputs": [],
   "source": []
  }
 ],
 "metadata": {
  "kernelspec": {
   "display_name": "Python 3",
   "language": "python",
   "name": "python3"
  },
  "language_info": {
   "codemirror_mode": {
    "name": "ipython",
    "version": 3
   },
   "file_extension": ".py",
   "mimetype": "text/x-python",
   "name": "python",
   "nbconvert_exporter": "python",
   "pygments_lexer": "ipython3",
   "version": "3.5.3"
  }
 },
 "nbformat": 4,
 "nbformat_minor": 2
}
