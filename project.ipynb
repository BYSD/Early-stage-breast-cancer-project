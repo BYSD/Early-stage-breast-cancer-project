{
 "cells": [
  {
   "cell_type": "markdown",
   "metadata": {},
   "source": [
    "### import library"
   ]
  },
  {
   "cell_type": "code",
   "execution_count": 30,
   "metadata": {},
   "outputs": [],
   "source": [
    "import numpy as np\n",
    "import pandas as pd\n",
    "import matplotlib.pyplot as plt\n",
    "from sklearn.metrics import classification_report\n",
    "from sklearn.metrics import confusion_matrix\n",
    "from sklearn.metrics import accuracy_score\n",
    "from sklearn.model_selection import train_test_split\n",
    "from sklearn.model_selection import cross_val_score\n",
    "from sklearn.model_selection import KFold\n",
    "from sklearn.tree import DecisionTreeClassifier\n",
    "from sklearn.preprocessing import StandardScaler\n",
    "from sklearn.model_selection import GridSearchCV\n",
    "from sklearn.svm import SVC\n",
    "import time\n",
    "from matplotlib import cm as cm\n",
    "from sklearn.ensemble import RandomForestClassifier\n",
    "import seaborn as sns\n",
    "from sklearn.linear_model import LogisticRegression\n",
    "from sklearn.ensemble import GradientBoostingClassifier"
   ]
  },
  {
   "cell_type": "markdown",
   "metadata": {},
   "source": [
    "### load data"
   ]
  },
  {
   "cell_type": "code",
   "execution_count": 31,
   "metadata": {},
   "outputs": [],
   "source": [
    "def loadData(file):\n",
    "    data = pd.read_csv('data/'+file, sep=\"\\t\", header=None)\n",
    "    return data"
   ]
  },
  {
   "cell_type": "code",
   "execution_count": 32,
   "metadata": {},
   "outputs": [
    {
     "data": {
      "text/plain": [
       "(185, 4654)"
      ]
     },
     "execution_count": 32,
     "metadata": {},
     "output_type": "execute_result"
    }
   ],
   "source": [
    "x = loadData('xtrain.txt').T\n",
    "x.shape"
   ]
  },
  {
   "cell_type": "code",
   "execution_count": 33,
   "metadata": {},
   "outputs": [],
   "source": [
    "#load data\n",
    "xtrain = loadData('xtrain.txt').T\n",
    "xtest = loadData('xtest.txt').T\n",
    "ytrain = loadData('ytrain.txt')\n",
    "\n",
    "# #take first row as columns names\n",
    "header1 = xtrain.iloc[0]\n",
    "xtrain = xtrain[1:]\n",
    "xtrain = xtrain.rename(columns = header1)\n",
    "\n",
    "header2 = xtest.iloc[0]\n",
    "xtest = xtest[1:]\n",
    "xtest = xtest.rename(columns = header2)\n"
   ]
  },
  {
   "cell_type": "code",
   "execution_count": 34,
   "metadata": {},
   "outputs": [
    {
     "data": {
      "text/plain": [
       "((184, 4654), (184, 1))"
      ]
     },
     "execution_count": 34,
     "metadata": {},
     "output_type": "execute_result"
    }
   ],
   "source": [
    "xtrain.shape, ytrain.shape"
   ]
  },
  {
   "cell_type": "code",
   "execution_count": 35,
   "metadata": {},
   "outputs": [
    {
     "name": "stdout",
     "output_type": "stream",
     "text": [
      "118 66\n"
     ]
    }
   ],
   "source": [
    "negatif = 0\n",
    "positif = 0\n",
    "for i in range(len(ytrain)):\n",
    "    if ytrain[0][i] == -1:\n",
    "        negatif += 1\n",
    "    else:\n",
    "        positif += 1\n",
    "print(negatif, positif)"
   ]
  },
  {
   "cell_type": "code",
   "execution_count": 36,
   "metadata": {
    "scrolled": false
   },
   "outputs": [
    {
     "data": {
      "text/html": [
       "<div>\n",
       "<table border=\"1\" class=\"dataframe\">\n",
       "  <thead>\n",
       "    <tr style=\"text-align: right;\">\n",
       "      <th></th>\n",
       "      <th>x10006_at</th>\n",
       "      <th>x10007_at</th>\n",
       "      <th>x100129361_at</th>\n",
       "      <th>x100130449_at</th>\n",
       "      <th>x100130633_at</th>\n",
       "      <th>x100133941_at</th>\n",
       "      <th>x10014_at</th>\n",
       "      <th>x10016_at</th>\n",
       "      <th>x100188893_at</th>\n",
       "      <th>x10019_at</th>\n",
       "      <th>...</th>\n",
       "      <th>x9976_at</th>\n",
       "      <th>x9978_at</th>\n",
       "      <th>x997_at</th>\n",
       "      <th>x9984_at</th>\n",
       "      <th>x9987_at</th>\n",
       "      <th>x9988_at</th>\n",
       "      <th>x9989_at</th>\n",
       "      <th>x9994_at</th>\n",
       "      <th>x9997_at</th>\n",
       "      <th>x9_at</th>\n",
       "    </tr>\n",
       "  </thead>\n",
       "  <tbody>\n",
       "    <tr>\n",
       "      <th>1</th>\n",
       "      <td>8.44</td>\n",
       "      <td>7.84</td>\n",
       "      <td>9.23</td>\n",
       "      <td>2.2</td>\n",
       "      <td>4.93</td>\n",
       "      <td>10.31</td>\n",
       "      <td>7.85</td>\n",
       "      <td>9.91</td>\n",
       "      <td>11.37</td>\n",
       "      <td>3.48</td>\n",
       "      <td>...</td>\n",
       "      <td>7.71</td>\n",
       "      <td>11.32</td>\n",
       "      <td>6.37</td>\n",
       "      <td>8.63</td>\n",
       "      <td>8.61</td>\n",
       "      <td>7.42</td>\n",
       "      <td>8.79</td>\n",
       "      <td>4.7</td>\n",
       "      <td>7.23</td>\n",
       "      <td>8.28</td>\n",
       "    </tr>\n",
       "    <tr>\n",
       "      <th>2</th>\n",
       "      <td>7.93</td>\n",
       "      <td>8.47</td>\n",
       "      <td>7.77</td>\n",
       "      <td>2.48</td>\n",
       "      <td>6.7</td>\n",
       "      <td>11.03</td>\n",
       "      <td>3.33</td>\n",
       "      <td>9.53</td>\n",
       "      <td>10.91</td>\n",
       "      <td>4.28</td>\n",
       "      <td>...</td>\n",
       "      <td>9.98</td>\n",
       "      <td>10.4</td>\n",
       "      <td>5.96</td>\n",
       "      <td>7.61</td>\n",
       "      <td>9.51</td>\n",
       "      <td>8.2</td>\n",
       "      <td>9.27</td>\n",
       "      <td>4.7</td>\n",
       "      <td>6.7</td>\n",
       "      <td>12.78</td>\n",
       "    </tr>\n",
       "    <tr>\n",
       "      <th>3</th>\n",
       "      <td>7.53</td>\n",
       "      <td>7.49</td>\n",
       "      <td>9.49</td>\n",
       "      <td>5.66</td>\n",
       "      <td>5.99</td>\n",
       "      <td>8.87</td>\n",
       "      <td>3.48</td>\n",
       "      <td>8.02</td>\n",
       "      <td>10.73</td>\n",
       "      <td>4.07</td>\n",
       "      <td>...</td>\n",
       "      <td>8.34</td>\n",
       "      <td>10.57</td>\n",
       "      <td>6.92</td>\n",
       "      <td>8.2</td>\n",
       "      <td>8.71</td>\n",
       "      <td>8.56</td>\n",
       "      <td>8.9</td>\n",
       "      <td>4.7</td>\n",
       "      <td>7.7</td>\n",
       "      <td>12.22</td>\n",
       "    </tr>\n",
       "    <tr>\n",
       "      <th>4</th>\n",
       "      <td>7.72</td>\n",
       "      <td>8.38</td>\n",
       "      <td>8.03</td>\n",
       "      <td>5.22</td>\n",
       "      <td>6.95</td>\n",
       "      <td>2.73</td>\n",
       "      <td>4.06</td>\n",
       "      <td>9.26</td>\n",
       "      <td>10.9</td>\n",
       "      <td>7.4</td>\n",
       "      <td>...</td>\n",
       "      <td>9.05</td>\n",
       "      <td>10.92</td>\n",
       "      <td>5.73</td>\n",
       "      <td>8.44</td>\n",
       "      <td>9.18</td>\n",
       "      <td>7.86</td>\n",
       "      <td>9.3</td>\n",
       "      <td>5.58</td>\n",
       "      <td>7.95</td>\n",
       "      <td>12.18</td>\n",
       "    </tr>\n",
       "    <tr>\n",
       "      <th>5</th>\n",
       "      <td>7.89</td>\n",
       "      <td>7.75</td>\n",
       "      <td>6.99</td>\n",
       "      <td>2.2</td>\n",
       "      <td>7.06</td>\n",
       "      <td>11.38</td>\n",
       "      <td>3.65</td>\n",
       "      <td>9.22</td>\n",
       "      <td>10.37</td>\n",
       "      <td>3.89</td>\n",
       "      <td>...</td>\n",
       "      <td>9.16</td>\n",
       "      <td>10.73</td>\n",
       "      <td>7.45</td>\n",
       "      <td>7.79</td>\n",
       "      <td>9.15</td>\n",
       "      <td>7.97</td>\n",
       "      <td>8.5</td>\n",
       "      <td>4.7</td>\n",
       "      <td>6.63</td>\n",
       "      <td>12.12</td>\n",
       "    </tr>\n",
       "  </tbody>\n",
       "</table>\n",
       "<p>5 rows × 4654 columns</p>\n",
       "</div>"
      ],
      "text/plain": [
       "  x10006_at x10007_at x100129361_at x100130449_at x100130633_at x100133941_at  \\\n",
       "1      8.44      7.84          9.23           2.2          4.93         10.31   \n",
       "2      7.93      8.47          7.77          2.48           6.7         11.03   \n",
       "3      7.53      7.49          9.49          5.66          5.99          8.87   \n",
       "4      7.72      8.38          8.03          5.22          6.95          2.73   \n",
       "5      7.89      7.75          6.99           2.2          7.06         11.38   \n",
       "\n",
       "  x10014_at x10016_at x100188893_at x10019_at  ...   x9976_at x9978_at  \\\n",
       "1      7.85      9.91         11.37      3.48  ...       7.71    11.32   \n",
       "2      3.33      9.53         10.91      4.28  ...       9.98     10.4   \n",
       "3      3.48      8.02         10.73      4.07  ...       8.34    10.57   \n",
       "4      4.06      9.26          10.9       7.4  ...       9.05    10.92   \n",
       "5      3.65      9.22         10.37      3.89  ...       9.16    10.73   \n",
       "\n",
       "  x997_at x9984_at x9987_at x9988_at x9989_at x9994_at x9997_at  x9_at  \n",
       "1    6.37     8.63     8.61     7.42     8.79      4.7     7.23   8.28  \n",
       "2    5.96     7.61     9.51      8.2     9.27      4.7      6.7  12.78  \n",
       "3    6.92      8.2     8.71     8.56      8.9      4.7      7.7  12.22  \n",
       "4    5.73     8.44     9.18     7.86      9.3     5.58     7.95  12.18  \n",
       "5    7.45     7.79     9.15     7.97      8.5      4.7     6.63  12.12  \n",
       "\n",
       "[5 rows x 4654 columns]"
      ]
     },
     "execution_count": 36,
     "metadata": {},
     "output_type": "execute_result"
    }
   ],
   "source": [
    "xtrain.head()"
   ]
  },
  {
   "cell_type": "code",
   "execution_count": 37,
   "metadata": {
    "scrolled": true
   },
   "outputs": [
    {
     "data": {
      "text/html": [
       "<div>\n",
       "<table border=\"1\" class=\"dataframe\">\n",
       "  <thead>\n",
       "    <tr style=\"text-align: right;\">\n",
       "      <th></th>\n",
       "      <th>x10006_at</th>\n",
       "      <th>x10007_at</th>\n",
       "      <th>x100129361_at</th>\n",
       "      <th>x100130449_at</th>\n",
       "      <th>x100130633_at</th>\n",
       "      <th>x100133941_at</th>\n",
       "      <th>x10014_at</th>\n",
       "      <th>x10016_at</th>\n",
       "      <th>x100188893_at</th>\n",
       "      <th>x10019_at</th>\n",
       "      <th>...</th>\n",
       "      <th>x9976_at</th>\n",
       "      <th>x9978_at</th>\n",
       "      <th>x997_at</th>\n",
       "      <th>x9984_at</th>\n",
       "      <th>x9987_at</th>\n",
       "      <th>x9988_at</th>\n",
       "      <th>x9989_at</th>\n",
       "      <th>x9994_at</th>\n",
       "      <th>x9997_at</th>\n",
       "      <th>x9_at</th>\n",
       "    </tr>\n",
       "  </thead>\n",
       "  <tbody>\n",
       "    <tr>\n",
       "      <th>1</th>\n",
       "      <td>8.54</td>\n",
       "      <td>7.76</td>\n",
       "      <td>8.08</td>\n",
       "      <td>2.2</td>\n",
       "      <td>7.23</td>\n",
       "      <td>10.07</td>\n",
       "      <td>4.16</td>\n",
       "      <td>9.77</td>\n",
       "      <td>10.7</td>\n",
       "      <td>5.35</td>\n",
       "      <td>...</td>\n",
       "      <td>9.44</td>\n",
       "      <td>11.18</td>\n",
       "      <td>6.65</td>\n",
       "      <td>7.92</td>\n",
       "      <td>9.32</td>\n",
       "      <td>8.48</td>\n",
       "      <td>8.51</td>\n",
       "      <td>4.01</td>\n",
       "      <td>7.91</td>\n",
       "      <td>9.46</td>\n",
       "    </tr>\n",
       "    <tr>\n",
       "      <th>2</th>\n",
       "      <td>8.13</td>\n",
       "      <td>8.18</td>\n",
       "      <td>7.68</td>\n",
       "      <td>2.2</td>\n",
       "      <td>7.11</td>\n",
       "      <td>8.91</td>\n",
       "      <td>5.05</td>\n",
       "      <td>8.8</td>\n",
       "      <td>10.64</td>\n",
       "      <td>4.86</td>\n",
       "      <td>...</td>\n",
       "      <td>8.51</td>\n",
       "      <td>11.31</td>\n",
       "      <td>5.76</td>\n",
       "      <td>7.43</td>\n",
       "      <td>10.39</td>\n",
       "      <td>8.23</td>\n",
       "      <td>9.49</td>\n",
       "      <td>4.7</td>\n",
       "      <td>7.14</td>\n",
       "      <td>7.02</td>\n",
       "    </tr>\n",
       "    <tr>\n",
       "      <th>3</th>\n",
       "      <td>7.94</td>\n",
       "      <td>8.26</td>\n",
       "      <td>7.37</td>\n",
       "      <td>2.2</td>\n",
       "      <td>6.98</td>\n",
       "      <td>11.81</td>\n",
       "      <td>4.16</td>\n",
       "      <td>10.07</td>\n",
       "      <td>10.64</td>\n",
       "      <td>4.3</td>\n",
       "      <td>...</td>\n",
       "      <td>8.4</td>\n",
       "      <td>10.2</td>\n",
       "      <td>5.35</td>\n",
       "      <td>8.42</td>\n",
       "      <td>9.44</td>\n",
       "      <td>7.87</td>\n",
       "      <td>8.64</td>\n",
       "      <td>4.78</td>\n",
       "      <td>6.13</td>\n",
       "      <td>10.57</td>\n",
       "    </tr>\n",
       "    <tr>\n",
       "      <th>4</th>\n",
       "      <td>8.7</td>\n",
       "      <td>8.08</td>\n",
       "      <td>8.27</td>\n",
       "      <td>2.2</td>\n",
       "      <td>7.45</td>\n",
       "      <td>7.9</td>\n",
       "      <td>5</td>\n",
       "      <td>8.66</td>\n",
       "      <td>10.41</td>\n",
       "      <td>5.07</td>\n",
       "      <td>...</td>\n",
       "      <td>8.9</td>\n",
       "      <td>10.77</td>\n",
       "      <td>6.6</td>\n",
       "      <td>7.8</td>\n",
       "      <td>9.39</td>\n",
       "      <td>8.74</td>\n",
       "      <td>9.61</td>\n",
       "      <td>5.13</td>\n",
       "      <td>6.73</td>\n",
       "      <td>5.31</td>\n",
       "    </tr>\n",
       "    <tr>\n",
       "      <th>5</th>\n",
       "      <td>8.97</td>\n",
       "      <td>8.2</td>\n",
       "      <td>8.87</td>\n",
       "      <td>2.2</td>\n",
       "      <td>6.98</td>\n",
       "      <td>11.49</td>\n",
       "      <td>3.47</td>\n",
       "      <td>9.97</td>\n",
       "      <td>11.63</td>\n",
       "      <td>4.65</td>\n",
       "      <td>...</td>\n",
       "      <td>9.15</td>\n",
       "      <td>11.9</td>\n",
       "      <td>7.34</td>\n",
       "      <td>8.26</td>\n",
       "      <td>8.81</td>\n",
       "      <td>8.12</td>\n",
       "      <td>9.93</td>\n",
       "      <td>7.07</td>\n",
       "      <td>6.84</td>\n",
       "      <td>3</td>\n",
       "    </tr>\n",
       "  </tbody>\n",
       "</table>\n",
       "<p>5 rows × 4654 columns</p>\n",
       "</div>"
      ],
      "text/plain": [
       "  x10006_at x10007_at x100129361_at x100130449_at x100130633_at x100133941_at  \\\n",
       "1      8.54      7.76          8.08           2.2          7.23         10.07   \n",
       "2      8.13      8.18          7.68           2.2          7.11          8.91   \n",
       "3      7.94      8.26          7.37           2.2          6.98         11.81   \n",
       "4       8.7      8.08          8.27           2.2          7.45           7.9   \n",
       "5      8.97       8.2          8.87           2.2          6.98         11.49   \n",
       "\n",
       "  x10014_at x10016_at x100188893_at x10019_at  ...   x9976_at x9978_at  \\\n",
       "1      4.16      9.77          10.7      5.35  ...       9.44    11.18   \n",
       "2      5.05       8.8         10.64      4.86  ...       8.51    11.31   \n",
       "3      4.16     10.07         10.64       4.3  ...        8.4     10.2   \n",
       "4         5      8.66         10.41      5.07  ...        8.9    10.77   \n",
       "5      3.47      9.97         11.63      4.65  ...       9.15     11.9   \n",
       "\n",
       "  x997_at x9984_at x9987_at x9988_at x9989_at x9994_at x9997_at  x9_at  \n",
       "1    6.65     7.92     9.32     8.48     8.51     4.01     7.91   9.46  \n",
       "2    5.76     7.43    10.39     8.23     9.49      4.7     7.14   7.02  \n",
       "3    5.35     8.42     9.44     7.87     8.64     4.78     6.13  10.57  \n",
       "4     6.6      7.8     9.39     8.74     9.61     5.13     6.73   5.31  \n",
       "5    7.34     8.26     8.81     8.12     9.93     7.07     6.84      3  \n",
       "\n",
       "[5 rows x 4654 columns]"
      ]
     },
     "execution_count": 37,
     "metadata": {},
     "output_type": "execute_result"
    }
   ],
   "source": [
    "xtest.head()"
   ]
  },
  {
   "cell_type": "code",
   "execution_count": 38,
   "metadata": {
    "scrolled": true
   },
   "outputs": [
    {
     "data": {
      "text/plain": [
       "True"
      ]
     },
     "execution_count": 38,
     "metadata": {},
     "output_type": "execute_result"
    }
   ],
   "source": [
    "np.all(xtrain.columns == xtest.columns)"
   ]
  },
  {
   "cell_type": "code",
   "execution_count": 39,
   "metadata": {},
   "outputs": [
    {
     "data": {
      "text/html": [
       "<div>\n",
       "<table border=\"1\" class=\"dataframe\">\n",
       "  <thead>\n",
       "    <tr style=\"text-align: right;\">\n",
       "      <th></th>\n",
       "      <th>x10006_at</th>\n",
       "      <th>x10007_at</th>\n",
       "      <th>x100129361_at</th>\n",
       "      <th>x100130449_at</th>\n",
       "      <th>x100130633_at</th>\n",
       "      <th>x100133941_at</th>\n",
       "      <th>x10014_at</th>\n",
       "      <th>x10016_at</th>\n",
       "      <th>x100188893_at</th>\n",
       "      <th>x10019_at</th>\n",
       "      <th>...</th>\n",
       "      <th>x9976_at</th>\n",
       "      <th>x9978_at</th>\n",
       "      <th>x997_at</th>\n",
       "      <th>x9984_at</th>\n",
       "      <th>x9987_at</th>\n",
       "      <th>x9988_at</th>\n",
       "      <th>x9989_at</th>\n",
       "      <th>x9994_at</th>\n",
       "      <th>x9997_at</th>\n",
       "      <th>x9_at</th>\n",
       "    </tr>\n",
       "  </thead>\n",
       "  <tbody>\n",
       "    <tr>\n",
       "      <th>count</th>\n",
       "      <td>184.00</td>\n",
       "      <td>184.00</td>\n",
       "      <td>184.00</td>\n",
       "      <td>184.0</td>\n",
       "      <td>184.00</td>\n",
       "      <td>184.00</td>\n",
       "      <td>184.00</td>\n",
       "      <td>184.00</td>\n",
       "      <td>184.00</td>\n",
       "      <td>184.00</td>\n",
       "      <td>...</td>\n",
       "      <td>184.00</td>\n",
       "      <td>184.00</td>\n",
       "      <td>184.00</td>\n",
       "      <td>184.00</td>\n",
       "      <td>184.00</td>\n",
       "      <td>184.00</td>\n",
       "      <td>184.00</td>\n",
       "      <td>184.0</td>\n",
       "      <td>184.00</td>\n",
       "      <td>184.0</td>\n",
       "    </tr>\n",
       "    <tr>\n",
       "      <th>unique</th>\n",
       "      <td>121.00</td>\n",
       "      <td>111.00</td>\n",
       "      <td>137.00</td>\n",
       "      <td>61.0</td>\n",
       "      <td>128.00</td>\n",
       "      <td>148.00</td>\n",
       "      <td>117.00</td>\n",
       "      <td>126.00</td>\n",
       "      <td>110.00</td>\n",
       "      <td>125.00</td>\n",
       "      <td>...</td>\n",
       "      <td>148.00</td>\n",
       "      <td>121.00</td>\n",
       "      <td>136.00</td>\n",
       "      <td>127.00</td>\n",
       "      <td>114.00</td>\n",
       "      <td>125.00</td>\n",
       "      <td>129.00</td>\n",
       "      <td>74.0</td>\n",
       "      <td>137.00</td>\n",
       "      <td>144.0</td>\n",
       "    </tr>\n",
       "    <tr>\n",
       "      <th>top</th>\n",
       "      <td>7.79</td>\n",
       "      <td>8.21</td>\n",
       "      <td>8.23</td>\n",
       "      <td>2.2</td>\n",
       "      <td>6.97</td>\n",
       "      <td>11.03</td>\n",
       "      <td>3.68</td>\n",
       "      <td>9.22</td>\n",
       "      <td>10.74</td>\n",
       "      <td>4.28</td>\n",
       "      <td>...</td>\n",
       "      <td>9.72</td>\n",
       "      <td>11.34</td>\n",
       "      <td>5.76</td>\n",
       "      <td>7.87</td>\n",
       "      <td>9.78</td>\n",
       "      <td>8.18</td>\n",
       "      <td>8.86</td>\n",
       "      <td>4.7</td>\n",
       "      <td>7.38</td>\n",
       "      <td>3.0</td>\n",
       "    </tr>\n",
       "    <tr>\n",
       "      <th>freq</th>\n",
       "      <td>13.00</td>\n",
       "      <td>6.00</td>\n",
       "      <td>5.00</td>\n",
       "      <td>105.0</td>\n",
       "      <td>9.00</td>\n",
       "      <td>5.00</td>\n",
       "      <td>5.00</td>\n",
       "      <td>4.00</td>\n",
       "      <td>4.00</td>\n",
       "      <td>14.00</td>\n",
       "      <td>...</td>\n",
       "      <td>3.00</td>\n",
       "      <td>4.00</td>\n",
       "      <td>19.00</td>\n",
       "      <td>5.00</td>\n",
       "      <td>4.00</td>\n",
       "      <td>4.00</td>\n",
       "      <td>4.00</td>\n",
       "      <td>49.0</td>\n",
       "      <td>10.00</td>\n",
       "      <td>29.0</td>\n",
       "    </tr>\n",
       "  </tbody>\n",
       "</table>\n",
       "<p>4 rows × 4654 columns</p>\n",
       "</div>"
      ],
      "text/plain": [
       "        x10006_at  x10007_at  x100129361_at  x100130449_at  x100130633_at  \\\n",
       "count      184.00     184.00         184.00          184.0         184.00   \n",
       "unique     121.00     111.00         137.00           61.0         128.00   \n",
       "top          7.79       8.21           8.23            2.2           6.97   \n",
       "freq        13.00       6.00           5.00          105.0           9.00   \n",
       "\n",
       "        x100133941_at  x10014_at  x10016_at  x100188893_at  x10019_at  ...    \\\n",
       "count          184.00     184.00     184.00         184.00     184.00  ...     \n",
       "unique         148.00     117.00     126.00         110.00     125.00  ...     \n",
       "top             11.03       3.68       9.22          10.74       4.28  ...     \n",
       "freq             5.00       5.00       4.00           4.00      14.00  ...     \n",
       "\n",
       "        x9976_at  x9978_at  x997_at  x9984_at  x9987_at  x9988_at  x9989_at  \\\n",
       "count     184.00    184.00   184.00    184.00    184.00    184.00    184.00   \n",
       "unique    148.00    121.00   136.00    127.00    114.00    125.00    129.00   \n",
       "top         9.72     11.34     5.76      7.87      9.78      8.18      8.86   \n",
       "freq        3.00      4.00    19.00      5.00      4.00      4.00      4.00   \n",
       "\n",
       "        x9994_at  x9997_at  x9_at  \n",
       "count      184.0    184.00  184.0  \n",
       "unique      74.0    137.00  144.0  \n",
       "top          4.7      7.38    3.0  \n",
       "freq        49.0     10.00   29.0  \n",
       "\n",
       "[4 rows x 4654 columns]"
      ]
     },
     "execution_count": 39,
     "metadata": {},
     "output_type": "execute_result"
    }
   ],
   "source": [
    "xtrain.describe()"
   ]
  },
  {
   "cell_type": "markdown",
   "metadata": {},
   "source": [
    "### Features Selection"
   ]
  },
  {
   "cell_type": "markdown",
   "metadata": {},
   "source": [
    "### split data"
   ]
  },
  {
   "cell_type": "code",
   "execution_count": 40,
   "metadata": {},
   "outputs": [],
   "source": [
    "Xtrain,Xtest, Ytrain, Ytest = train_test_split(xtrain, ytrain,test_size=0.34 )\n",
    "Xtrain,Xval, Ytrain, Yval = train_test_split(Xtrain, Ytrain,test_size=0.17 )"
   ]
  },
  {
   "cell_type": "code",
   "execution_count": 124,
   "metadata": {},
   "outputs": [
    {
     "data": {
      "text/plain": [
       "((100, 4654), (21, 4654), (63, 4654), (92, 4654))"
      ]
     },
     "execution_count": 124,
     "metadata": {},
     "output_type": "execute_result"
    }
   ],
   "source": [
    "Xtrain.shape, Xval.shape, Xtest.shape, xtest.shape"
   ]
  },
  {
   "cell_type": "code",
   "execution_count": 42,
   "metadata": {
    "scrolled": false
   },
   "outputs": [
    {
     "name": "stderr",
     "output_type": "stream",
     "text": [
      "/usr/local/lib/python3.5/dist-packages/ipykernel_launcher.py:4: DataConversionWarning: A column-vector y was passed when a 1d array was expected. Please change the shape of y to (n_samples,), for example using ravel().\n",
      "  after removing the cwd from sys.path.\n"
     ]
    }
   ],
   "source": [
    "np.random.seed(41)\n",
    "names = xtrain.columns.values\n",
    "rf = RandomForestClassifier()\n",
    "rf.fit(Xtrain, Ytrain)\n",
    "importances = []\n",
    "nameslist = []\n",
    "for name, importance in zip(names, rf.feature_importances_):\n",
    "    if importance != 0.0:\n",
    "        #print(name, \"=\", importance) \n",
    "        importances.append(importance)\n",
    "        nameslist.append(name)\n",
    "#features = iris['feature_names']\n",
    "# importances = rf.feature_importances_\n",
    "# indices = np.argsort(importances)\n"
   ]
  },
  {
   "cell_type": "code",
   "execution_count": 43,
   "metadata": {
    "scrolled": false
   },
   "outputs": [
    {
     "data": {
      "text/html": [
       "<div>\n",
       "<table border=\"1\" class=\"dataframe\">\n",
       "  <thead>\n",
       "    <tr style=\"text-align: right;\">\n",
       "      <th></th>\n",
       "      <th>Importance</th>\n",
       "    </tr>\n",
       "  </thead>\n",
       "  <tbody>\n",
       "    <tr>\n",
       "      <th>x149603_at</th>\n",
       "      <td>0.032118</td>\n",
       "    </tr>\n",
       "    <tr>\n",
       "      <th>x3321_at</th>\n",
       "      <td>0.030673</td>\n",
       "    </tr>\n",
       "    <tr>\n",
       "      <th>x6277_at</th>\n",
       "      <td>0.028427</td>\n",
       "    </tr>\n",
       "    <tr>\n",
       "      <th>x79170_at</th>\n",
       "      <td>0.028386</td>\n",
       "    </tr>\n",
       "    <tr>\n",
       "      <th>x377_at</th>\n",
       "      <td>0.026740</td>\n",
       "    </tr>\n",
       "    <tr>\n",
       "      <th>x23589_at</th>\n",
       "      <td>0.026471</td>\n",
       "    </tr>\n",
       "    <tr>\n",
       "      <th>x90362_at</th>\n",
       "      <td>0.025252</td>\n",
       "    </tr>\n",
       "    <tr>\n",
       "      <th>x10079_at</th>\n",
       "      <td>0.024367</td>\n",
       "    </tr>\n",
       "    <tr>\n",
       "      <th>x678_at</th>\n",
       "      <td>0.023712</td>\n",
       "    </tr>\n",
       "    <tr>\n",
       "      <th>x339448_at</th>\n",
       "      <td>0.023440</td>\n",
       "    </tr>\n",
       "    <tr>\n",
       "      <th>x28972_at</th>\n",
       "      <td>0.022416</td>\n",
       "    </tr>\n",
       "    <tr>\n",
       "      <th>x11316_at</th>\n",
       "      <td>0.020581</td>\n",
       "    </tr>\n",
       "    <tr>\n",
       "      <th>x51389_at</th>\n",
       "      <td>0.020521</td>\n",
       "    </tr>\n",
       "    <tr>\n",
       "      <th>x8904_at</th>\n",
       "      <td>0.020133</td>\n",
       "    </tr>\n",
       "    <tr>\n",
       "      <th>x51068_at</th>\n",
       "      <td>0.018913</td>\n",
       "    </tr>\n",
       "    <tr>\n",
       "      <th>x2958_at</th>\n",
       "      <td>0.018830</td>\n",
       "    </tr>\n",
       "    <tr>\n",
       "      <th>x10656_at</th>\n",
       "      <td>0.018674</td>\n",
       "    </tr>\n",
       "    <tr>\n",
       "      <th>x3071_at</th>\n",
       "      <td>0.016722</td>\n",
       "    </tr>\n",
       "    <tr>\n",
       "      <th>x3624_at</th>\n",
       "      <td>0.016640</td>\n",
       "    </tr>\n",
       "    <tr>\n",
       "      <th>x8996_at</th>\n",
       "      <td>0.015955</td>\n",
       "    </tr>\n",
       "    <tr>\n",
       "      <th>x10537_at</th>\n",
       "      <td>0.015524</td>\n",
       "    </tr>\n",
       "    <tr>\n",
       "      <th>x10749_at</th>\n",
       "      <td>0.015409</td>\n",
       "    </tr>\n",
       "    <tr>\n",
       "      <th>x10287_at</th>\n",
       "      <td>0.015394</td>\n",
       "    </tr>\n",
       "    <tr>\n",
       "      <th>x2487_at</th>\n",
       "      <td>0.014838</td>\n",
       "    </tr>\n",
       "    <tr>\n",
       "      <th>x123803_at</th>\n",
       "      <td>0.014778</td>\n",
       "    </tr>\n",
       "    <tr>\n",
       "      <th>x5577_at</th>\n",
       "      <td>0.014188</td>\n",
       "    </tr>\n",
       "    <tr>\n",
       "      <th>x8519_at</th>\n",
       "      <td>0.013494</td>\n",
       "    </tr>\n",
       "    <tr>\n",
       "      <th>x26000_at</th>\n",
       "      <td>0.013357</td>\n",
       "    </tr>\n",
       "    <tr>\n",
       "      <th>x4087_at</th>\n",
       "      <td>0.013300</td>\n",
       "    </tr>\n",
       "    <tr>\n",
       "      <th>x79064_at</th>\n",
       "      <td>0.012952</td>\n",
       "    </tr>\n",
       "    <tr>\n",
       "      <th>...</th>\n",
       "      <td>...</td>\n",
       "    </tr>\n",
       "    <tr>\n",
       "      <th>x10935_at</th>\n",
       "      <td>0.007748</td>\n",
       "    </tr>\n",
       "    <tr>\n",
       "      <th>x10923_at</th>\n",
       "      <td>0.007659</td>\n",
       "    </tr>\n",
       "    <tr>\n",
       "      <th>x23093_at</th>\n",
       "      <td>0.007654</td>\n",
       "    </tr>\n",
       "    <tr>\n",
       "      <th>x9266_at</th>\n",
       "      <td>0.007480</td>\n",
       "    </tr>\n",
       "    <tr>\n",
       "      <th>x8775_at</th>\n",
       "      <td>0.007275</td>\n",
       "    </tr>\n",
       "    <tr>\n",
       "      <th>x834_at</th>\n",
       "      <td>0.006791</td>\n",
       "    </tr>\n",
       "    <tr>\n",
       "      <th>x54930_at</th>\n",
       "      <td>0.006784</td>\n",
       "    </tr>\n",
       "    <tr>\n",
       "      <th>x6636_at</th>\n",
       "      <td>0.006233</td>\n",
       "    </tr>\n",
       "    <tr>\n",
       "      <th>x26053_at</th>\n",
       "      <td>0.005946</td>\n",
       "    </tr>\n",
       "    <tr>\n",
       "      <th>x5184_at</th>\n",
       "      <td>0.005662</td>\n",
       "    </tr>\n",
       "    <tr>\n",
       "      <th>x87_at</th>\n",
       "      <td>0.004992</td>\n",
       "    </tr>\n",
       "    <tr>\n",
       "      <th>x23312_at</th>\n",
       "      <td>0.004798</td>\n",
       "    </tr>\n",
       "    <tr>\n",
       "      <th>x6352_at</th>\n",
       "      <td>0.004777</td>\n",
       "    </tr>\n",
       "    <tr>\n",
       "      <th>x11196_at</th>\n",
       "      <td>0.004623</td>\n",
       "    </tr>\n",
       "    <tr>\n",
       "      <th>x5702_at</th>\n",
       "      <td>0.004612</td>\n",
       "    </tr>\n",
       "    <tr>\n",
       "      <th>x1730_at</th>\n",
       "      <td>0.004515</td>\n",
       "    </tr>\n",
       "    <tr>\n",
       "      <th>x387_at</th>\n",
       "      <td>0.004422</td>\n",
       "    </tr>\n",
       "    <tr>\n",
       "      <th>x9255_at</th>\n",
       "      <td>0.004359</td>\n",
       "    </tr>\n",
       "    <tr>\n",
       "      <th>x3561_at</th>\n",
       "      <td>0.004325</td>\n",
       "    </tr>\n",
       "    <tr>\n",
       "      <th>x9166_at</th>\n",
       "      <td>0.004170</td>\n",
       "    </tr>\n",
       "    <tr>\n",
       "      <th>x23360_at</th>\n",
       "      <td>0.004091</td>\n",
       "    </tr>\n",
       "    <tr>\n",
       "      <th>x27346_at</th>\n",
       "      <td>0.003900</td>\n",
       "    </tr>\n",
       "    <tr>\n",
       "      <th>x19_at</th>\n",
       "      <td>0.003896</td>\n",
       "    </tr>\n",
       "    <tr>\n",
       "      <th>x23304_at</th>\n",
       "      <td>0.003885</td>\n",
       "    </tr>\n",
       "    <tr>\n",
       "      <th>x28984_at</th>\n",
       "      <td>0.003740</td>\n",
       "    </tr>\n",
       "    <tr>\n",
       "      <th>x5573_at</th>\n",
       "      <td>0.003396</td>\n",
       "    </tr>\n",
       "    <tr>\n",
       "      <th>x55186_at</th>\n",
       "      <td>0.003117</td>\n",
       "    </tr>\n",
       "    <tr>\n",
       "      <th>x22875_at</th>\n",
       "      <td>0.003117</td>\n",
       "    </tr>\n",
       "    <tr>\n",
       "      <th>x54585_at</th>\n",
       "      <td>0.002338</td>\n",
       "    </tr>\n",
       "    <tr>\n",
       "      <th>x10585_at</th>\n",
       "      <td>0.002224</td>\n",
       "    </tr>\n",
       "  </tbody>\n",
       "</table>\n",
       "<p>85 rows × 1 columns</p>\n",
       "</div>"
      ],
      "text/plain": [
       "            Importance\n",
       "x149603_at    0.032118\n",
       "x3321_at      0.030673\n",
       "x6277_at      0.028427\n",
       "x79170_at     0.028386\n",
       "x377_at       0.026740\n",
       "x23589_at     0.026471\n",
       "x90362_at     0.025252\n",
       "x10079_at     0.024367\n",
       "x678_at       0.023712\n",
       "x339448_at    0.023440\n",
       "x28972_at     0.022416\n",
       "x11316_at     0.020581\n",
       "x51389_at     0.020521\n",
       "x8904_at      0.020133\n",
       "x51068_at     0.018913\n",
       "x2958_at      0.018830\n",
       "x10656_at     0.018674\n",
       "x3071_at      0.016722\n",
       "x3624_at      0.016640\n",
       "x8996_at      0.015955\n",
       "x10537_at     0.015524\n",
       "x10749_at     0.015409\n",
       "x10287_at     0.015394\n",
       "x2487_at      0.014838\n",
       "x123803_at    0.014778\n",
       "x5577_at      0.014188\n",
       "x8519_at      0.013494\n",
       "x26000_at     0.013357\n",
       "x4087_at      0.013300\n",
       "x79064_at     0.012952\n",
       "...                ...\n",
       "x10935_at     0.007748\n",
       "x10923_at     0.007659\n",
       "x23093_at     0.007654\n",
       "x9266_at      0.007480\n",
       "x8775_at      0.007275\n",
       "x834_at       0.006791\n",
       "x54930_at     0.006784\n",
       "x6636_at      0.006233\n",
       "x26053_at     0.005946\n",
       "x5184_at      0.005662\n",
       "x87_at        0.004992\n",
       "x23312_at     0.004798\n",
       "x6352_at      0.004777\n",
       "x11196_at     0.004623\n",
       "x5702_at      0.004612\n",
       "x1730_at      0.004515\n",
       "x387_at       0.004422\n",
       "x9255_at      0.004359\n",
       "x3561_at      0.004325\n",
       "x9166_at      0.004170\n",
       "x23360_at     0.004091\n",
       "x27346_at     0.003900\n",
       "x19_at        0.003896\n",
       "x23304_at     0.003885\n",
       "x28984_at     0.003740\n",
       "x5573_at      0.003396\n",
       "x55186_at     0.003117\n",
       "x22875_at     0.003117\n",
       "x54585_at     0.002338\n",
       "x10585_at     0.002224\n",
       "\n",
       "[85 rows x 1 columns]"
      ]
     },
     "execution_count": 43,
     "metadata": {},
     "output_type": "execute_result"
    }
   ],
   "source": [
    "featuresImportances = pd.DataFrame(importances, index=nameslist, \n",
    "                              columns=[\"Importance\"])\n",
    "featuresImportances = featuresImportances.sort_values(by=['Importance'], ascending=False)\n",
    "featuresImportances"
   ]
  },
  {
   "cell_type": "code",
   "execution_count": 44,
   "metadata": {
    "scrolled": false
   },
   "outputs": [
    {
     "data": {
      "image/png": "[encoded data removed]",
      "text/plain": [
       "<Figure size 720x720 with 1 Axes>"
      ]
     },
     "metadata": {
      "needs_background": "light"
     },
     "output_type": "display_data"
    }
   ],
   "source": [
    "nameslist = np.array(nameslist)\n",
    "importances.sort()\n",
    "plt.figure(figsize=(10,10))\n",
    "plt.title('Feature Importances')\n",
    "plt.barh(range(len(importances)), importances, align='center')\n",
    "#plt.yticks(range(len(nameslist)), [nameslist[i] for i in range(len(nameslist))])\n",
    "plt.xlabel('Relative Importance')\n",
    "plt.ylabel('Features')\n",
    "plt.show()"
   ]
  },
  {
   "cell_type": "markdown",
   "metadata": {},
   "source": [
    "### Plot Area Under Curve"
   ]
  },
  {
   "cell_type": "code",
   "execution_count": 45,
   "metadata": {},
   "outputs": [],
   "source": [
    "from sklearn import metrics \n",
    "def plot_roc(model, parameters, y_true):\n",
    "    \"\"\"\n",
    "    Arguments:\n",
    "    model - trained model .\n",
    "    parameters - array-like or sparse matrix of shape  [n_samples, n_features]. The input samples. \n",
    "    y_true - True binary labels in range {0, 1} or {-1, 1}. If labels are not binary, pos_label should be explicitly given.\n",
    "    \"\"\"\n",
    "    if model is None:\n",
    "        return 0., 0., np.array([])\n",
    "    \n",
    "    predicted = model.predict_proba(parameters)[:,1]\n",
    "    threshold = 0.5\n",
    "    predicted_binary = (predicted > threshold).astype(int)\n",
    "    \n",
    "    fpr, tpr, threshold = metrics.roc_curve(y_true, predicted, pos_label=1)\n",
    "\n",
    "    roc_auc = metrics.auc(fpr, tpr) \n",
    "    ks = np.max(tpr - fpr) # Kolmogorov-Smirnov test\n",
    "\n",
    "#     print('ROC_auc = ', roc_auc)\n",
    "#     print('KS_test = ', ks)\n",
    "    print('AUC score: %f ' % metrics.roc_auc_score(y_true, predicted)) \n",
    "\n",
    "    try:\n",
    "        plt.title('%s ROC curve ' % model.__class__.__name__)\n",
    "        plt.plot(fpr, tpr, 'b', label='AUC = %0.2f' % roc_auc)\n",
    "        plt.legend(loc='lower right')\n",
    "        plt.plot([0,1], [0,1], 'r--')\n",
    "        plt.xlabel('False positive rate')\n",
    "        plt.ylabel('True positive rate')\n",
    "\n",
    "        # plt.savefig('ROC_curve.png')\n",
    "        plt.show()\n",
    "    except: pass\n",
    "    return threshold"
   ]
  },
  {
   "cell_type": "markdown",
   "metadata": {},
   "source": [
    "### Grid Search for Random Forest Hyperparameter tuning"
   ]
  },
  {
   "cell_type": "code",
   "execution_count": null,
   "metadata": {},
   "outputs": [],
   "source": [
    "param_grid = {\n",
    "    'bootstrap': [True, False],\n",
    "    'max_depth': [int(x) for x in np.linspace(10, 110, num = 11)],\n",
    "    'max_features': [81, 91, 101, 107],\n",
    "    'min_samples_leaf': [3, 4, 5],\n",
    "    'min_samples_split': [1, 2, 3],\n",
    "    'n_estimators': [int(x) for x in np.linspace(start = 200, stop = 2000, num = 5)]\n",
    "}\n",
    "# Create a based model\n",
    "rfmodel = RandomForestRegressor()\n",
    "# Instantiate the grid search model\n",
    "grid_search = GridSearchCV(estimator = rfmodel, param_grid = param_grid, \n",
    "                          cv = 2, n_jobs = -1, verbose = 2)\n",
    "\n",
    "# Fit the grid search to the data\n",
    "#Ytrain = ytrain.reshape(len(Ytrain),)\n",
    "grid_search.fit(Xtrain,Ytrain)\n",
    "grid_search.best_params_"
   ]
  },
  {
   "cell_type": "code",
   "execution_count": null,
   "metadata": {
    "scrolled": false
   },
   "outputs": [],
   "source": [
    "rfmodel = RandomForestRegressor(bootstrap= False,\n",
    "                                 max_depth = 50,\n",
    "                                 max_features = 107,\n",
    "                                 min_samples_leaf = 4,\n",
    "                                 min_samples_split = 2,\n",
    "                                 n_estimators = 200)\n",
    "rfmodel.fit(Xtrain, Ytrain)\n"
   ]
  },
  {
   "cell_type": "markdown",
   "metadata": {},
   "source": [
    "### Logistic Regression"
   ]
  },
  {
   "cell_type": "code",
   "execution_count": 46,
   "metadata": {},
   "outputs": [],
   "source": [
    "Xtrain, Ytrain = np.array(Xtrain), np.array(Ytrain)[:,0]"
   ]
  },
  {
   "cell_type": "code",
   "execution_count": 47,
   "metadata": {},
   "outputs": [
    {
     "name": "stdout",
     "output_type": "stream",
     "text": [
      "tuned hpyerparameters :(best parameters)  {'penalty': 'l1', 'C': 0.01}\n",
      "accuracy : 0.66\n"
     ]
    }
   ],
   "source": [
    "# Grid search cross validation\n",
    "np.random.seed(41)\n",
    "grid={\"C\":np.linspace(10e-3,10,10), \"penalty\":[\"l1\",\"l2\"]}# l1 lasso l2 ridge\n",
    "logreg=LogisticRegression()\n",
    "logreg_cv=GridSearchCV(logreg,grid,cv=10)\n",
    "logreg_cv.fit(Xtrain,Ytrain)\n",
    "\n",
    "print(\"tuned hpyerparameters :(best parameters) \",logreg_cv.best_params_)\n",
    "print(\"accuracy :\",logreg_cv.best_score_)"
   ]
  },
  {
   "cell_type": "code",
   "execution_count": 48,
   "metadata": {},
   "outputs": [
    {
     "name": "stdout",
     "output_type": "stream",
     "text": [
      "score 0.7142857142857143\n"
     ]
    }
   ],
   "source": [
    "logreg2=LogisticRegression(C= 4.45,penalty=\"l1\")\n",
    "logreg2.fit(Xtrain,Ytrain)\n",
    "print(\"score\",logreg2.score(Xval,Yval))"
   ]
  },
  {
   "cell_type": "code",
   "execution_count": 49,
   "metadata": {},
   "outputs": [
    {
     "name": "stdout",
     "output_type": "stream",
     "text": [
      "score 0.5555555555555556\n"
     ]
    }
   ],
   "source": [
    "print(\"score\",logreg2.score(Xtest,Ytest))"
   ]
  },
  {
   "cell_type": "code",
   "execution_count": 50,
   "metadata": {},
   "outputs": [
    {
     "name": "stdout",
     "output_type": "stream",
     "text": [
      "AUC score: 0.592516 \n"
     ]
    },
    {
     "data": {
      "image/png": "[encoded data removed]",
      "text/plain": [
       "<Figure size 432x288 with 1 Axes>"
      ]
     },
     "metadata": {
      "needs_background": "light"
     },
     "output_type": "display_data"
    }
   ],
   "source": [
    "threshold = plot_roc(logreg2, Xtest, Ytest)"
   ]
  },
  {
   "cell_type": "markdown",
   "metadata": {},
   "source": [
    "### SVM"
   ]
  },
  {
   "cell_type": "code",
   "execution_count": 51,
   "metadata": {},
   "outputs": [],
   "source": [
    "def svc_param_selection(X, y, nfolds):\n",
    "    np.random.seed(41)\n",
    "    Cs = [0.001, 0.01, 0.1, 1, 10, 100]\n",
    "    gammas = [0.001, 0.01, 0.1, 1]\n",
    "    kernels = ['linear', 'rbf']\n",
    "    param_grid = {'C': Cs, 'gamma' : gammas, 'kernel': kernels}\n",
    "    grid_search = GridSearchCV(SVC(), param_grid, cv=nfolds)\n",
    "    grid_search.fit(X, y)\n",
    "    grid_search.best_params_\n",
    "    return grid_search.best_params_"
   ]
  },
  {
   "cell_type": "code",
   "execution_count": 52,
   "metadata": {},
   "outputs": [
    {
     "data": {
      "text/plain": [
       "{'C': 0.001, 'gamma': 0.001, 'kernel': 'rbf'}"
      ]
     },
     "execution_count": 52,
     "metadata": {},
     "output_type": "execute_result"
    }
   ],
   "source": [
    "svc_param_selection(Xtrain, Ytrain, 10)"
   ]
  },
  {
   "cell_type": "code",
   "execution_count": 53,
   "metadata": {},
   "outputs": [
    {
     "data": {
      "text/plain": [
       "SVC(C=0.001, cache_size=200, class_weight=None, coef0=0.0,\n",
       "  decision_function_shape=None, degree=3, gamma=0.001, kernel='rbf',\n",
       "  max_iter=-1, probability=True, random_state=None, shrinking=True,\n",
       "  tol=0.001, verbose=False)"
      ]
     },
     "execution_count": 53,
     "metadata": {},
     "output_type": "execute_result"
    }
   ],
   "source": [
    "svcmodel = SVC(C = 0.001, gamma=0.001, kernel='rbf', probability=True)\n",
    "svcmodel.fit(Xtrain, Ytrain)"
   ]
  },
  {
   "cell_type": "code",
   "execution_count": 54,
   "metadata": {},
   "outputs": [
    {
     "name": "stdout",
     "output_type": "stream",
     "text": [
      "Validation score 0.7142857142857143\n",
      "--------------------------------------------\n",
      "test score 0.5873015873015873\n",
      "--------------------------------------------\n",
      "AUC score: 0.606029 \n"
     ]
    },
    {
     "data": {
      "image/png": "[encoded data removed]",
      "text/plain": [
       "<Figure size 432x288 with 1 Axes>"
      ]
     },
     "metadata": {
      "needs_background": "light"
     },
     "output_type": "display_data"
    }
   ],
   "source": [
    "print(\"Validation score\",svcmodel.score(Xval,Yval))\n",
    "print(\"--------------------------------------------\")\n",
    "print(\"test score\",svcmodel.score(Xtest,Ytest))\n",
    "print(\"--------------------------------------------\")\n",
    "threshold = plot_roc(svcmodel, Xtest, Ytest)"
   ]
  },
  {
   "cell_type": "code",
   "execution_count": 58,
   "metadata": {},
   "outputs": [],
   "source": [
    "# The confusion matrix helps visualize the performance of the algorithm.\n",
    "y_pred = svcmodel.predict(Xtest)\n",
    "cm = metrics.confusion_matrix(Ytest, y_pred)\n",
    "#print(cm)"
   ]
  },
  {
   "cell_type": "code",
   "execution_count": 59,
   "metadata": {},
   "outputs": [
    {
     "data": {
      "image/png": "[encoded data removed]",
      "text/plain": [
       "<Figure size 360x360 with 1 Axes>"
      ]
     },
     "metadata": {
      "needs_background": "light"
     },
     "output_type": "display_data"
    },
    {
     "name": "stdout",
     "output_type": "stream",
     "text": [
      "             precision    recall  f1-score   support\n",
      "\n",
      "         -1       0.59      1.00      0.74        37\n",
      "          1       0.00      0.00      0.00        26\n",
      "\n",
      "avg / total       0.34      0.59      0.43        63\n",
      "\n"
     ]
    }
   ],
   "source": [
    "from IPython.display import Image, display\n",
    "\n",
    "fig, ax = plt.subplots(figsize=(5, 5))\n",
    "ax.matshow(cm, cmap=plt.cm.Reds, alpha=0.3)\n",
    "for i in range(cm.shape[0]):\n",
    "     for j in range(cm.shape[1]):\n",
    "        ax.text(x=j, y=i,\n",
    "                s=cm[i, j], \n",
    "                va='center', ha='center')\n",
    "plt.xlabel('Predicted Values', )\n",
    "plt.ylabel('Actual Values')\n",
    "plt.show()\n",
    "print(classification_report(Ytest, y_pred ))"
   ]
  },
  {
   "cell_type": "code",
   "execution_count": 66,
   "metadata": {},
   "outputs": [],
   "source": [
    "probs = svcmodel.predict_log_proba(xtest)  "
   ]
  },
  {
   "cell_type": "markdown",
   "metadata": {},
   "source": [
    "### KNN"
   ]
  },
  {
   "cell_type": "code",
   "execution_count": 77,
   "metadata": {},
   "outputs": [],
   "source": [
    "def KNN_param_selection(X, y):\n",
    "    np.random.seed(41)\n",
    "    k_range = list(range(1, 20))\n",
    "    \n",
    "    weight_options = ['uniform', 'distance']\n",
    "    param_grid = dict(n_neighbors=k_range, weights=weight_options)\n",
    "    knn = KNeighborsClassifier()\n",
    "    # instantiate the grid\n",
    "    grid = GridSearchCV(knn, param_grid, cv=10)\n",
    "    # fit the grid with data\n",
    "    grid.fit(X, y)\n",
    "    return grid.best_params_"
   ]
  },
  {
   "cell_type": "code",
   "execution_count": 78,
   "metadata": {},
   "outputs": [
    {
     "data": {
      "text/plain": [
       "{'n_neighbors': 1, 'weights': 'uniform'}"
      ]
     },
     "execution_count": 78,
     "metadata": {},
     "output_type": "execute_result"
    }
   ],
   "source": [
    "KNN_param_selection(Xtrain, Ytrain)"
   ]
  },
  {
   "cell_type": "code",
   "execution_count": 80,
   "metadata": {},
   "outputs": [
    {
     "data": {
      "text/plain": [
       "KNeighborsClassifier(algorithm='auto', leaf_size=30, metric='minkowski',\n",
       "           metric_params=None, n_jobs=1, n_neighbors=1, p=2,\n",
       "           weights='uniform')"
      ]
     },
     "execution_count": 80,
     "metadata": {},
     "output_type": "execute_result"
    }
   ],
   "source": [
    "knnmodel = KNeighborsClassifier(n_neighbors=1, weights='uniform')\n",
    "knnmodel.fit(Xtrain, Ytrain)"
   ]
  },
  {
   "cell_type": "code",
   "execution_count": 81,
   "metadata": {
    "scrolled": false
   },
   "outputs": [
    {
     "name": "stdout",
     "output_type": "stream",
     "text": [
      "Validation score 0.5238095238095238\n",
      "--------------------------------------------\n",
      "test score 0.6349206349206349\n",
      "--------------------------------------------\n",
      "AUC score: 0.597713 \n"
     ]
    },
    {
     "data": {
      "image/png": "[encoded data removed]",
      "text/plain": [
       "<Figure size 432x288 with 1 Axes>"
      ]
     },
     "metadata": {
      "needs_background": "light"
     },
     "output_type": "display_data"
    }
   ],
   "source": [
    "print(\"Validation score\",knnmodel.score(Xval,Yval))\n",
    "print(\"--------------------------------------------\")\n",
    "print(\"test score\",knnmodel.score(Xtest,Ytest))\n",
    "print(\"--------------------------------------------\")\n",
    "threshold = plot_roc(knnmodel, Xtest, Ytest)"
   ]
  },
  {
   "cell_type": "markdown",
   "metadata": {},
   "source": [
    "### Gradient Boosting Classifier"
   ]
  },
  {
   "cell_type": "code",
   "execution_count": 97,
   "metadata": {},
   "outputs": [
    {
     "data": {
      "text/plain": [
       "0.6666666666666666"
      ]
     },
     "execution_count": 97,
     "metadata": {},
     "output_type": "execute_result"
    }
   ],
   "source": [
    "clf = GradientBoostingClassifier(n_estimators=100, learning_rate=1.0,\n",
    "     max_depth=1, random_state=0).fit(Xtrain, Ytrain)\n",
    "clf.score(Xtest, Ytest)"
   ]
  },
  {
   "cell_type": "code",
   "execution_count": 104,
   "metadata": {},
   "outputs": [
    {
     "name": "stdout",
     "output_type": "stream",
     "text": [
      "AUC score: 0.688150 \n"
     ]
    },
    {
     "data": {
      "image/png": "[encoded data removed]",
      "text/plain": [
       "<Figure size 432x288 with 1 Axes>"
      ]
     },
     "metadata": {
      "needs_background": "light"
     },
     "output_type": "display_data"
    }
   ],
   "source": [
    "threshold = plot_roc(clf, Xtest, Ytest)"
   ]
  },
  {
   "cell_type": "markdown",
   "metadata": {},
   "source": [
    "### Voting"
   ]
  },
  {
   "cell_type": "code",
   "execution_count": 100,
   "metadata": {},
   "outputs": [],
   "source": [
    "from sklearn.ensemble import VotingClassifier\n",
    "ensemble=VotingClassifier(estimators=[('Logreg', logreg2), ('SVM', svcmodel), ('KNN', knnmodel), ('clf', clf)], \n",
    "                       voting='soft', weights=[1,2,3,2,]).fit(Xtrain,Ytrain)"
   ]
  },
  {
   "cell_type": "code",
   "execution_count": 102,
   "metadata": {},
   "outputs": [
    {
     "name": "stdout",
     "output_type": "stream",
     "text": [
      "The accuracy is: 0.6190476190476191\n"
     ]
    },
    {
     "name": "stderr",
     "output_type": "stream",
     "text": [
      "/usr/lib/python3/dist-packages/sklearn/preprocessing/label.py:167: DeprecationWarning: The truth value of an empty array is ambiguous. Returning False, but in future this will result in an error. Use `array.size > 0` to check that an array is not empty.\n",
      "  if diff:\n"
     ]
    }
   ],
   "source": [
    "print('The accuracy is:',ensemble.score(Xtest,Ytest))"
   ]
  },
  {
   "cell_type": "code",
   "execution_count": 103,
   "metadata": {
    "scrolled": true
   },
   "outputs": [
    {
     "name": "stdout",
     "output_type": "stream",
     "text": [
      "AUC score: 0.698545 \n"
     ]
    },
    {
     "data": {
      "image/png": "[encoded data removed]",
      "text/plain": [
       "<Figure size 432x288 with 1 Axes>"
      ]
     },
     "metadata": {
      "needs_background": "light"
     },
     "output_type": "display_data"
    }
   ],
   "source": [
    "threshold = plot_roc(ensemble, Xtest, Ytest)"
   ]
  },
  {
   "cell_type": "markdown",
   "metadata": {},
   "source": [
    "### Neural Network:"
   ]
  },
  {
   "cell_type": "code",
   "execution_count": null,
   "metadata": {},
   "outputs": [],
   "source": []
  }
 ],
 "metadata": {
  "kernelspec": {
   "display_name": "Python 3",
   "language": "python",
   "name": "python3"
  },
  "language_info": {
   "codemirror_mode": {
    "name": "ipython",
    "version": 3
   },
   "file_extension": ".py",
   "mimetype": "text/x-python",
   "name": "python",
   "nbconvert_exporter": "python",
   "pygments_lexer": "ipython3",
   "version": "3.5.3"
  }
 },
 "nbformat": 4,
 "nbformat_minor": 2
}
